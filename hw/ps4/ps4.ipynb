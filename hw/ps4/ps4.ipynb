{
 "cells": [
  {
   "cell_type": "markdown",
   "id": "RtyaMANFEZKH",
   "metadata": {
    "id": "RtyaMANFEZKH"
   },
   "source": [
    "# CS541: Applied Machine Learning, Spring 2025, Problem Set 4\n",
    "\n",
    "Problem set 4 is due in Gradescope on **April 10, Thursday at 11:59pm**.\n",
    "All the questions are in this jupyter notebook file. There are four questions in this assignment, each of which could have multiple parts and consists of a mix of coding and short answer questions. This assignment is worth a total of **100 points** (**80 pts** coding, and **20 pts** short answer).  There is a bonus question at the end which is worth an extra 10 pts but your maximum final score will be capped at 100 if you scored beyond 100. Note that each individual pset contributes the same amount to the final grade regardless of the number of points it is worth.\n",
    "\n",
    "After completing these questions you will need to covert this notebook into a .py file named **ps4.py** and a pdf file named **ps4.pdf** in order to submit it (details below).\n",
    "\n",
    "**Submission instructions:** please upload your completed solution files to Gradescope by the due date. **Make sure you have run all code cells and rendered all markdown/Latex without any errors.**\n",
    "\n",
    "**THE SUBMISSION IS DUE BY April 10, Thursday at 11:59pm. **\n",
    "\n",
    "There will be three separate submission links for the assignment:\n",
    "1. Submit **ps3.py** to `PS4-Code`\n",
    "2. Submit **ONLY your typed code** to `PS4-Typed Code`.\n",
    "  + The .py file should contain **ONLY your typed code** (Do not include any other code apart from what you coded for the assignment).\n",
    "  + The .py should not contain any written answers. Only the code you wrote.\n",
    "  + If your typed code falls under a function definition thats predefined by us, **ONLY include your typed code** and nothing else.\n",
    "  + For each cell block within colab/jupyter that you typed your ocde in, Add 2 new lines (\"\\n\") before pasting your typed code in the .py file.\n",
    "  + Please name the .py file your actual name.\n",
    "\n",
    "3. Submit a single `.pdf` report that contains your work for all written questions to `PS4`. You can type your responses in LaTeX, or any other word processing software.  You can also hand write them on a tablet, or scan in hand-written answers. If you hand-write, please make sure they are neat and legible. If you are scanning, make sure that the scans are legible. Lastly, convert your work into a `PDF`. You can use Jupyter Notebook to convert the formats:\n",
    "  + Convert to PDF file: Go to File->Download as->PDF\n",
    "  + Convert py file: Go to File->Download as->py\\\n",
    "You can take a look at an example [here](https://raw.githubusercontent.com/chaudatascience/cs599_fall2022/master/ps1/convert_py.gif)\n",
    "\n",
    "  Your written responses in the PDF report should be self-contained. It should include all the output you want us to look at. **You will not receive credit for any results you have obtained, but failed to include directly in the PDF report file.  Please tag the reponses in your PDF with the Gradescope questions outline  as described in [Submitting an Assignment](https://youtu.be/u-pK4GzpId0). Failure to follow these instructions will result in a loss of points.**"
   ]
  },
  {
   "cell_type": "markdown",
   "id": "dad472e7",
   "metadata": {
    "id": "dad472e7"
   },
   "source": [
    "**Assignment Setup**\n",
    "\n",
    "You are strongly encouraged to use [Google Colab](https://colab.research.google.com/) for this assignment.\n",
    "\n",
    "If you would prefer to setup your code locally on your own machine, you will need [Jupyter Notebook](https://jupyter.org/install#jupyter-notebook) or [JupyterLab](https://jupyter.org/install#jupyterlab) installation. One way to set it up is to install “Anaconda” distribution, which has Python (you should install python version >= 3.9 as this notebook is tested with python 3.9), several libraries including the Jupyter Notebook that we will use in class. It is available for Windows, Linux, and Mac OS X [here](https://docs.conda.io/en/latest/miniconda.html).\n",
    "\n",
    "If you are not familiar with Jupyter Notebook, you can follow [this blog](https://realpython.com/jupyter-notebook-introduction/) for an introduction.  After developing your code using Jupyter, you are encouraged to test it on Google Colab to ensure it works in both settings.\n",
    "\n",
    "\n",
    "You cannot use packages other than the ones already imported in this assignment.\n"
   ]
  },
  {
   "cell_type": "markdown",
   "id": "2ef66d49",
   "metadata": {
    "id": "2ef66d49"
   },
   "source": [
    "**Jupyter Tip 1**: To run a cell, press `Shift+Enter` or click on \"play\" button above. To edit any code or text cell [double] click on its content. To change cell type, choose \"Markdown\" or \"Code\" in the drop-down menu above.\n"
   ]
  },
  {
   "cell_type": "markdown",
   "id": "d10ed722",
   "metadata": {
    "id": "d10ed722"
   },
   "source": [
    "**Jupyter Tip 2**: Use shortcut \"Shift + Tab\" to show the documentation of a function in Jupyter Notebook/ Jupterlab. Press Shift then double Tab (i.e., press Tab twice) to show the full documentation.\\\n",
    "For example, type `sum(` then Shift + Tab to show the documentation for the function, as shown in this the picture below."
   ]
  },
  {
   "cell_type": "code",
   "execution_count": 2,
   "id": "557d9f4e",
   "metadata": {
    "id": "557d9f4e"
   },
   "outputs": [],
   "source": [
    "## import some libraries\n",
    "import sklearn\n",
    "from sklearn import datasets\n",
    "import numpy as np\n",
    "from typing import Tuple, List, Dict\n",
    "import pandas as pd\n",
    "import matplotlib.pyplot as plt\n",
    "import seaborn as sns\n",
    "from sklearn.preprocessing import StandardScaler\n",
    "from sklearn.model_selection import cross_val_score, train_test_split\n",
    "from sklearn.metrics import mean_squared_error\n",
    "from scipy.spatial.distance import cdist\n",
    "from sklearn import tree\n",
    "from tqdm import tqdm\n",
    "import torch\n",
    "from torch import Tensor\n",
    "import numpy as np\n",
    "from typing import Tuple, List, Dict\n",
    "import pandas as pd\n",
    "import matplotlib\n",
    "import matplotlib.pyplot as plt\n",
    "from collections import namedtuple\n",
    "from IPython.display import display,Image\n",
    "import random\n"
   ]
  },
  {
   "cell_type": "markdown",
   "id": "a2e71803",
   "metadata": {
    "id": "a2e71803"
   },
   "source": [
    "# **Question 1.** Markov Decision Process (*5 total points*)\n",
    "The Markov property states that the future depends only on the present and not on the past. The Markov chain is the probabilistic model that solely depends on the current state to predict the next state. In this section, we will join a dice game to determine a MDP."
   ]
  },
  {
   "cell_type": "markdown",
   "id": "07c62a81",
   "metadata": {
    "id": "07c62a81"
   },
   "source": [
    "## **1.1 Short answer:** Dice game *(5 pts)*\n",
    "\n",
    "Assume you are in Las Vegas, sitting on a playing slot machines for dice game.\n",
    "\n",
    "For each round r = 1, 2, . . .  you choose **stay** or **quit**.\n",
    "\n",
    "   • If **quit**, you get $10 and we end the game.\n",
    "\n",
    "   • If **stay**, you get $4 and then roll a 6-sided dice.\n",
    "\n",
    "       – If the dice results in 1 or 2, we end the game.\n",
    "\n",
    "       – Otherwise, continue to the next round.\n",
    "       \n",
    "**Question:** Define states, actions, and determine the transition probabilities T(state, action, new_state) for the game.\n"
   ]
  },
  {
   "cell_type": "markdown",
   "id": "3f9ada90",
   "metadata": {
    "id": "3f9ada90"
   },
   "source": [
    "Write your answer in this block\n",
    "\n",
    "**Answer:**\n",
    "\n",
    "States:\t\n",
    "* s: A general “playing” state. \n",
    "* end: The terminal state (game over).\n",
    "\n",
    "Actions:\n",
    "* stay: Continue playing the game.\n",
    "* quit: End the game.\n",
    "\n",
    "Transition probabilities:\n",
    "* T(s, quit, end) = 1\n",
    "* T(s, stay, s) = 1/3 (Roll dice and get 1 or 2)\n",
    "* T(s, stay, end) = 2/3 (Roll dice and get 3, 4, 5, or 6)"
   ]
  },
  {
   "cell_type": "markdown",
   "id": "c99234da",
   "metadata": {
    "id": "c99234da"
   },
   "source": [
    "# **Question 2.1.** Hidden Markov Models (HMMs) (*2.5 total points*)\n",
    "\n",
    "Here is a nice brief tutorial on HMMs: https://web.stanford.edu/~jurafsky/slp3/A.pdf .\n",
    "\n",
    "Given a 3x3 grid shown in the figure below\n",
    "\n",
    "![alt text](https://github.com/arijitray1993/arijitray1993.github.io/blob/main/images/HMM_question.png?raw=true?refresh)\n",
    "\n",
    "An agent is taking actions to reach the goal and gets a score at the end based on the path it took. For example, If it went up, up, left, left -> it will get a score of -1 + 10 = 9.\n",
    "\n",
    "The white blocks have 0 score. The traffic can have -1 or -2. Hitting the wall from a certain block keeps you in the same block, but you get -2. The terminal goal block has +10.\n",
    "\n",
    "The actions an agent can take is `{'Up', 'Right'}`\n",
    "\n",
    "At each block, an agent decides to take an action determined by the probabilities in the arrows.\n",
    "In each case, the \"intended\" action outcome occurs with probability 0.8, and the other action happens with 0.2 probability.\n",
    "\n",
    "\n",
    "## Given that an agent took some actions (hidden variable), and got a final score of 7. What is the probability that the actions involved hitting a wall along the way?\n",
    "\n"
   ]
  },
  {
   "cell_type": "markdown",
   "id": "95ef86da",
   "metadata": {
    "id": "95ef86da"
   },
   "source": [
    "Write your answer in this block.\n",
    "\n",
    "**Answer:**\n",
    "There are 2 possible paths of getting a final score of 7. The first path: up (-1), right(hit the wall -2), up, right, right (+10). The probabilty of having actions on first path is (0.4*0.8+0.6*0.2)*(0.5*0.8+0.5*0.2)*(0.5*0.8+0.5*0.2)*(0.8*0.8+0.2*0.2)*(0.9*0.8+0.1*0.2)=0.055352. The second path: right, right (-1), up (-2), up (+10). The probabiliy of second path is (0.6*0.8+0.4*0.2)*(0.7*0.8+0.3*0.2)*(0.9*0.8+0.1*0.2)*(0.9*0.8+0.1*0.2)=0.19012672. So the probability of actions invovled hitting a wall is First Path Probability / (First Path Probability + Second Path Probability) = 0.2254859403"
   ]
  },
  {
   "cell_type": "markdown",
   "id": "n7J2Nw1bt_DX",
   "metadata": {
    "id": "n7J2Nw1bt_DX"
   },
   "source": [
    "# **Question 2.2.** Hidden Markov Models (HMMs) (*2.5 total points*)\n",
    "\n",
    "Based on the below diagram, Should the person move right or not ? Justify your answer elaborately.\n"
   ]
  },
  {
   "cell_type": "code",
   "execution_count": 6,
   "id": "a-G0InABua5Y",
   "metadata": {
    "colab": {
     "base_uri": "https://localhost:8080/",
     "height": 976
    },
    "id": "a-G0InABua5Y",
    "outputId": "a496be24-6775-4ace-8e46-4151f99cff5e"
   },
   "outputs": [],
   "source": [
    "#Image(\"./Decision.jpg\")"
   ]
  },
  {
   "cell_type": "markdown",
   "id": "4CEvODPOupWH",
   "metadata": {
    "id": "4CEvODPOupWH"
   },
   "source": [
    "Write your answer in this block.\n",
    "\n",
    "**Answer:**\n",
    "Based on the given probabilities, if the person takes the action Right, there is a 90% chance of ending up in a harmful state and only a 10% chance of reaching the goal.\n",
    "Assuming the goal gives a high reward and the harmful state gives a strong penalty, the expected reward is negative. Mathematically:\n",
    "E_Reward = 0.1 x (+10) + 0.9 x (-10) = -8\n",
    "Since not moving results in an expected reward of 0, it is better not to move right."
   ]
  },
  {
   "cell_type": "markdown",
   "id": "a4491264",
   "metadata": {
    "id": "a4491264"
   },
   "source": [
    "# **Question 3.** Text Denoising using HMM (*45 total points*)\n"
   ]
  },
  {
   "cell_type": "markdown",
   "id": "73eaf9e4",
   "metadata": {
    "id": "73eaf9e4"
   },
   "source": [
    "In this question we will correct text errors using a hidden Markov model. To obtain text we can obtain copyright-free book in plain characters from Project Gutenberg. For this question we will be looking at Saddle room songs and hunting ballads by Frederick C. Palmer. You can download the txt version at https://www.gutenberg.org/cache/epub/74589/pg74589.txt"
   ]
  },
  {
   "cell_type": "markdown",
   "id": "0edfaa29",
   "metadata": {
    "id": "0edfaa29"
   },
   "source": [
    "## **3.1 Code:**  Preprocess Text *(5 pts)*\n",
    "Let us now preprocess the text by dropping all punctuation marks except for spaces, convert all capital\n",
    "letters to lower case, and mapping multiple spaces to a single space.\n",
    "The preprocessed text will have 27 symbols (26 lower case letters and the space character)."
   ]
  },
  {
   "cell_type": "code",
   "execution_count": 3,
   "id": "57fa25cb",
   "metadata": {
    "id": "57fa25cb",
    "outputId": "3c3d7289-69d2-4f36-f052-6a33e46539bc"
   },
   "outputs": [
    {
     "name": "stdout",
     "output_type": "stream",
     "text": [
      "the project gutenberg ebook of saddle room songs and hunting ballads this ebook is for the use of anyone anywhere in the united states and most other parts of the world at no cost and with almost no r\n"
     ]
    }
   ],
   "source": [
    "import requests\n",
    "import re\n",
    "\n",
    "# Function to download and save the file\n",
    "def download_file(url, local_filename):\n",
    "    response = requests.get(url)\n",
    "    response.raise_for_status()  # Ensure the download was successful\n",
    "    with open(local_filename, 'wb') as f:\n",
    "        f.write(response.content)\n",
    "    return local_filename\n",
    "\n",
    "def question_3_1(file_path: str) -> str:\n",
    "    '''\n",
    "    - file_path: path to the txt file downloaded from the URL\n",
    "    Returns:\n",
    "    - simplified_text: contains only lowercase letters and single spaces.\n",
    "    '''\n",
    "    with open(file_path, 'r', encoding='utf-8') as f:\n",
    "        text = f.read()\n",
    "\n",
    "    # Write your code in this block ----------------\n",
    "    simplified_text = re.sub(r'[^a-zA-Z\\s]', '', text).lower()\n",
    "\n",
    "    simplified_text = re.sub(r'\\s+', ' ', simplified_text)\n",
    "\n",
    "    # End of your code ---------------------------\n",
    "\n",
    "    return simplified_text\n",
    "\n",
    "url = \"https://www.gutenberg.org/cache/epub/74589/pg74589.txt\"\n",
    "file_path = \"pg74589.txt\"\n",
    "\n",
    "# Download the file and save it locally\n",
    "download_file(url, file_path)\n",
    "\n",
    "# Process the downloaded file\n",
    "cleaned_text = question_3_1(file_path)\n",
    "print(cleaned_text[:200])\n"
   ]
  },
  {
   "cell_type": "markdown",
   "id": "82609b89",
   "metadata": {
    "id": "82609b89"
   },
   "source": [
    "## **3.2 Code:**  Letter Frequencies *(2 pts)*\n",
    "Based on the given text, count unigram, bigram, and trigram letter frequencies."
   ]
  },
  {
   "cell_type": "code",
   "execution_count": 4,
   "id": "3908b277",
   "metadata": {
    "id": "3908b277",
    "outputId": "06f3f730-ae4f-4a5b-a8fa-ec8356166d5d"
   },
   "outputs": [
    {
     "name": "stdout",
     "output_type": "stream",
     "text": [
      "[('t', 2969), ('h', 1611), ('e', 3842), (' ', 7092), ('p', 652), ('r', 2197), ('o', 2617), ('j', 116), ('c', 912), ('g', 824)]\n"
     ]
    }
   ],
   "source": [
    "from collections import Counter\n",
    "\n",
    "def question_3_2(text: str, n: int) -> Counter:\n",
    "    '''\n",
    "    - text: str, the input text to process\n",
    "    - n: int, the length of the n-grams to count\n",
    "\n",
    "    Returns:\n",
    "    - Counter: a Counter object where keys are n-grams and values are their respective counts\n",
    "    '''\n",
    "\n",
    "    # Write your code in this block ----------------\n",
    "    grams = []\n",
    "    for i in range(len(text) - n + 1):\n",
    "        gram = text[i:i+n]\n",
    "        grams.append(gram)\n",
    "    # End of your code ---------------------------\n",
    "    return Counter(grams)\n",
    "\n",
    "unigram_counts = question_3_2(cleaned_text, 1)\n",
    "unigrams = list(unigram_counts.items())[:10]\n",
    "print(unigrams)\n",
    "\n"
   ]
  },
  {
   "cell_type": "markdown",
   "id": "66c556f9",
   "metadata": {
    "id": "66c556f9"
   },
   "source": [
    "## **3.3 Code:**  Building n-gram Models *(5 pts)*\n",
    "Use the counts from question 3.2 build models of unigram, bigram, and trigram letter\n",
    "probabilities."
   ]
  },
  {
   "cell_type": "code",
   "execution_count": 5,
   "id": "adf44fc7",
   "metadata": {
    "id": "adf44fc7",
    "outputId": "b696cef8-7a80-46d3-e73f-b35d69071712"
   },
   "outputs": [
    {
     "name": "stdout",
     "output_type": "stream",
     "text": [
      "Unigram probabilities: [('t', 0.07690315898498187), ('h', 0.04174003107198343), ('e', 0.0995080269290523), (' ', 0.1836613153806318), ('p', 0.016908337648886586), ('r', 0.0569135163127913), ('o', 0.06778871051268773), ('j', 0.0030295183842568617), ('c', 0.023640600725012947), ('g', 0.02136198860693941)]\n"
     ]
    }
   ],
   "source": [
    "def question_3_3(ngram_counts: dict,  vocab_size: int) -> dict:\n",
    "    '''\n",
    "    - ngram_counts: dict, a dictionary containing n-gram counts\n",
    "    - total_ngrams: int, the total number of n-grams in the text\n",
    "    - vocab_size: int, the size of the vocabulary (unique n-grams)\n",
    "\n",
    "    Returns:\n",
    "    - ngram_probs: dict, a dictionary with n-grams as keys and their smoothed probabilities as values\n",
    "    '''\n",
    "\n",
    "    # Write your code in this block ----------------\n",
    "    ngram_probs = {}\n",
    "    total_ngrams = sum(ngram_counts.values())\n",
    "    for ngram, count in ngram_counts.items():\n",
    "        ngram_probs[ngram] = (count + 1) / (total_ngrams + vocab_size)\n",
    "\n",
    "    # End of your code ---------------------------\n",
    "    return ngram_probs\n",
    "\n",
    "vocab_size=27\n",
    "unigram_probs = question_3_3(unigram_counts,  vocab_size)\n",
    "print(\"Unigram probabilities:\", list(unigram_probs.items())[:10])\n"
   ]
  },
  {
   "cell_type": "markdown",
   "id": "716f927e",
   "metadata": {
    "id": "716f927e"
   },
   "source": [
    "## **3.4 Code:**  Corrupt Input Text *(5 pts)*\n",
    "Now let us corrupt the input text through the following process: with probability $P_c$ we will replace a character with a randomly selected character,else we will keep the original character with probability $1-P_c$."
   ]
  },
  {
   "cell_type": "code",
   "execution_count": 6,
   "id": "cfa414c7",
   "metadata": {
    "id": "cfa414c7",
    "outputId": "3deed1de-3cbb-4458-e6a6-85af4d3d3fd1"
   },
   "outputs": [
    {
     "name": "stdout",
     "output_type": "stream",
     "text": [
      "Original text: this is just an example\n",
      "Corrupted text: tiis is cusg an example\n"
     ]
    }
   ],
   "source": [
    "import random\n",
    "import string\n",
    "def question_3_4(text: str, pc: float, vocab: list, seed: int) -> str:\n",
    "    '''\n",
    "    Arguments:\n",
    "    - text: str, the input text to be corrupted\n",
    "    - pc: float, the probability of replacing each character\n",
    "    - vocab: list, the vocabulary of characters to choose from when replacing text\n",
    "\n",
    "    Returns:\n",
    "    - corrupted_text:the corrupted version of the input text\n",
    "    '''\n",
    "\n",
    "    # Write your code in this block ----------------\n",
    "\n",
    "    # Set the random seed for reproducibility\n",
    "    random.seed(seed)\n",
    "    \n",
    "    corrupted_chars = []\n",
    "    \n",
    "    for c in text:\n",
    "        if random.random() < pc:\n",
    "            corrupted_chars.append(random.choice(vocab))\n",
    "        else:\n",
    "            corrupted_chars.append(c)\n",
    "    \n",
    "    corrupted_text = ''.join(corrupted_chars)\n",
    "\n",
    "    return corrupted_text\n",
    "\n",
    "    # End of your code ---------------------------\n",
    "\n",
    "vocab = list(string.ascii_lowercase + ' ')\n",
    "seed=42\n",
    "pc=0.1\n",
    "original_text = \"this is just an example\"\n",
    "corrupted_text = question_3_4(original_text, pc, vocab,seed)\n",
    "print(\"Original text:\", original_text)\n",
    "print(\"Corrupted text:\", corrupted_text)"
   ]
  },
  {
   "cell_type": "markdown",
   "id": "7420c9af",
   "metadata": {
    "id": "7420c9af"
   },
   "source": [
    "## **3.5 Code:**  Building transition matrix for HMM *(5 pts)*\n",
    "Now you will build a transition matrix for a Hidden Markov Model (HMM), which is used to model the probabilities of transitioning from one character to another in a sequence of text. This matrix is essential for recovering sequence of true characters given some corrupted or noisy observations."
   ]
  },
  {
   "cell_type": "code",
   "execution_count": 7,
   "id": "db968550",
   "metadata": {
    "id": "db968550",
    "outputId": "346568fb-1b3f-4422-bfeb-a80815e0ce13"
   },
   "outputs": [
    {
     "name": "stdout",
     "output_type": "stream",
     "text": [
      "[0.         0.01637331 0.04379861 0.0462546  0.00081867 0.001228\n",
      " 0.02947196 0.         0.03029063 0.         0.01309865 0.07081457\n",
      " 0.01801064 0.20016373 0.         0.01760131 0.         0.10601719\n",
      " 0.1011052  0.13180516 0.01023332 0.01882931 0.01637331 0.00327466\n",
      " 0.04216128 0.00163733 0.08063856]\n"
     ]
    }
   ],
   "source": [
    "import numpy as np\n",
    "def question3_5(bigram_counts: dict, vocab: list) -> np.ndarray:\n",
    "    '''\n",
    "    Arguments:\n",
    "    - bigram_counts: dict, a dictionary where keys are bigrams and values are the counts of those bigrams\n",
    "    - vocab:a list of all possible characters\n",
    "\n",
    "    Returns:\n",
    "    - transition_matrix: shape (vocab_size, vocab_size) where each entry represents the\n",
    "                          probability of transitioning from one character to another\n",
    "    '''\n",
    "\n",
    "    # Write your code in this block ----------------\n",
    "    # Initialize transition matrix\n",
    "    vocab_size = len(vocab)\n",
    "    transition_matrix = np.zeros((vocab_size, vocab_size))\n",
    "    char_index_map = {char: idx for idx, char in enumerate(vocab)}\n",
    "\n",
    "    # Calculate total bigram counts for each character\n",
    "    row_sum = np.zeros(vocab_size)\n",
    "\n",
    "    # Fill transition matrix with bigram probabilities\n",
    "    for bigram, count in bigram_counts.items():\n",
    "        char1, char2 = bigram[0], bigram[1]\n",
    "        row = char_index_map[char1]\n",
    "        col = char_index_map[char2]\n",
    "\n",
    "        transition_matrix[row, col] += count\n",
    "        row_sum[row] += count\n",
    "\n",
    "    for i in range(vocab_size):\n",
    "        if row_sum[i] > 0:\n",
    "            transition_matrix[i, :] /= row_sum[i]\n",
    "\n",
    "    # End of your code ---------------------------\n",
    "    return transition_matrix\n",
    "\n",
    "\n",
    "\n",
    "\n",
    "vocab = list(string.ascii_lowercase + ' ')\n",
    "bigram_counts = question_3_2(cleaned_text, 2)\n",
    "transition_matrix = question3_5(bigram_counts, vocab)\n",
    "print(transition_matrix[0])\n"
   ]
  },
  {
   "cell_type": "markdown",
   "id": "67f8ae57",
   "metadata": {
    "id": "67f8ae57"
   },
   "source": [
    "\n",
    "## **3.6 Code:**  Building emission matrix for HMM *(5 pts)*\n",
    "We now need to build an emission matrix for a Hidden Markov Model (HMM). The emission matrix represents the probability of observing a certain character given the true underlying (hidden) character in a sequence of text.\n",
    "\n",
    "The diagonal of the matrix should represent the probability that a character remains unchanged. The off-diagonal entries will represent the probability that a character is corrupted into another character."
   ]
  },
  {
   "cell_type": "code",
   "execution_count": 8,
   "id": "fd40d9b8",
   "metadata": {
    "id": "fd40d9b8",
    "outputId": "28d2f36f-8125-4a9f-c168-768f16888574"
   },
   "outputs": [
    {
     "name": "stdout",
     "output_type": "stream",
     "text": [
      "[0.9        0.00384615 0.00384615 0.00384615 0.00384615 0.00384615\n",
      " 0.00384615 0.00384615 0.00384615 0.00384615 0.00384615 0.00384615\n",
      " 0.00384615 0.00384615 0.00384615 0.00384615 0.00384615 0.00384615\n",
      " 0.00384615 0.00384615 0.00384615 0.00384615 0.00384615 0.00384615\n",
      " 0.00384615 0.00384615 0.00384615]\n"
     ]
    }
   ],
   "source": [
    "def question3_6(vocab_size: int, corruption_prob: float) -> np.ndarray:\n",
    "    '''\n",
    "    Arguments:\n",
    "    - vocab_size: int, the number of characters in the vocabulary\n",
    "    - corruption_prob: float, the probability of a character being corrupted\n",
    "\n",
    "    Returns:\n",
    "    - emission_matrix: shape (vocab_size, vocab_size) where each entry represents the probability of observing one character given the hidden character\n",
    "    '''\n",
    "\n",
    "    # Write your code in this block ----------------\n",
    "    emission_matrix = np.zeros((vocab_size, vocab_size))\n",
    "    for i in range(vocab_size):\n",
    "        for j in range(vocab_size):\n",
    "            if i == j:\n",
    "                emission_matrix[i, j] = 1 - corruption_prob\n",
    "            else:\n",
    "                emission_matrix[i, j] = corruption_prob / (vocab_size - 1)\n",
    "\n",
    "    # End of your code ---------------------------\n",
    "    return emission_matrix\n",
    "pc=0.1\n",
    "emission_matrix = question3_6(len(vocab), pc)\n",
    "print(emission_matrix[0])"
   ]
  },
  {
   "cell_type": "markdown",
   "id": "e5553d64",
   "metadata": {
    "id": "e5553d64"
   },
   "source": [
    "## **3.7 Code:**  Converting Text to Indices Based on Vocabulary *(2 pts)*\n",
    "Write a function that takes a string of text and a vocabulary list. The function should convert each character in the input text into its corresponding index in the vocabulary list."
   ]
  },
  {
   "cell_type": "code",
   "execution_count": 9,
   "id": "6221dff2",
   "metadata": {
    "id": "6221dff2"
   },
   "outputs": [],
   "source": [
    "def question3_7(text: str, vocab: list) -> list:\n",
    "    '''\n",
    "    Arguments:\n",
    "    - text: str, the input text to be converted into indices\n",
    "    - vocab: list, the list of characters in the vocabulary\n",
    "\n",
    "    Returns:\n",
    "    - indices: a list of integers where each integer is the index of the corresponding character in the vocabulary\n",
    "    '''\n",
    "\n",
    "    # Write your code in this block ----------------\n",
    "    results = []\n",
    "    char_index_map = {char: idx for idx, char in enumerate(vocab)}\n",
    "    for char in text:\n",
    "        results.append(char_index_map[char])\n",
    "\n",
    "    # End of your code ---------------------------\n",
    "    return results"
   ]
  },
  {
   "cell_type": "markdown",
   "id": "386c1291",
   "metadata": {
    "id": "386c1291"
   },
   "source": [
    "## **3.8 Code:**  Converting Indices to Text Based on Vocabulary *(2 pts)*\n",
    "\n",
    "\n",
    "Write a function that takes a list of indices and converts them back into a string using the provided vocabulary. Each index in the list corresponds to a character in the vocabulary."
   ]
  },
  {
   "cell_type": "code",
   "execution_count": 10,
   "id": "89883714",
   "metadata": {
    "id": "89883714"
   },
   "outputs": [],
   "source": [
    "def question3_8(indices: list, vocab: list) -> str:\n",
    "    '''\n",
    "    Arguments:\n",
    "    - indices: list of integers, where each integer is an index in the vocabulary\n",
    "    - vocab: list of characters in the vocabulary\n",
    "\n",
    "    Returns:\n",
    "    - A string where each character corresponds to the index from the vocabulary\n",
    "    '''\n",
    "\n",
    "    # Write your code in this block ----------------\n",
    "    result = \"\"\n",
    "    index_char_map = {idx: char for idx, char in enumerate(vocab)}\n",
    "    for index in indices:\n",
    "        result += index_char_map[index]\n",
    "\n",
    "    # End of your code ----------------------------\n",
    "\n",
    "    return result"
   ]
  },
  {
   "cell_type": "markdown",
   "id": "d892305d",
   "metadata": {
    "id": "d892305d"
   },
   "source": [
    "## **3.9 Code:**  One-Hot Encoding Observations for HMM  *(2 pts)*\n",
    "write a function that takes a list of indices and the size of the vocabulary, and returns a one-hot encoded matrix.\n"
   ]
  },
  {
   "cell_type": "code",
   "execution_count": 11,
   "id": "cdd18d43",
   "metadata": {
    "id": "cdd18d43"
   },
   "outputs": [],
   "source": [
    "import numpy as np\n",
    "\n",
    "def question3_9(indices: list, vocab_size: int) -> np.ndarray:\n",
    "    '''\n",
    "\n",
    "    - indices: list of integers, where each integer is an index in the vocabulary\n",
    "    - vocab_size: the size of the vocabulary\n",
    "\n",
    "    Returns:\n",
    "    - A 2D numpy array representing one-hot encoded vectors with shape (len(indices), vocab_size)\n",
    "    '''\n",
    "\n",
    "    # Write your code in this block ----------------\n",
    "    one_hot_encoded = np.zeros((len(indices), vocab_size))\n",
    "    for i, index in enumerate(indices):\n",
    "        one_hot_encoded[i, index] = 1\n",
    "\n",
    "    # End of your code ----------------------------\n",
    "\n",
    "    return one_hot_encoded\n"
   ]
  },
  {
   "cell_type": "markdown",
   "id": "6f0f3a6d",
   "metadata": {
    "id": "6f0f3a6d"
   },
   "source": [
    "## **3.10 Code:**  Training HMM *(5 pts)*\n",
    "In this question we will train a Hidden Markov Model (HMM) using bigram counts from a given text to decode the corrupted text.\n",
    "\n",
    "We will use hmmlearn library’s **MultinomialHMM** class to create the model."
   ]
  },
  {
   "cell_type": "code",
   "execution_count": 12,
   "id": "6RJjK4czsnJs",
   "metadata": {
    "id": "6RJjK4czsnJs"
   },
   "outputs": [
    {
     "name": "stdout",
     "output_type": "stream",
     "text": [
      "Requirement already satisfied: hmmlearn in /Users/spectual/miniconda3/lib/python3.9/site-packages (0.3.0)\n",
      "Requirement already satisfied: numpy>=1.10 in /Users/spectual/miniconda3/lib/python3.9/site-packages (from hmmlearn) (1.22.4)\n",
      "Requirement already satisfied: scikit-learn!=0.22.0,>=0.16 in /Users/spectual/miniconda3/lib/python3.9/site-packages (from hmmlearn) (1.2.1)\n",
      "Requirement already satisfied: scipy>=0.19 in /Users/spectual/miniconda3/lib/python3.9/site-packages (from hmmlearn) (1.11.2)\n",
      "Requirement already satisfied: joblib>=1.1.1 in /Users/spectual/miniconda3/lib/python3.9/site-packages (from scikit-learn!=0.22.0,>=0.16->hmmlearn) (1.2.0)\n",
      "Requirement already satisfied: threadpoolctl>=2.0.0 in /Users/spectual/miniconda3/lib/python3.9/site-packages (from scikit-learn!=0.22.0,>=0.16->hmmlearn) (3.1.0)\n"
     ]
    }
   ],
   "source": [
    "!pip install hmmlearn"
   ]
  },
  {
   "cell_type": "code",
   "execution_count": 13,
   "id": "22f4c446",
   "metadata": {
    "id": "22f4c446",
    "outputId": "288ff681-2451-41de-825d-8bfebb7c78c8"
   },
   "outputs": [
    {
     "name": "stderr",
     "output_type": "stream",
     "text": [
      "MultinomialHMM has undergone major changes. The previous version was implementing a CategoricalHMM (a special case of MultinomialHMM). This new implementation follows the standard definition for a Multinomial distribution (e.g. as in https://en.wikipedia.org/wiki/Multinomial_distribution). See these issues for details:\n",
      "https://github.com/hmmlearn/hmmlearn/issues/335\n",
      "https://github.com/hmmlearn/hmmlearn/issues/340\n"
     ]
    }
   ],
   "source": [
    "from hmmlearn import hmm\n",
    "def question3_10(original_text: str,bigram_counts:dict, vocab: list, pc: float) -> hmm.MultinomialHMM:\n",
    "    '''\n",
    "    Arguments:\n",
    "    - original_text: str, the original text from which to train the HMM\n",
    "    - vocab: list, the list of characters in the vocabulary\n",
    "    - pc: float, the probability of character corruption (used for the emission matrix)\n",
    "\n",
    "    Returns:\n",
    "    - model: hmm.MultinomialHMM, the trained Hidden Markov Model\n",
    "    '''\n",
    "\n",
    "    # Write your code in this block ----------------\n",
    "\n",
    "    # build the transion matrix and emission matrix. You can use question3_5 and question3_6\n",
    "    transition_matrix = question3_5(bigram_counts, vocab)\n",
    "    emission_matrix = question3_6(len(vocab), pc)\n",
    "\n",
    "\n",
    "    # Initialize the HMM model using  hmm.MultinomialHMM and set n_trials to 1\n",
    "    # Initialize with with uniform start probability\n",
    "    startprob = np.full(len(vocab), 1/len(vocab))\n",
    "    model = hmm.MultinomialHMM(n_components=len(vocab))\n",
    "    model.n_trials = 1\n",
    "    model.startprob_ = startprob\n",
    "    model.transmat_ = transition_matrix\n",
    "    model.emissionprob_ = emission_matrix\n",
    "\n",
    "    # End of your code ---------------------------\n",
    "    return model\n",
    "\n",
    "original_text=cleaned_text\n",
    "corrupted_text =question_3_4(original_text, 0.01, vocab,42)\n",
    "bigram_counts = question_3_2(original_text, 2)\n",
    "model = question3_10(original_text,bigram_counts, vocab, 0.01)\n",
    "\n",
    "# Convert corrupted text to indices and one-hot encode it\n",
    "corrupted_indices = question3_7(corrupted_text, vocab)\n",
    "one_hot_corrupted = question3_9(corrupted_indices, len(vocab))\n",
    "\n",
    "# Decode the corrupted text\n",
    "_, recovered_indices = model.decode(one_hot_corrupted)\n",
    "recovered_text = question3_8(recovered_indices, vocab)"
   ]
  },
  {
   "cell_type": "markdown",
   "id": "5c644ad4",
   "metadata": {
    "id": "5c644ad4"
   },
   "source": [
    "## **3.11 Code:** Estimating Error Rate Using Hamming Distance *(2 pts)*\n",
    "We will estimate the error rate between an original text and a recovered (corrupted or noisy) version of that text using the Hamming distance. The Hamming distance between two sequences is the total number of locations in which the values are different.\n",
    "\n",
    "Hamming distance is expressed as follows:\n",
    "$$\n",
    "d_h(x, x(u)) = \\sum_{k} \\mathbb{1}(x_k \\neq x(u)_k)\n",
    "$$\n"
   ]
  },
  {
   "cell_type": "code",
   "execution_count": 14,
   "id": "6017508f",
   "metadata": {
    "id": "6017508f",
    "outputId": "1cfc452c-47cd-4cc2-f1ec-37bf2c0ca10d"
   },
   "outputs": [
    {
     "name": "stdout",
     "output_type": "stream",
     "text": [
      "Error rate: 0.86%\n"
     ]
    }
   ],
   "source": [
    "def question3_11(original_text: str, recovered_text: str) -> float:\n",
    "    '''\n",
    "    - original_text: str, the original text\n",
    "    - recovered_text: str, the recovered text\n",
    "\n",
    "    Returns:\n",
    "    - error_rate: float, the error rate as the proportion of differing characters\n",
    "    '''\n",
    "     # Write your code in this block ----------------\n",
    "    error_count = 0\n",
    "    for original_char, recovered_char in zip(original_text, recovered_text):\n",
    "        if original_char != recovered_char:\n",
    "            error_count += 1\n",
    "\n",
    "    if len(original_text) == 0:\n",
    "        return 0.0\n",
    "    error_rate = error_count / len(original_text)\n",
    "\n",
    "    # End of your code ---------------------------\n",
    "\n",
    "    return error_rate\n",
    "error_rate =question3_11(original_text, recovered_text)\n",
    "print(f\"Error rate: {error_rate * 100:.2f}%\")"
   ]
  },
  {
   "cell_type": "markdown",
   "id": "6909f433",
   "metadata": {
    "id": "6909f433"
   },
   "source": [
    "## **3.12 Short answer:** Estimate Error Rate *(5 pts)*\n",
    "\n",
    "For $p_c = 0.01$ and $p_c = 0.1$ , estimate the respective error rate for the corrected text. Does the result make sense? Why or why not?\n"
   ]
  },
  {
   "cell_type": "markdown",
   "id": "59ccb620",
   "metadata": {
    "id": "59ccb620"
   },
   "source": [
    "Write your answer in this block\n",
    "\n",
    "**Answer:**\n",
    "When p_c = 0.1, the error rate is 8.70%. When p_c = 0.01, the error rate is 0.87%. The results make sense because as the probability of corruption increases, the error rate also increases. This is expected behavior, as a higher probability of corruption leads to more errors in the text. "
   ]
  },
  {
   "cell_type": "markdown",
   "id": "e2948eca",
   "metadata": {
    "id": "e2948eca"
   },
   "source": [
    "# **Question 4.** Creating Dataloaders in Pytorch (*5 total points*)"
   ]
  },
  {
   "cell_type": "markdown",
   "id": "955be82f",
   "metadata": {
    "id": "955be82f"
   },
   "source": [
    "This homework will introduce you to [PyTorch](https://pytorch.org), currently the fastest growing deep learning library, and the one we will use in this course.\n",
    "\n",
    "**Before starting the homework, please go over these introductory tutorials on the PyTorch webpage**:\n",
    "[60-minute Blitz](https://pytorch.org/tutorials/beginner/deep_learning_60min_blitz.html)\n",
    "\n"
   ]
  },
  {
   "cell_type": "markdown",
   "id": "1b2c27da",
   "metadata": {
    "id": "1b2c27da"
   },
   "source": [
    "## **4.1 Code:** Data Loader *(5 pts)*\n"
   ]
  },
  {
   "cell_type": "markdown",
   "id": "2ooJsJw45JwZ",
   "metadata": {
    "id": "2ooJsJw45JwZ"
   },
   "source": [
    "For the following sections, we will work on [CIFAR-10](https://www.cs.toronto.edu/~kriz/cifar.html) dataset.\n",
    "\n",
    "The CIFAR-10 dataset consists of 60000 32x32 colour images in 10 classes, with 6000 images per class. There are 50000 training images and 10000 test images.\n",
    "\n",
    "First, let's download and preprocess the dataset"
   ]
  },
  {
   "cell_type": "code",
   "execution_count": 22,
   "id": "e03dc358",
   "metadata": {
    "colab": {
     "base_uri": "https://localhost:8080/"
    },
    "id": "e03dc358",
    "outputId": "9e2143c6-d44a-4649-d9ed-56d509b254d0"
   },
   "outputs": [],
   "source": [
    "import torchvision\n",
    "import torchvision.transforms as transforms\n",
    "from torchvision import transforms, datasets\n",
    "from torch.utils.data.dataloader import DataLoader\n",
    "\n",
    "transform = transforms.Compose(\n",
    "    [\n",
    "      transforms.ToTensor(),\n",
    "      transforms.Normalize((0.5, 0.5, 0.5), (0.5, 0.5, 0.5))\n",
    "    ])\n",
    "\n",
    "\n",
    "batch_size = 16\n",
    "\n",
    "trainset = datasets.CIFAR10(root='./data', train=True, download=True, transform=transform)\n",
    "trainloader = DataLoader(trainset, batch_size=batch_size, shuffle=True, num_workers=2, drop_last=True)\n",
    "\n",
    "classes = ('plane', 'car', 'bird', 'cat', 'deer', 'dog', 'frog', 'horse', 'ship', 'truck')"
   ]
  },
  {
   "cell_type": "markdown",
   "id": "dcmtP_cPAnOJ",
   "metadata": {
    "id": "dcmtP_cPAnOJ"
   },
   "source": [
    "Let's show some of the pictures in the dataset."
   ]
  },
  {
   "cell_type": "code",
   "execution_count": 23,
   "id": "54df4ee2",
   "metadata": {
    "colab": {
     "base_uri": "https://localhost:8080/",
     "height": 154
    },
    "id": "54df4ee2",
    "outputId": "b7116f0f-ebe8-4af2-f175-3eb5e31c92bc"
   },
   "outputs": [
    {
     "name": "stdout",
     "output_type": "stream",
     "text": [
      "ship ship horse horse deer plane  dog ship\n"
     ]
    },
    {
     "data": {
      "image/png": "[encoded data removed]",
      "text/plain": [
       "<Figure size 640x480 with 1 Axes>"
      ]
     },
     "metadata": {},
     "output_type": "display_data"
    }
   ],
   "source": [
    "def imshow(img):\n",
    "    img = img / 2 + 0.5\n",
    "    npimg = img.numpy()\n",
    "    plt.imshow(np.transpose(npimg, (1, 2, 0)))\n",
    "\n",
    "\n",
    "# get some random training images\n",
    "sample = iter(trainloader)\n",
    "images, labels = next(sample)\n",
    "\n",
    "# show some images\n",
    "imshow(torchvision.utils.make_grid(images))\n",
    "\n",
    "# print labels for the first row\n",
    "print(' '.join('%4s' % classes[labels[j]] for j in range(8)))"
   ]
  },
  {
   "cell_type": "markdown",
   "id": "xM5X4cee56ua",
   "metadata": {
    "id": "xM5X4cee56ua"
   },
   "source": [
    "Similar to the example above, complete the function below to create a \"testloader\""
   ]
  },
  {
   "cell_type": "code",
   "execution_count": 24,
   "id": "5d034f90",
   "metadata": {
    "colab": {
     "base_uri": "https://localhost:8080/"
    },
    "id": "5d034f90",
    "outputId": "b213ddfb-0ac4-41ce-8fc4-ec6e1c1878b0"
   },
   "outputs": [
    {
     "data": {
      "text/plain": [
       "<torch.utils.data.dataloader.DataLoader at 0x1064db410>"
      ]
     },
     "execution_count": 24,
     "metadata": {},
     "output_type": "execute_result"
    }
   ],
   "source": [
    "def question_4_2(transform: transforms.Compose, batch_size:int, shuffle:bool, drop_last:bool) -> DataLoader:\n",
    "    \"\"\"\n",
    "    Similar to the example above, create then return a DataLoader for testset\n",
    "    \"\"\"\n",
    "    # Write your code in this block -----------------------------------------------------------\n",
    "    ## Step 1: create `testset` using datasets.CIFAR10: similar to `trainset` above, with\n",
    "    # download=True, transform=transform but set `train` to False\n",
    "    testset = datasets.CIFAR10(root='./data', train=False, download=True, transform=transform)\n",
    "    ## Step 2: create `testloader` using DataLoader and passing params `batch_size`, `shuffer`, `drop_last`\n",
    "    testloader = DataLoader(testset, batch_size=batch_size, shuffle=shuffle, num_workers=2, drop_last=drop_last)\n",
    "    ## Step 3: return `testloader`\n",
    "    return testloader\n",
    "    # End of your code -----------------------------------------------------------\n",
    "\n",
    "\n",
    "shuffle = False\n",
    "drop_last = True\n",
    "testloader = question_4_2(transform,  batch_size, shuffle, drop_last)\n",
    "testloader"
   ]
  },
  {
   "cell_type": "markdown",
   "id": "ha12DBoi-Kmw",
   "metadata": {
    "id": "ha12DBoi-Kmw"
   },
   "source": [
    "# **Question 5.** Training Models in Pytorch (*25 total points*)\n",
    "\n",
    "\n",
    " In this problem, we build a 2-layer MLP to predict the class for the images.\n",
    "\n",
    "If you're using Colab, you can use its GPU to speed up the training. To opt to GPU, go to tab [Runtime -> Change Runtime type](https://raw.githubusercontent.com/chaudatascience/cs599_fall2022/master/ps4/gpu.png) -> Choose GPU for Hardware accelerator.\n"
   ]
  },
  {
   "cell_type": "markdown",
   "id": "2ea6f5e7",
   "metadata": {
    "id": "2ea6f5e7"
   },
   "source": [
    "## **5.1 Code:** 2-layer MLP *(5 pts)*\n",
    "Make a subclass of the `Module` class, called `MyMLP`.\n",
    "You will need to define the `__init__` and `forward` methods. Our neuron would have 2 linear layers and 1 ReLU layer.\n",
    "\n",
    "You can refer to the [Neural Networks tutorial of Pytorch](https://pytorch.org/tutorials/beginner/blitz/neural_networks_tutorial.html).\n"
   ]
  },
  {
   "cell_type": "code",
   "execution_count": 25,
   "id": "5aaa7476",
   "metadata": {
    "id": "5aaa7476"
   },
   "outputs": [],
   "source": [
    "import torch.nn as nn\n",
    "\n",
    "class MyMLP(nn.Module):\n",
    "    def __init__(self, in_dim: int, hid_dim: int, out_dim: int):\n",
    "        \"\"\"\n",
    "          in_dim: input dimension, usually we flatten 3d images  (num_channels, width, height) to 1d (num_channels * width * height),\n",
    "                so we have in_dim = num_channels * width * height\n",
    "          hid_dim: hidden dimension\n",
    "          out_dim: output dimension\n",
    "        \"\"\"\n",
    "        super().__init__()\n",
    "\n",
    "        ## Complete the code below to initilaize self.linear_1, self.linear_2, self.relu\n",
    "        # where self.linear_1 and self.linear_2 are `nn.Linear` objects, shape of (in_dim, hid_dim) and (hid_dim, out_dim) respectively,\n",
    "        # and self.relu is a `nn.ReLU` object.\n",
    "        # Write your code in this block -----------------------------------------------------------\n",
    "        self.linear_1 = nn.Linear(in_dim, hid_dim)\n",
    "        self.linear_2 = nn.Linear(hid_dim, out_dim)\n",
    "        self.relu = nn.ReLU()\n",
    "\n",
    "\n",
    "        # End of your code ------------------------------------------------------------------------\n",
    "\n",
    "    def forward(self, x: Tensor) -> Tensor:\n",
    "        ## Assume we want to build a model as following: input `x` -> linear_1 -> relu -> linear_2\n",
    "        ## Write your forward pass\n",
    "        # Write your code in this block -----------------------------------------------------------\n",
    "        x = self.linear_1(x)\n",
    "        x = self.relu(x)\n",
    "        x = self.linear_2(x)\n",
    "        return x\n",
    "        # End of your code ------------------------------------------------------------------------\n"
   ]
  },
  {
   "cell_type": "markdown",
   "id": "fd30d87c",
   "metadata": {
    "id": "fd30d87c"
   },
   "source": [
    "## **5.2 Code:** Train 1 epoch *(5 pts)*\n",
    "\n",
    "\n",
    "For each batch in the training set, we use 5 steps to train a Pytorch model\n",
    "You will need to fill in the steps below."
   ]
  },
  {
   "cell_type": "code",
   "execution_count": 28,
   "id": "2560a45f",
   "metadata": {
    "id": "2560a45f"
   },
   "outputs": [],
   "source": [
    "\n",
    "def question_5_2_train_one_epoch(model: nn.Module, trainloader: DataLoader, device:torch.device,\n",
    "                                 optimizer: torch.optim.SGD, criterion: torch.nn.CrossEntropyLoss, batch_size: int, flatten: bool):\n",
    "    \"\"\"\n",
    "      Train 1 epoch on trainloader. You need to fill in after \"##### [YOUR CODE]\"\n",
    "    \"\"\"\n",
    "\n",
    "    ## Set model to \"train\" model\n",
    "    model = model.train()\n",
    "\n",
    "    ## Keep track of loss and accuracy\n",
    "    train_loss = 0.0\n",
    "    train_acc = 0.0\n",
    "\n",
    "    ## Loop over all the batches\n",
    "    for i, (images, labels) in tqdm(enumerate(trainloader, 1), total=len(trainloader), desc=f\"training 1 epoch...\"):\n",
    "        # For each batch, we have:\n",
    "        #     + `images`: `bath_size` images in training set\n",
    "        #     + `labels`: labels of the images (`batch_size` labels)\n",
    "\n",
    "\n",
    "        ## Reshape the input dimension if we use MLP: instead of 3d (num_channels, width, height),\n",
    "        # we flatten it to 1d (num_channels * width * height)\n",
    "        if flatten:\n",
    "            images = images.reshape(batch_size, -1)\n",
    "\n",
    "        ## Move images and labels to `device` (CPU or GPU)\n",
    "        images = images.to(device)\n",
    "        labels = labels.to(device)\n",
    "\n",
    "        # Write your code in this block -------------------------------------------------------------------------------------------\n",
    "        ## We use 5 following steps to train a Pytorch model\n",
    "\n",
    "        ##### [YOUR CODE] Step 1. Forward pass: pass the data forward, the model try its best to predict what the output should be\n",
    "        # You need to get the output from the model, store in a new variable named `logits`\n",
    "        logits = model(images)\n",
    "\n",
    "        ##### [YOUR CODE] Step 2. Compare the output that the model gives us with the real labels\n",
    "        ## You need to compute the loss, store in a new variable named `loss`\n",
    "        loss = criterion(logits, labels)\n",
    "\n",
    "\n",
    "        ##### [YOUR CODE] Step 3. Clear the gradient buffer\n",
    "        optimizer.zero_grad()\n",
    "\n",
    "        ##### [YOUR CODE] Step 4. Backward pass: calculate partial derivatives of the loss w.r.t parameters\n",
    "        loss.backward()\n",
    "\n",
    "        ##### [YOUR CODE] Step 5. Update the parameters by stepping in the opposite direction from the gradient\n",
    "        optimizer.step()\n",
    "\n",
    "        # End of your code --------------------------------------------------------------------------------------------------------\n",
    "        ## Compute loss and accuracy for this batch\n",
    "        train_loss += loss.detach().item()\n",
    "        train_acc += question_5_3_compute_accuracy(logits, labels, batch_size)\n",
    "\n",
    "    return train_loss/i, train_acc/i ## avg loss and acc over all batches\n"
   ]
  },
  {
   "cell_type": "markdown",
   "id": "3f324936",
   "metadata": {
    "id": "3f324936"
   },
   "source": [
    "## **5.3 Code:**  Compute accuracy *(5 pts)*\n"
   ]
  },
  {
   "cell_type": "code",
   "execution_count": 27,
   "id": "a30e6df2",
   "metadata": {
    "id": "a30e6df2"
   },
   "outputs": [],
   "source": [
    "## compute accuracy score in a batch\n",
    "def question_5_3_compute_accuracy(logits: Tensor, labels: Tensor, batch_size: int) -> float:\n",
    "    '''\n",
    "      Obtain accuracy for a training batch\n",
    "      logits: float Tensor, shape (batch_size, num_classes),  output from the model\n",
    "      labels: Long Tensor, shape (batch_size, ), contains labels for the predictions\n",
    "      batch_size: int, batch size\n",
    "\n",
    "      Return accuracy for this batch, which should be a float number in [0, 100], NOT a Tensor\n",
    "    '''\n",
    "\n",
    "    # Write your code in this block ----------------\n",
    "    _, predicted = torch.max(logits, 1)\n",
    "    correct_count = (predicted == labels).sum().item()\n",
    "    accuracy = (correct_count / batch_size) * 100\n",
    "    return accuracy\n",
    "\n",
    "    # End of your code ---------------------------\n"
   ]
  },
  {
   "cell_type": "markdown",
   "id": "92485e8a",
   "metadata": {
    "id": "92485e8a"
   },
   "source": [
    "## **5.4 Code:**  evaluate *(5 pts)*\n",
    "We will write a function to evaluate our model on test set after each epoch"
   ]
  },
  {
   "cell_type": "code",
   "execution_count": 48,
   "id": "d67bdfa1",
   "metadata": {
    "id": "d67bdfa1"
   },
   "outputs": [],
   "source": [
    "## Note that we use `torch.no_grad()` here to disable gradient calculation.\n",
    "# It will reduce memory consumption as we don't need to compute gradients in inference.\n",
    "\n",
    "@torch.no_grad()\n",
    "def question_5_4_evaluate(model: nn.Module, testloader: DataLoader, criterion, batch_size, device, flatten: bool):\n",
    "    \"\"\"\n",
    "    You need to fill in after \"##### [YOUR CODE]\"\n",
    "    \"\"\"\n",
    "\n",
    "    test_acc = 0.0\n",
    "    test_loss = 0.0\n",
    "\n",
    "    ## Turn on the evaluation mode\n",
    "    model.eval()\n",
    "\n",
    "    ## Loop through each batch on test set\n",
    "    for i, (images, labels) in enumerate(testloader, 1):\n",
    "\n",
    "        ## Flatten the image into 1d if using MLP\n",
    "        if flatten:\n",
    "            images = images.reshape(batch_size, -1)\n",
    "\n",
    "        # Write your code in this block -----------------------------------------------------------\n",
    "\n",
    "        ##### [YOUR CODE] Move data to `device`\n",
    "        images = images.to(device)\n",
    "        labels = labels.to(device)\n",
    "\n",
    "        ##### [YOUR CODE] forward pass to get the output of the model\n",
    "        logits = model(images)\n",
    "\n",
    "        ##### [YOUR CODE] Compute the loss\n",
    "        test_loss += criterion(logits, labels)\n",
    "\n",
    "        #### [YOUR CODE]  Compute accuracy (re-use question 5.3)\n",
    "        test_acc += question_5_3_compute_accuracy(logits, labels, batch_size)\n",
    "\n",
    "        # End of your code ---------------------------------------------------------------------------\n",
    "\n",
    "    return test_loss/i, test_acc/i ## avg loss and acc over all batches\n"
   ]
  },
  {
   "cell_type": "markdown",
   "id": "503630b0",
   "metadata": {
    "id": "503630b0"
   },
   "source": [
    "## **5.5 Code:**  Train model *(5 pts)*\n",
    "\n",
    "Let's put everything together. Now we're ready to train a neural network!"
   ]
  },
  {
   "cell_type": "code",
   "execution_count": 49,
   "id": "1f35bcd0",
   "metadata": {
    "id": "1f35bcd0"
   },
   "outputs": [],
   "source": [
    "import torch.optim as optim\n",
    "from time import time\n",
    "from collections import defaultdict\n",
    "\n",
    "def question_5_5_train_model(model, device, num_epochs, batch_size, trainloader, testloader, flatten: bool = False):\n",
    "    \"\"\"\n",
    "    model: Our neural net\n",
    "    device: CPU/GPU\n",
    "    num_epochs: How many epochs to train\n",
    "    batch_size: batch size\n",
    "    train/test loaders: training/test data\n",
    "    flatten: whether we want to flatten the input image from 3d to 1d\n",
    "\n",
    "    You need to fill in after \"##### [YOUR CODE]\"\n",
    "    \"\"\"\n",
    "\n",
    "    # Write your code in this block -------------------------------------------------------------------------------------------\n",
    "\n",
    "    ##### [YOUR CODE] create your optimizer using `optim.SGD`, set learning rate to 0.001, and momentum to 0.9\n",
    "    optimizer = optim.SGD(model.parameters(), lr=0.001, momentum=0.9)\n",
    "\n",
    "    ##### [YOUR CODE] create criterion using `nn.CrossEntropyLoss`\n",
    "    criterion = nn.CrossEntropyLoss()\n",
    "\n",
    "    ## Measure runtime\n",
    "    t_start = time()\n",
    "\n",
    "    ## Store training log\n",
    "    history = defaultdict(list)\n",
    "\n",
    "    # We will train the model `num_epochs` times\n",
    "    for i in range(1, num_epochs+1):\n",
    "        ###### [YOUR CODE] train 1 epoch: call the function in question 5.2\n",
    "        train_loss, train_acc = question_5_2_train_one_epoch(model, trainloader, device, optimizer, criterion, batch_size, flatten)\n",
    "\n",
    "\n",
    "        ###### [YOUR CODE] call function in question 5.4 to see how it performs on test set\n",
    "        test_loss, test_acc = question_5_4_evaluate(model, testloader, criterion, batch_size, device, flatten)\n",
    "\n",
    "        # End of your code ----------------------------------------------------------------------------------------------------\n",
    "\n",
    "\n",
    "        ## store train/test loss, accuracy\n",
    "        history[\"train_loss\"].append(train_loss)\n",
    "        history[\"train_acc\"].append(train_acc)\n",
    "        history[\"test_loss\"].append(test_loss)\n",
    "        history[\"test_acc\"].append(test_acc)\n",
    "\n",
    "        ## print out train/test loss, accuracy\n",
    "        print(f'Epoch: {i} | Runtime: {((time()-t_start)/60):.2f}[m] | train_loss: {train_loss:.3f} | train_acc: {train_acc:.3f} | test_loss: {test_loss:.3f} | test_acc: {test_acc:.3f}')\n",
    "    return history"
   ]
  },
  {
   "cell_type": "markdown",
   "id": "COqtAIa3IPMv",
   "metadata": {
    "id": "COqtAIa3IPMv"
   },
   "source": [
    "Let's check again on the shape of each batch\n"
   ]
  },
  {
   "cell_type": "code",
   "execution_count": 50,
   "id": "-v0avyilIVM8",
   "metadata": {
    "colab": {
     "base_uri": "https://localhost:8080/"
    },
    "id": "-v0avyilIVM8",
    "outputId": "97523889-96d5-4a99-86e1-4bfdccf50393"
   },
   "outputs": [
    {
     "data": {
      "text/plain": [
       "torch.Size([16, 3, 32, 32])"
      ]
     },
     "execution_count": 50,
     "metadata": {},
     "output_type": "execute_result"
    }
   ],
   "source": [
    "images.shape ## (batch size, num channels, width, height)"
   ]
  },
  {
   "cell_type": "code",
   "execution_count": 51,
   "id": "vakFqQ5DIsko",
   "metadata": {
    "colab": {
     "base_uri": "https://localhost:8080/"
    },
    "id": "vakFqQ5DIsko",
    "outputId": "2658c15f-6ec1-488d-f7a0-75683d717cbb"
   },
   "outputs": [
    {
     "data": {
      "text/plain": [
       "MyMLP(\n",
       "  (linear_1): Linear(in_features=3072, out_features=256, bias=True)\n",
       "  (linear_2): Linear(in_features=256, out_features=10, bias=True)\n",
       "  (relu): ReLU()\n",
       ")"
      ]
     },
     "execution_count": 51,
     "metadata": {},
     "output_type": "execute_result"
    }
   ],
   "source": [
    "## Let's create our MLP\n",
    "in_dim, hid_dim, out_dim = 3*32*32, 256, 10\n",
    "\n",
    "# set device: We will use GPU if it's available, otherwise CPU\n",
    "# GPU is much faster to train neural nets\n",
    "device = torch.device(\"cuda:0\" if torch.cuda.is_available() else \"cpu\")\n",
    "num_epochs = 10\n",
    "\n",
    "my_mlp = MyMLP(in_dim, hid_dim, out_dim)\n",
    "\n",
    "## Move model to `device`: We need everthing (i.e., model, data) on the same device, either CPU, GPU or TPU.\n",
    "my_mlp.to(device)"
   ]
  },
  {
   "cell_type": "markdown",
   "id": "uulrRNC7IcjB",
   "metadata": {
    "id": "uulrRNC7IcjB"
   },
   "source": [
    "Before training, let take a look at [`torchsummary`](https://pypi.org/project/torch-summary/). It provides a useful tool for a summary of the model."
   ]
  },
  {
   "cell_type": "code",
   "execution_count": 52,
   "id": "921ed33b",
   "metadata": {
    "colab": {
     "base_uri": "https://localhost:8080/"
    },
    "id": "921ed33b",
    "outputId": "0709fb39-dea3-4e1c-c19c-65b76bc1fe74"
   },
   "outputs": [
    {
     "name": "stdout",
     "output_type": "stream",
     "text": [
      "----------------------------------------------------------------\n",
      "        Layer (type)               Output Shape         Param #\n",
      "================================================================\n",
      "            Linear-1                  [-1, 256]         786,688\n",
      "              ReLU-2                  [-1, 256]               0\n",
      "            Linear-3                   [-1, 10]           2,570\n",
      "================================================================\n",
      "Total params: 789,258\n",
      "Trainable params: 789,258\n",
      "Non-trainable params: 0\n",
      "----------------------------------------------------------------\n",
      "Input size (MB): 0.01\n",
      "Forward/backward pass size (MB): 0.00\n",
      "Params size (MB): 3.01\n",
      "Estimated Total Size (MB): 3.03\n",
      "----------------------------------------------------------------\n"
     ]
    }
   ],
   "source": [
    "from torchsummary import summary\n",
    "summary(my_mlp, (in_dim, ))"
   ]
  },
  {
   "cell_type": "markdown",
   "id": "WF3gqJG7SPpm",
   "metadata": {
    "id": "WF3gqJG7SPpm"
   },
   "source": [
    "Our model has 786k trainable parameters.\n",
    "\n",
    "Note that **\"-1\"** in *Output Shape* denotes batch size dimension, which is not a part of the model architecture."
   ]
  },
  {
   "cell_type": "code",
   "execution_count": 53,
   "id": "V0wx8uyMCMNR",
   "metadata": {
    "id": "V0wx8uyMCMNR"
   },
   "outputs": [
    {
     "name": "stderr",
     "output_type": "stream",
     "text": [
      "training 1 epoch...: 100%|██████████| 3125/3125 [00:17<00:00, 183.30it/s]\n"
     ]
    },
    {
     "name": "stdout",
     "output_type": "stream",
     "text": [
      "Epoch: 1 | Runtime: 0.57[m] | train_loss: 1.704 | train_acc: 40.166 | test_loss: 1.550 | test_acc: 46.040\n"
     ]
    },
    {
     "name": "stderr",
     "output_type": "stream",
     "text": [
      "training 1 epoch...: 100%|██████████| 3125/3125 [00:16<00:00, 192.95it/s]\n"
     ]
    },
    {
     "name": "stdout",
     "output_type": "stream",
     "text": [
      "Epoch: 2 | Runtime: 1.12[m] | train_loss: 1.498 | train_acc: 47.574 | test_loss: 1.457 | test_acc: 48.290\n"
     ]
    },
    {
     "name": "stderr",
     "output_type": "stream",
     "text": [
      "training 1 epoch...: 100%|██████████| 3125/3125 [00:16<00:00, 193.67it/s]\n"
     ]
    },
    {
     "name": "stdout",
     "output_type": "stream",
     "text": [
      "Epoch: 3 | Runtime: 1.67[m] | train_loss: 1.402 | train_acc: 51.208 | test_loss: 1.399 | test_acc: 51.180\n"
     ]
    },
    {
     "name": "stderr",
     "output_type": "stream",
     "text": [
      "training 1 epoch...: 100%|██████████| 3125/3125 [00:16<00:00, 192.38it/s]\n"
     ]
    },
    {
     "name": "stdout",
     "output_type": "stream",
     "text": [
      "Epoch: 4 | Runtime: 2.22[m] | train_loss: 1.332 | train_acc: 53.718 | test_loss: 1.377 | test_acc: 51.790\n"
     ]
    },
    {
     "name": "stderr",
     "output_type": "stream",
     "text": [
      "training 1 epoch...: 100%|██████████| 3125/3125 [00:15<00:00, 197.24it/s]\n"
     ]
    },
    {
     "name": "stdout",
     "output_type": "stream",
     "text": [
      "Epoch: 5 | Runtime: 2.77[m] | train_loss: 1.276 | train_acc: 55.812 | test_loss: 1.387 | test_acc: 51.150\n"
     ]
    },
    {
     "name": "stderr",
     "output_type": "stream",
     "text": [
      "training 1 epoch...: 100%|██████████| 3125/3125 [00:16<00:00, 189.78it/s]\n"
     ]
    },
    {
     "name": "stdout",
     "output_type": "stream",
     "text": [
      "Epoch: 6 | Runtime: 3.32[m] | train_loss: 1.227 | train_acc: 57.410 | test_loss: 1.370 | test_acc: 52.000\n"
     ]
    },
    {
     "name": "stderr",
     "output_type": "stream",
     "text": [
      "training 1 epoch...: 100%|██████████| 3125/3125 [00:16<00:00, 192.55it/s]\n"
     ]
    },
    {
     "name": "stdout",
     "output_type": "stream",
     "text": [
      "Epoch: 7 | Runtime: 3.87[m] | train_loss: 1.178 | train_acc: 59.046 | test_loss: 1.364 | test_acc: 52.680\n"
     ]
    },
    {
     "name": "stderr",
     "output_type": "stream",
     "text": [
      "training 1 epoch...: 100%|██████████| 3125/3125 [00:16<00:00, 192.24it/s]\n"
     ]
    },
    {
     "name": "stdout",
     "output_type": "stream",
     "text": [
      "Epoch: 8 | Runtime: 4.42[m] | train_loss: 1.141 | train_acc: 60.680 | test_loss: 1.341 | test_acc: 53.450\n"
     ]
    },
    {
     "name": "stderr",
     "output_type": "stream",
     "text": [
      "training 1 epoch...: 100%|██████████| 3125/3125 [00:16<00:00, 192.75it/s]\n"
     ]
    },
    {
     "name": "stdout",
     "output_type": "stream",
     "text": [
      "Epoch: 9 | Runtime: 4.96[m] | train_loss: 1.101 | train_acc: 61.688 | test_loss: 1.345 | test_acc: 53.540\n"
     ]
    },
    {
     "name": "stderr",
     "output_type": "stream",
     "text": [
      "training 1 epoch...: 100%|██████████| 3125/3125 [00:16<00:00, 193.27it/s]\n"
     ]
    },
    {
     "name": "stdout",
     "output_type": "stream",
     "text": [
      "Epoch: 10 | Runtime: 5.52[m] | train_loss: 1.065 | train_acc: 63.216 | test_loss: 1.373 | test_acc: 52.370\n"
     ]
    }
   ],
   "source": [
    "## Train MLP model\n",
    "flatten = True\n",
    "history_mlp = question_5_5_train_model(my_mlp, device, num_epochs, batch_size, trainloader, testloader, flatten)"
   ]
  },
  {
   "cell_type": "code",
   "execution_count": 54,
   "id": "24ef9185",
   "metadata": {
    "colab": {
     "base_uri": "https://localhost:8080/",
     "height": 296
    },
    "id": "24ef9185",
    "outputId": "ba59108e-a1fc-4cdc-b470-17ed55c7e32a"
   },
   "outputs": [
    {
     "data": {
      "text/plain": [
       "<matplotlib.legend.Legend at 0x1584bda50>"
      ]
     },
     "execution_count": 54,
     "metadata": {},
     "output_type": "execute_result"
    },
    {
     "data": {
      "image/png": "[encoded data removed]",
      "text/plain": [
       "<Figure size 640x480 with 1 Axes>"
      ]
     },
     "metadata": {},
     "output_type": "display_data"
    }
   ],
   "source": [
    "## Plot train_loss, test_loss\n",
    "plt.plot(np.arange(num_epochs), history_mlp[\"train_loss\"], label='train loss')\n",
    "plt.plot(np.arange(num_epochs), history_mlp[\"test_loss\"], label='test loss')\n",
    "plt.xlabel('#epochs')\n",
    "plt.ylabel('loss')\n",
    "plt.legend()"
   ]
  },
  {
   "cell_type": "code",
   "execution_count": 55,
   "id": "6be92420",
   "metadata": {
    "colab": {
     "base_uri": "https://localhost:8080/",
     "height": 296
    },
    "id": "6be92420",
    "outputId": "5e4a4e5b-2119-473b-b1da-dcdf5440a62d"
   },
   "outputs": [
    {
     "data": {
      "text/plain": [
       "<matplotlib.legend.Legend at 0x15850f2d0>"
      ]
     },
     "execution_count": 55,
     "metadata": {},
     "output_type": "execute_result"
    },
    {
     "data": {
      "image/png": "[encoded data removed]",
      "text/plain": [
       "<Figure size 640x480 with 1 Axes>"
      ]
     },
     "metadata": {},
     "output_type": "display_data"
    }
   ],
   "source": [
    "## Plot accuracy\n",
    "plt.plot(np.arange(num_epochs), history_mlp[\"train_acc\"], label='train acc')\n",
    "plt.plot(np.arange(num_epochs), history_mlp[\"test_acc\"], label='test acc')\n",
    "plt.xlabel('#epochs')\n",
    "plt.ylabel('accuracy')\n",
    "plt.legend()"
   ]
  },
  {
   "cell_type": "markdown",
   "id": "01c2e532",
   "metadata": {
    "id": "01c2e532"
   },
   "source": [
    "# **Question 6.** CNN  (*15 total points*)\n",
    "CNNs work well with datasets that have locality (data near each other will be more similar) and compositionality (the object consists of small parts). It has been using as a go-to method for images.\n",
    "\n",
    "In this section, we will make a simple CNN model and train it on CIFAR10 dataset."
   ]
  },
  {
   "cell_type": "markdown",
   "id": "8fb3a619",
   "metadata": {
    "id": "8fb3a619"
   },
   "source": [
    "## **6.1 Code:**  CNN model *(10 pts)*\n",
    "\n",
    "Now Let's build the 1 CNN model.\n",
    "\n",
    "- In our CNN model, we have a convolutional layer denoted by `nn.Conv2d(...)`. We are dealing with an image dataset that is in RGB, so we need 3 channel going in, hence `in_channels=3`. We hope to get a nice representation of this layer, so we use `out_channels=32`. Kernel size is 5, and for the rest of parameters we use the default values which you can find [here](https://pytorch.org/docs/stable/nn.html?highlight=conv2d#conv2d).\n",
    "\n",
    "- After each one of CONV or Linear Layers, we also apply an activation function such as `ReLU`.\n",
    "\n",
    "Denote: **block_i = (conv_i -> relu -> pool)**\n",
    "\n",
    "Let's say we want to build a CNN model as follows:  **input x -> block_1 -> block_2 -> flatten -> fc1 -> relu -> fc2 -> relu -> fc3**  (where fc is linear layer, you can refer to the model summary below)\n",
    "\n",
    "You need to complete \\_\\_init__() (fill in ##### [YOUR CODE])   and forward() of `MyCNN`."
   ]
  },
  {
   "cell_type": "code",
   "execution_count": 58,
   "id": "8e726209",
   "metadata": {
    "id": "8e726209"
   },
   "outputs": [],
   "source": [
    "import torch.nn as nn\n",
    "import torch.nn.functional as F\n",
    "\n",
    "class MyCNN(nn.Module):\n",
    "    def __init__(self):\n",
    "        super().__init__()\n",
    "        ## Recall that input images are 3x32x32,\n",
    "        # i.e., 3 channels (red, green, blue), each of size 32x32 pixels.\n",
    "\n",
    "\n",
    "        ## An example of conv and pooling layers\n",
    "        self.conv1 = nn.Conv2d(3, 32, kernel_size=(5, 5), stride=1, padding=0)\n",
    "        # The first convolutional layer, `conv1`, expects 3 input channels,\n",
    "        # and will convolve 32 filters each of size 3x5x5.\n",
    "        # Since padding is set to 0 and stride is set to 1 as default,\n",
    "        # the output size is (32, 28, 28).\n",
    "        # This layer has ((3*5*5)+1)*32 = 2,432 parameters\n",
    "\n",
    "\n",
    "        self.pool = nn.MaxPool2d(kernel_size=(2, 2), stride=2, padding=0)\n",
    "        ## The first down-sampling layer uses max pooling with a (2,2) kernel\n",
    "        # and a stride of 2. This effectively drops half of spatial size.\n",
    "\n",
    "        self.conv2 = nn.Conv2d(32, 16, kernel_size=(5, 5), stride=1, padding=0)\n",
    "        ## Similarly, we make another conv layer\n",
    "\n",
    "\n",
    "        # Write your code in this block --------------------------------------------------------------\n",
    "\n",
    "        self.fc1 = nn.Linear(16*5*5, 64)\n",
    "        ## fc1 is a Linear layer. You'll need to look at the output of conv2 and the input of fc2 to\n",
    "        # determine the in_dim and out_dim for fc1. You can do this by printing out the shape of the output of conv2 in forward() function.\n",
    "        # End of your code ---------------------------------------------------------------------------\n",
    "\n",
    "\n",
    "        self.fc2 = nn.Linear(64, 32)\n",
    "        self.fc3 = nn.Linear(32, 10)\n",
    "        self.relu = nn.ReLU()\n",
    "\n",
    "    def forward(self, x):\n",
    "\n",
    "        # Implement your forward pass\n",
    "        # Write your code in this block --------------------------------------------------------------\n",
    "        x = self.conv1(x)\n",
    "        x = self.relu(x)\n",
    "        x = self.pool(x)\n",
    "\n",
    "        x = self.conv2(x)\n",
    "        x = self.relu(x)\n",
    "        x = self.pool(x)\n",
    "\n",
    "        x = x.view(x.size(0), -1)\n",
    "\n",
    "        x = self.fc1(x)\n",
    "        x = self.relu(x)\n",
    "        x = self.fc2(x)\n",
    "        x = self.relu(x)\n",
    "        x = self.fc3(x)\n",
    "\n",
    "\n",
    "        # End of your code ---------------------------------------------------------------------------\n",
    "\n",
    "        return x"
   ]
  },
  {
   "cell_type": "code",
   "execution_count": 59,
   "id": "ffe5e6c2",
   "metadata": {
    "colab": {
     "base_uri": "https://localhost:8080/"
    },
    "id": "ffe5e6c2",
    "outputId": "5e1bf75c-0443-4314-8174-d597543593b1"
   },
   "outputs": [
    {
     "name": "stdout",
     "output_type": "stream",
     "text": [
      "----------------------------------------------------------------\n",
      "        Layer (type)               Output Shape         Param #\n",
      "================================================================\n",
      "            Conv2d-1           [-1, 32, 28, 28]           2,432\n",
      "              ReLU-2           [-1, 32, 28, 28]               0\n",
      "         MaxPool2d-3           [-1, 32, 14, 14]               0\n",
      "            Conv2d-4           [-1, 16, 10, 10]          12,816\n",
      "              ReLU-5           [-1, 16, 10, 10]               0\n",
      "         MaxPool2d-6             [-1, 16, 5, 5]               0\n",
      "            Linear-7                   [-1, 64]          25,664\n",
      "              ReLU-8                   [-1, 64]               0\n",
      "            Linear-9                   [-1, 32]           2,080\n",
      "             ReLU-10                   [-1, 32]               0\n",
      "           Linear-11                   [-1, 10]             330\n",
      "================================================================\n",
      "Total params: 43,322\n",
      "Trainable params: 43,322\n",
      "Non-trainable params: 0\n",
      "----------------------------------------------------------------\n",
      "Input size (MB): 0.01\n",
      "Forward/backward pass size (MB): 0.46\n",
      "Params size (MB): 0.17\n",
      "Estimated Total Size (MB): 0.64\n",
      "----------------------------------------------------------------\n"
     ]
    }
   ],
   "source": [
    "my_cnn = MyCNN().to(device)\n",
    "summary(my_cnn, images.shape[1:])"
   ]
  },
  {
   "cell_type": "code",
   "execution_count": 60,
   "id": "465382b6",
   "metadata": {
    "id": "465382b6"
   },
   "outputs": [
    {
     "name": "stderr",
     "output_type": "stream",
     "text": [
      "training 1 epoch...: 100%|██████████| 3125/3125 [00:38<00:00, 80.45it/s] \n"
     ]
    },
    {
     "name": "stdout",
     "output_type": "stream",
     "text": [
      "Epoch: 1 | Runtime: 0.97[m] | train_loss: 2.042 | train_acc: 23.632 | test_loss: 1.659 | test_acc: 38.400\n"
     ]
    },
    {
     "name": "stderr",
     "output_type": "stream",
     "text": [
      "training 1 epoch...: 100%|██████████| 3125/3125 [00:38<00:00, 80.76it/s] \n"
     ]
    },
    {
     "name": "stdout",
     "output_type": "stream",
     "text": [
      "Epoch: 2 | Runtime: 1.92[m] | train_loss: 1.506 | train_acc: 44.502 | test_loss: 1.399 | test_acc: 48.620\n"
     ]
    },
    {
     "name": "stderr",
     "output_type": "stream",
     "text": [
      "training 1 epoch...: 100%|██████████| 3125/3125 [00:37<00:00, 82.86it/s] \n"
     ]
    },
    {
     "name": "stdout",
     "output_type": "stream",
     "text": [
      "Epoch: 3 | Runtime: 2.86[m] | train_loss: 1.330 | train_acc: 51.542 | test_loss: 1.331 | test_acc: 52.210\n"
     ]
    },
    {
     "name": "stderr",
     "output_type": "stream",
     "text": [
      "training 1 epoch...: 100%|██████████| 3125/3125 [00:37<00:00, 84.30it/s] \n"
     ]
    },
    {
     "name": "stdout",
     "output_type": "stream",
     "text": [
      "Epoch: 4 | Runtime: 3.79[m] | train_loss: 1.210 | train_acc: 56.324 | test_loss: 1.152 | test_acc: 58.990\n"
     ]
    },
    {
     "name": "stderr",
     "output_type": "stream",
     "text": [
      "training 1 epoch...: 100%|██████████| 3125/3125 [00:38<00:00, 82.18it/s] \n"
     ]
    },
    {
     "name": "stdout",
     "output_type": "stream",
     "text": [
      "Epoch: 5 | Runtime: 4.73[m] | train_loss: 1.109 | train_acc: 60.612 | test_loss: 1.119 | test_acc: 61.050\n"
     ]
    },
    {
     "name": "stderr",
     "output_type": "stream",
     "text": [
      "training 1 epoch...: 100%|██████████| 3125/3125 [00:38<00:00, 81.33it/s] \n"
     ]
    },
    {
     "name": "stdout",
     "output_type": "stream",
     "text": [
      "Epoch: 6 | Runtime: 5.69[m] | train_loss: 1.036 | train_acc: 63.394 | test_loss: 1.057 | test_acc: 63.200\n"
     ]
    },
    {
     "name": "stderr",
     "output_type": "stream",
     "text": [
      "training 1 epoch...: 100%|██████████| 3125/3125 [00:37<00:00, 83.45it/s] \n"
     ]
    },
    {
     "name": "stdout",
     "output_type": "stream",
     "text": [
      "Epoch: 7 | Runtime: 6.64[m] | train_loss: 0.980 | train_acc: 65.370 | test_loss: 1.018 | test_acc: 63.490\n"
     ]
    },
    {
     "name": "stderr",
     "output_type": "stream",
     "text": [
      "training 1 epoch...: 100%|██████████| 3125/3125 [00:37<00:00, 84.26it/s] \n"
     ]
    },
    {
     "name": "stdout",
     "output_type": "stream",
     "text": [
      "Epoch: 8 | Runtime: 7.57[m] | train_loss: 0.933 | train_acc: 67.256 | test_loss: 0.960 | test_acc: 66.370\n"
     ]
    },
    {
     "name": "stderr",
     "output_type": "stream",
     "text": [
      "training 1 epoch...: 100%|██████████| 3125/3125 [00:36<00:00, 84.51it/s] \n"
     ]
    },
    {
     "name": "stdout",
     "output_type": "stream",
     "text": [
      "Epoch: 9 | Runtime: 8.50[m] | train_loss: 0.894 | train_acc: 68.534 | test_loss: 0.991 | test_acc: 64.870\n"
     ]
    },
    {
     "name": "stderr",
     "output_type": "stream",
     "text": [
      "training 1 epoch...: 100%|██████████| 3125/3125 [00:36<00:00, 84.65it/s] \n"
     ]
    },
    {
     "name": "stdout",
     "output_type": "stream",
     "text": [
      "Epoch: 10 | Runtime: 9.42[m] | train_loss: 0.853 | train_acc: 70.192 | test_loss: 0.962 | test_acc: 66.590\n"
     ]
    }
   ],
   "source": [
    "## Train CNN\n",
    "history_cnn = question_5_5_train_model(my_cnn, device, num_epochs, batch_size, trainloader, testloader)"
   ]
  },
  {
   "cell_type": "code",
   "execution_count": 61,
   "id": "1adde084",
   "metadata": {
    "id": "1adde084"
   },
   "outputs": [
    {
     "data": {
      "text/plain": [
       "<matplotlib.legend.Legend at 0x1587dd2d0>"
      ]
     },
     "execution_count": 61,
     "metadata": {},
     "output_type": "execute_result"
    },
    {
     "data": {
      "image/png": "[encoded data removed]",
      "text/plain": [
       "<Figure size 640x480 with 1 Axes>"
      ]
     },
     "metadata": {},
     "output_type": "display_data"
    }
   ],
   "source": [
    "## Plot train_loss, test_loss of CNN model\n",
    "plt.plot(np.arange(num_epochs), history_cnn[\"train_loss\"], label='train loss')\n",
    "plt.plot(np.arange(num_epochs), history_cnn[\"test_loss\"], label='test loss')\n",
    "plt.xlabel('#epochs')\n",
    "plt.ylabel('loss')\n",
    "plt.legend()"
   ]
  },
  {
   "cell_type": "code",
   "execution_count": 62,
   "id": "c6bca8ea",
   "metadata": {
    "id": "c6bca8ea"
   },
   "outputs": [
    {
     "data": {
      "text/plain": [
       "<matplotlib.legend.Legend at 0x158765410>"
      ]
     },
     "execution_count": 62,
     "metadata": {},
     "output_type": "execute_result"
    },
    {
     "data": {
      "image/png": "[encoded data removed]",
      "text/plain": [
       "<Figure size 640x480 with 1 Axes>"
      ]
     },
     "metadata": {},
     "output_type": "display_data"
    }
   ],
   "source": [
    "## Plot accuracy\n",
    "\n",
    "plt.plot(np.arange(num_epochs), history_cnn[\"train_acc\"], label='train acc')\n",
    "plt.plot(np.arange(num_epochs), history_cnn[\"test_acc\"], label='test acc')\n",
    "plt.xlabel('#epochs')\n",
    "plt.ylabel('accuracy')\n",
    "plt.legend()"
   ]
  },
  {
   "cell_type": "markdown",
   "id": "75cd01d1",
   "metadata": {
    "id": "75cd01d1"
   },
   "source": [
    "## **6.2.1 Short answer:** MLP vs. CNN *(2.5 pts)*\n",
    "\n",
    "Compare to the results of MLP and CNN, which model learns better on image dataset - MLP or CNN? Explain your answer.\n",
    "\n",
    "Hint: You can discuss on accuracy, runtime, number of parameters, etc."
   ]
  },
  {
   "cell_type": "markdown",
   "id": "eaf31671",
   "metadata": {
    "id": "eaf31671"
   },
   "source": [
    "Write your answer in this block\n",
    "\n",
    "**Answer:**\n",
    "The CNN model learns better on image datasets compared to the MLP model. This is because CNNs are specifically designed to capture spatial hierarchies in images, allowing them to learn local patterns and features more effectively. The MLP model, treats each pixel independently, which can lead to a loss of spatial information. \n",
    "CNNs achieve higher test accuracy (66.59) than MLP (52.37). Additionally, CNNs have fewer parameters than MLPs for the same task, making them more efficient in terms of computation and memory usage."
   ]
  },
  {
   "cell_type": "markdown",
   "id": "Iq8h5be4nEmM",
   "metadata": {
    "id": "Iq8h5be4nEmM"
   },
   "source": [
    "## **6.2.2 Short answer:** You are given a MLP model. Briefly descrive in 5 steps as to how you can convert a MLP into a CNN model.  *(2.5 pts)*\n"
   ]
  },
  {
   "cell_type": "markdown",
   "id": "xbVOItavvqmJ",
   "metadata": {
    "id": "xbVOItavvqmJ"
   },
   "source": [
    "Write your answer in this block\n",
    "\n",
    "**Answer:**\n",
    "1. Reshape the input from a flat vector to an image tensor\n",
    "2. Replace first Linear layers with Conv2d layers\n",
    "3. Add activation functions (e.g., ReLU) after each Conv2d layer\n",
    "4. Add pooling layers (e.g., MaxPool2d) after each Conv2d layer\n",
    "5. Flatten the output of the last pooling layer before passing it to the final Linear layers\n"
   ]
  },
  {
   "cell_type": "markdown",
   "id": "wdd3ejW6oMwF",
   "metadata": {
    "id": "wdd3ejW6oMwF"
   },
   "source": [
    "## **6.3  (Bonus) CNN Architecture**. (10 points - Manual grading)\n",
    "\n",
    "We have built a simple CNN model, and it works quite well on the dataset.\n",
    "Assume we fix the number of epochs (10), optimizer and the loss function, can we improve the CNN architecture to gain more accuracy?\n",
    "\n",
    "**One very impactful and simple concept is using residuals:**\n",
    "https://arxiv.org/pdf/1512.03385.pdf\n",
    "\n",
    "The idea is simple: When stacking multiple layers, we sometimes add in the outputs from a few layers before to the output of a certain layer.\n",
    "\n"
   ]
  },
  {
   "cell_type": "code",
   "execution_count": 68,
   "id": "7b44f3de",
   "metadata": {
    "id": "7b44f3de",
    "outputId": "bbc24383-2bfe-4999-aa66-37be6d6d3842"
   },
   "outputs": [
    {
     "data": {
      "image/webp": "[encoded data removed]",
      "text/plain": [
       "<IPython.core.display.Image object>"
      ]
     },
     "metadata": {},
     "output_type": "display_data"
    }
   ],
   "source": [
    "import requests\n",
    "from IPython.display import Image, display\n",
    "\n",
    "display(Image(requests.get(\"https://miro.medium.com/v2/resize:fit:640/format:webp/1*D0F3UitQ2l5Q0Ak-tjEdJg.png\").content))"
   ]
  },
  {
   "cell_type": "markdown",
   "id": "0e1136eb",
   "metadata": {
    "id": "0e1136eb"
   },
   "source": [
    "### **5 points:** Let's implement a 3-layer CNN with a residual connection.\n",
    "The CNN should have 3 conv layers : conv1, conv2, conv3 and be implemented similar to MyCNN in 5.1. Now, add a residual connection from the output of the first conv1 layer to the output of the conv3 layer.\n",
    "\n",
    "Hint 1: The output of the Conv1 has 32 channels - it might be benefecial to change that to 16 in this case so that it can be easily added to the output of the conv3 - which also has 16 channels. Even after this, the output shape of conv1\n",
    "\n",
    "Hint 2: Note that the convoulution layers reduce the height and width of the input. Hence, the output of the conv3 layer will be smaller (and hence different) from conv_1. We won't be able to add them together with different shapes. Hence, one trick is padding - padding the images with 0's at every input to keep the output dimensions of the convolution layer the same as the input image wihtout the padding. You can do in Pytorch by passing the argument `padding=\"same\"` in the conv2d init."
   ]
  },
  {
   "cell_type": "code",
   "execution_count": 79,
   "id": "kL8psPGw9gM7",
   "metadata": {
    "id": "kL8psPGw9gM7"
   },
   "outputs": [
    {
     "name": "stderr",
     "output_type": "stream",
     "text": [
      "training 1 epoch...: 100%|██████████| 3125/3125 [01:04<00:00, 48.37it/s]\n"
     ]
    },
    {
     "name": "stdout",
     "output_type": "stream",
     "text": [
      "Epoch: 1 | Runtime: 1.42[m] | train_loss: 1.657 | train_acc: 41.090 | test_loss: 1.405 | test_acc: 49.700\n"
     ]
    },
    {
     "name": "stderr",
     "output_type": "stream",
     "text": [
      "training 1 epoch...: 100%|██████████| 3125/3125 [01:04<00:00, 48.29it/s]\n"
     ]
    },
    {
     "name": "stdout",
     "output_type": "stream",
     "text": [
      "Epoch: 2 | Runtime: 2.84[m] | train_loss: 1.294 | train_acc: 53.796 | test_loss: 1.240 | test_acc: 56.110\n"
     ]
    },
    {
     "name": "stderr",
     "output_type": "stream",
     "text": [
      "training 1 epoch...: 100%|██████████| 3125/3125 [01:01<00:00, 50.59it/s]\n"
     ]
    },
    {
     "name": "stdout",
     "output_type": "stream",
     "text": [
      "Epoch: 3 | Runtime: 4.20[m] | train_loss: 1.134 | train_acc: 59.832 | test_loss: 1.129 | test_acc: 59.590\n"
     ]
    },
    {
     "name": "stderr",
     "output_type": "stream",
     "text": [
      "training 1 epoch...: 100%|██████████| 3125/3125 [01:02<00:00, 50.34it/s]\n"
     ]
    },
    {
     "name": "stdout",
     "output_type": "stream",
     "text": [
      "Epoch: 4 | Runtime: 5.55[m] | train_loss: 1.011 | train_acc: 64.174 | test_loss: 1.062 | test_acc: 62.790\n"
     ]
    },
    {
     "name": "stderr",
     "output_type": "stream",
     "text": [
      "training 1 epoch...: 100%|██████████| 3125/3125 [01:01<00:00, 50.80it/s]\n"
     ]
    },
    {
     "name": "stdout",
     "output_type": "stream",
     "text": [
      "Epoch: 5 | Runtime: 6.91[m] | train_loss: 0.905 | train_acc: 68.124 | test_loss: 0.998 | test_acc: 64.980\n"
     ]
    },
    {
     "name": "stderr",
     "output_type": "stream",
     "text": [
      "training 1 epoch...: 100%|██████████| 3125/3125 [01:01<00:00, 51.11it/s]\n"
     ]
    },
    {
     "name": "stdout",
     "output_type": "stream",
     "text": [
      "Epoch: 6 | Runtime: 8.25[m] | train_loss: 0.824 | train_acc: 71.008 | test_loss: 1.036 | test_acc: 63.880\n"
     ]
    },
    {
     "name": "stderr",
     "output_type": "stream",
     "text": [
      "training 1 epoch...: 100%|██████████| 3125/3125 [01:01<00:00, 50.63it/s]\n"
     ]
    },
    {
     "name": "stdout",
     "output_type": "stream",
     "text": [
      "Epoch: 7 | Runtime: 9.60[m] | train_loss: 0.753 | train_acc: 73.534 | test_loss: 0.974 | test_acc: 66.110\n"
     ]
    },
    {
     "name": "stderr",
     "output_type": "stream",
     "text": [
      "training 1 epoch...: 100%|██████████| 3125/3125 [01:03<00:00, 49.17it/s]\n"
     ]
    },
    {
     "name": "stdout",
     "output_type": "stream",
     "text": [
      "Epoch: 8 | Runtime: 10.99[m] | train_loss: 0.689 | train_acc: 75.718 | test_loss: 0.993 | test_acc: 66.170\n"
     ]
    },
    {
     "name": "stderr",
     "output_type": "stream",
     "text": [
      "training 1 epoch...: 100%|██████████| 3125/3125 [01:01<00:00, 50.93it/s]\n"
     ]
    },
    {
     "name": "stdout",
     "output_type": "stream",
     "text": [
      "Epoch: 9 | Runtime: 12.34[m] | train_loss: 0.629 | train_acc: 77.856 | test_loss: 1.018 | test_acc: 66.340\n"
     ]
    },
    {
     "name": "stderr",
     "output_type": "stream",
     "text": [
      "training 1 epoch...: 100%|██████████| 3125/3125 [01:01<00:00, 50.82it/s]\n"
     ]
    },
    {
     "name": "stdout",
     "output_type": "stream",
     "text": [
      "Epoch: 10 | Runtime: 13.69[m] | train_loss: 0.569 | train_acc: 80.022 | test_loss: 1.056 | test_acc: 66.200\n"
     ]
    },
    {
     "name": "stderr",
     "output_type": "stream",
     "text": [
      "training 1 epoch...: 100%|██████████| 3125/3125 [02:12<00:00, 23.51it/s]\n"
     ]
    },
    {
     "name": "stdout",
     "output_type": "stream",
     "text": [
      "Epoch: 1 | Runtime: 2.63[m] | train_loss: 1.476 | train_acc: 46.200 | test_loss: 1.134 | test_acc: 59.460\n"
     ]
    },
    {
     "name": "stderr",
     "output_type": "stream",
     "text": [
      "training 1 epoch...: 100%|██████████| 3125/3125 [02:08<00:00, 24.35it/s]\n"
     ]
    },
    {
     "name": "stdout",
     "output_type": "stream",
     "text": [
      "Epoch: 2 | Runtime: 5.18[m] | train_loss: 1.138 | train_acc: 59.344 | test_loss: 0.952 | test_acc: 66.230\n"
     ]
    },
    {
     "name": "stderr",
     "output_type": "stream",
     "text": [
      "training 1 epoch...: 100%|██████████| 3125/3125 [02:06<00:00, 24.79it/s]\n"
     ]
    },
    {
     "name": "stdout",
     "output_type": "stream",
     "text": [
      "Epoch: 3 | Runtime: 7.68[m] | train_loss: 0.990 | train_acc: 65.154 | test_loss: 0.860 | test_acc: 70.090\n"
     ]
    },
    {
     "name": "stderr",
     "output_type": "stream",
     "text": [
      "training 1 epoch...: 100%|██████████| 3125/3125 [02:05<00:00, 24.89it/s]\n"
     ]
    },
    {
     "name": "stdout",
     "output_type": "stream",
     "text": [
      "Epoch: 4 | Runtime: 10.18[m] | train_loss: 0.911 | train_acc: 68.004 | test_loss: 0.787 | test_acc: 72.580\n"
     ]
    },
    {
     "name": "stderr",
     "output_type": "stream",
     "text": [
      "training 1 epoch...: 100%|██████████| 3125/3125 [02:05<00:00, 24.95it/s]\n"
     ]
    },
    {
     "name": "stdout",
     "output_type": "stream",
     "text": [
      "Epoch: 5 | Runtime: 12.68[m] | train_loss: 0.851 | train_acc: 70.224 | test_loss: 0.764 | test_acc: 73.590\n"
     ]
    },
    {
     "name": "stderr",
     "output_type": "stream",
     "text": [
      "training 1 epoch...: 100%|██████████| 3125/3125 [02:05<00:00, 24.88it/s]\n"
     ]
    },
    {
     "name": "stdout",
     "output_type": "stream",
     "text": [
      "Epoch: 6 | Runtime: 15.18[m] | train_loss: 0.792 | train_acc: 72.400 | test_loss: 0.757 | test_acc: 74.070\n"
     ]
    },
    {
     "name": "stderr",
     "output_type": "stream",
     "text": [
      "training 1 epoch...: 100%|██████████| 3125/3125 [02:05<00:00, 24.87it/s]\n"
     ]
    },
    {
     "name": "stdout",
     "output_type": "stream",
     "text": [
      "Epoch: 7 | Runtime: 17.68[m] | train_loss: 0.753 | train_acc: 73.362 | test_loss: 0.725 | test_acc: 75.100\n"
     ]
    },
    {
     "name": "stderr",
     "output_type": "stream",
     "text": [
      "training 1 epoch...: 100%|██████████| 3125/3125 [02:06<00:00, 24.77it/s]\n"
     ]
    },
    {
     "name": "stdout",
     "output_type": "stream",
     "text": [
      "Epoch: 8 | Runtime: 20.19[m] | train_loss: 0.713 | train_acc: 74.918 | test_loss: 0.726 | test_acc: 74.370\n"
     ]
    },
    {
     "name": "stderr",
     "output_type": "stream",
     "text": [
      "training 1 epoch...: 100%|██████████| 3125/3125 [02:05<00:00, 24.88it/s]\n"
     ]
    },
    {
     "name": "stdout",
     "output_type": "stream",
     "text": [
      "Epoch: 9 | Runtime: 22.69[m] | train_loss: 0.680 | train_acc: 76.256 | test_loss: 0.685 | test_acc: 76.510\n"
     ]
    },
    {
     "name": "stderr",
     "output_type": "stream",
     "text": [
      "training 1 epoch...: 100%|██████████| 3125/3125 [02:05<00:00, 24.84it/s]\n"
     ]
    },
    {
     "name": "stdout",
     "output_type": "stream",
     "text": [
      "Epoch: 10 | Runtime: 25.20[m] | train_loss: 0.651 | train_acc: 77.254 | test_loss: 0.666 | test_acc: 77.260\n"
     ]
    },
    {
     "data": {
      "text/plain": [
       "<matplotlib.legend.Legend at 0x1192b1750>"
      ]
     },
     "execution_count": 79,
     "metadata": {},
     "output_type": "execute_result"
    },
    {
     "data": {
      "image/png": "[encoded data removed]",
      "text/plain": [
       "<Figure size 640x480 with 1 Axes>"
      ]
     },
     "metadata": {},
     "output_type": "display_data"
    }
   ],
   "source": [
    "class ResidualCNN(nn.Module):\n",
    "    \"\"\"\n",
    "      Feel free to experiment on CNN model.\n",
    "      You only need to report the model that has the best performance on the dataset.\n",
    "    \"\"\"\n",
    "\n",
    "    def __init__(self):\n",
    "        super().__init__()\n",
    "        self.conv1 = nn.Conv2d(3, 16, kernel_size=3, stride=1, padding='same')\n",
    "\n",
    "        self.conv2 = nn.Conv2d(16, 16, kernel_size=3, stride=1, padding='same')\n",
    "\n",
    "        self.conv3 = nn.Conv2d(16, 16, kernel_size=3, stride=1, padding='same')\n",
    "\n",
    "        self.pool = nn.MaxPool2d(2, 2)\n",
    "\n",
    "        self.fc1 = nn.Linear(16 * 16 * 16, 64)\n",
    "        self.fc2 = nn.Linear(64, 10)\n",
    "\n",
    "        self.relu = nn.ReLU()\n",
    "\n",
    "\n",
    "    def forward(self, x):\n",
    "        out1 = self.relu(self.conv1(x))      \n",
    "        out2 = self.relu(self.conv2(out1))   \n",
    "        out3 = self.relu(self.conv3(out2))   \n",
    "\n",
    "        # Residual connection\n",
    "        out = out1 + out3\n",
    "\n",
    "        out = self.pool(out) \n",
    "\n",
    "        out = out.view(out.size(0), -1) \n",
    "        out = self.relu(self.fc1(out))\n",
    "        out = self.fc2(out)\n",
    "        return out\n",
    "\n",
    "class MyBestCNN(nn.Module):\n",
    "    def __init__(self):\n",
    "        super().__init__()\n",
    "\n",
    "        self.conv1 = nn.Conv2d(3, 32, kernel_size=3, padding=\"same\")\n",
    "        self.bn1 = nn.BatchNorm2d(32)\n",
    "\n",
    "        self.conv2 = nn.Conv2d(32, 32, kernel_size=3, padding=\"same\")\n",
    "        self.bn2 = nn.BatchNorm2d(32)\n",
    "\n",
    "        self.conv3 = nn.Conv2d(32, 64, kernel_size=3, padding=\"same\")\n",
    "        self.bn3 = nn.BatchNorm2d(64)\n",
    "\n",
    "        self.conv4 = nn.Conv2d(64, 64, kernel_size=3, padding=\"same\")\n",
    "        self.bn4 = nn.BatchNorm2d(64)\n",
    "\n",
    "        self.pool = nn.MaxPool2d(2, 2)\n",
    "        self.dropout = nn.Dropout(0.3)\n",
    "\n",
    "        self.fc1 = nn.Linear(64 * 8 * 8, 128)\n",
    "        self.fc2 = nn.Linear(128, 10)\n",
    "\n",
    "    def forward(self, x):\n",
    "        out = F.relu(self.bn1(self.conv1(x)))\n",
    "        residual = out  \n",
    "        out = F.relu(self.bn2(self.conv2(out)))\n",
    "        out = out + residual  \n",
    "\n",
    "        out = self.pool(out)\n",
    "        out = self.dropout(out)\n",
    "\n",
    "        out = F.relu(self.bn3(self.conv3(out)))\n",
    "        residual = out  \n",
    "        out = F.relu(self.bn4(self.conv4(out)))\n",
    "        out = out + residual  \n",
    "\n",
    "        out = self.pool(out)\n",
    "        out = self.dropout(out)\n",
    "\n",
    "        out = out.view(out.size(0), -1)  \n",
    "        out = F.relu(self.fc1(out))\n",
    "        out = self.fc2(out)\n",
    "        return out\n",
    "\n",
    "## You need to:\n",
    "#   + Fill in the `MyBestCNN` class, use the best model you have\n",
    "#   + Show the training log (train/test loss and accuracy) of the best model (you should use `question_5_5_train_model()` as the code below)\n",
    "#   + Discuss about your experiment\n",
    "\n",
    "### Initialize your model\n",
    "# cnn_res = ResidualCNN()\n",
    "\n",
    "#### Show the training log.\n",
    "# history_res_cnn = question_5_5_train_model(cnn_res, device, num_epochs, batch_size, trainloader, testloader)\n",
    "# # Plot accuracy\n",
    "# plt.plot(np.arange(num_epochs), history_res_cnn[\"train_acc\"], label='train acc')\n",
    "# plt.plot(np.arange(num_epochs), history_res_cnn[\"test_acc\"], label='test acc')\n",
    "# plt.xlabel('#epochs')\n",
    "# plt.ylabel('accuracy')\n",
    "# plt.legend()\n",
    "\n",
    "# cnn_best = MyBestCNN()\n",
    "# history_best_cnn = question_5_5_train_model(cnn_best, device, num_epochs, batch_size, trainloader, testloader)\n",
    "# # Plot accuracy\n",
    "# plt.plot(np.arange(num_epochs), history_best_cnn[\"train_acc\"], label='train acc')\n",
    "# plt.plot(np.arange(num_epochs), history_best_cnn[\"test_acc\"], label='test acc')\n",
    "# plt.xlabel('#epochs')\n",
    "# plt.ylabel('accuracy')\n",
    "# plt.legend()"
   ]
  },
  {
   "cell_type": "markdown",
   "id": "cff82c9b",
   "metadata": {
    "id": "cff82c9b"
   },
   "source": [
    "### **5 points:** Short Answer: Compare to network without the residual connections\n",
    "\n",
    "Make the same network below and remove the residual connection. Compare the performance.\n",
    "\n",
    "Feel free to change the number of layers of the CNN. Does the residual connection help more with more layers? What about changing the number of residual connections?\n",
    "\n",
    "This is an open-ended exploratory answer."
   ]
  },
  {
   "cell_type": "code",
   "execution_count": 76,
   "id": "62b596ee",
   "metadata": {
    "id": "62b596ee"
   },
   "outputs": [
    {
     "name": "stderr",
     "output_type": "stream",
     "text": [
      "training 1 epoch...: 100%|██████████| 3125/3125 [01:01<00:00, 50.86it/s]\n"
     ]
    },
    {
     "name": "stdout",
     "output_type": "stream",
     "text": [
      "Epoch: 1 | Runtime: 1.36[m] | train_loss: 1.860 | train_acc: 33.110 | test_loss: 1.576 | test_acc: 43.730\n"
     ]
    },
    {
     "name": "stderr",
     "output_type": "stream",
     "text": [
      "training 1 epoch...: 100%|██████████| 3125/3125 [01:03<00:00, 48.99it/s]\n"
     ]
    },
    {
     "name": "stdout",
     "output_type": "stream",
     "text": [
      "Epoch: 2 | Runtime: 2.76[m] | train_loss: 1.474 | train_acc: 46.864 | test_loss: 1.385 | test_acc: 50.100\n"
     ]
    },
    {
     "name": "stderr",
     "output_type": "stream",
     "text": [
      "training 1 epoch...: 100%|██████████| 3125/3125 [01:02<00:00, 49.68it/s]\n"
     ]
    },
    {
     "name": "stdout",
     "output_type": "stream",
     "text": [
      "Epoch: 3 | Runtime: 4.13[m] | train_loss: 1.313 | train_acc: 52.862 | test_loss: 1.285 | test_acc: 54.120\n"
     ]
    },
    {
     "name": "stderr",
     "output_type": "stream",
     "text": [
      "training 1 epoch...: 100%|██████████| 3125/3125 [01:02<00:00, 50.22it/s]\n"
     ]
    },
    {
     "name": "stdout",
     "output_type": "stream",
     "text": [
      "Epoch: 4 | Runtime: 5.49[m] | train_loss: 1.168 | train_acc: 58.248 | test_loss: 1.157 | test_acc: 58.970\n"
     ]
    },
    {
     "name": "stderr",
     "output_type": "stream",
     "text": [
      "training 1 epoch...: 100%|██████████| 3125/3125 [01:01<00:00, 50.75it/s]\n"
     ]
    },
    {
     "name": "stdout",
     "output_type": "stream",
     "text": [
      "Epoch: 5 | Runtime: 6.85[m] | train_loss: 1.027 | train_acc: 63.680 | test_loss: 1.075 | test_acc: 62.470\n"
     ]
    },
    {
     "name": "stderr",
     "output_type": "stream",
     "text": [
      "training 1 epoch...: 100%|██████████| 3125/3125 [01:02<00:00, 49.83it/s]\n"
     ]
    },
    {
     "name": "stdout",
     "output_type": "stream",
     "text": [
      "Epoch: 6 | Runtime: 8.22[m] | train_loss: 0.911 | train_acc: 67.804 | test_loss: 1.037 | test_acc: 63.560\n"
     ]
    },
    {
     "name": "stderr",
     "output_type": "stream",
     "text": [
      "training 1 epoch...: 100%|██████████| 3125/3125 [01:05<00:00, 47.41it/s]\n"
     ]
    },
    {
     "name": "stdout",
     "output_type": "stream",
     "text": [
      "Epoch: 7 | Runtime: 9.65[m] | train_loss: 0.811 | train_acc: 71.382 | test_loss: 0.996 | test_acc: 65.630\n"
     ]
    },
    {
     "name": "stderr",
     "output_type": "stream",
     "text": [
      "training 1 epoch...: 100%|██████████| 3125/3125 [01:04<00:00, 48.32it/s]\n"
     ]
    },
    {
     "name": "stdout",
     "output_type": "stream",
     "text": [
      "Epoch: 8 | Runtime: 11.06[m] | train_loss: 0.718 | train_acc: 74.676 | test_loss: 0.994 | test_acc: 66.390\n"
     ]
    },
    {
     "name": "stderr",
     "output_type": "stream",
     "text": [
      "training 1 epoch...: 100%|██████████| 3125/3125 [01:00<00:00, 51.62it/s]\n"
     ]
    },
    {
     "name": "stdout",
     "output_type": "stream",
     "text": [
      "Epoch: 9 | Runtime: 12.39[m] | train_loss: 0.633 | train_acc: 77.752 | test_loss: 1.045 | test_acc: 65.570\n"
     ]
    },
    {
     "name": "stderr",
     "output_type": "stream",
     "text": [
      "training 1 epoch...: 100%|██████████| 3125/3125 [01:02<00:00, 50.24it/s]\n"
     ]
    },
    {
     "name": "stdout",
     "output_type": "stream",
     "text": [
      "Epoch: 10 | Runtime: 13.76[m] | train_loss: 0.557 | train_acc: 80.336 | test_loss: 1.100 | test_acc: 65.190\n"
     ]
    },
    {
     "data": {
      "text/plain": [
       "<matplotlib.legend.Legend at 0x1196352d0>"
      ]
     },
     "execution_count": 76,
     "metadata": {},
     "output_type": "execute_result"
    },
    {
     "data": {
      "image/png": "[encoded data removed]",
      "text/plain": [
       "<Figure size 640x480 with 1 Axes>"
      ]
     },
     "metadata": {},
     "output_type": "display_data"
    }
   ],
   "source": [
    "class NoResCNN(nn.Module):\n",
    "\n",
    "    def __init__(self):\n",
    "        super().__init__()\n",
    "        self.conv1 = nn.Conv2d(3, 16, kernel_size=3, stride=1, padding='same')\n",
    "\n",
    "        self.conv2 = nn.Conv2d(16, 16, kernel_size=3, stride=1, padding='same')\n",
    "\n",
    "        self.conv3 = nn.Conv2d(16, 16, kernel_size=3, stride=1, padding='same')\n",
    "\n",
    "        self.pool = nn.MaxPool2d(2, 2)\n",
    "\n",
    "        self.fc1 = nn.Linear(16 * 16 * 16, 64)\n",
    "        self.fc2 = nn.Linear(64, 10)\n",
    "\n",
    "        self.relu = nn.ReLU()\n",
    "\n",
    "\n",
    "    def forward(self, x):\n",
    "        out1 = self.relu(self.conv1(x))      \n",
    "        out2 = self.relu(self.conv2(out1))   \n",
    "        out3 = self.relu(self.conv3(out2))   \n",
    "\n",
    "        out = self.pool(out3) \n",
    "\n",
    "        out = out.view(out.size(0), -1) \n",
    "        out = self.relu(self.fc1(out))\n",
    "        out = self.fc2(out)\n",
    "        return out\n",
    "\n",
    "cnn_no_res = NoResCNN()\n",
    "\n",
    "#### Show the training log.\n",
    "# history_no_res_cnn = question_5_5_train_model(cnn_no_res, device, num_epochs, batch_size, trainloader, testloader)\n",
    "## Plot accuracy\n",
    "# plt.plot(np.arange(num_epochs), history_no_res_cnn[\"train_acc\"], label='train acc')\n",
    "# plt.plot(np.arange(num_epochs), history_no_res_cnn[\"test_acc\"], label='test acc')\n",
    "# plt.xlabel('#epochs')\n",
    "# plt.ylabel('accuracy')\n",
    "# plt.legend()"
   ]
  },
  {
   "cell_type": "markdown",
   "id": "Mwh_0W2lmx7h",
   "metadata": {
    "id": "Mwh_0W2lmx7h"
   },
   "source": [
    "**Your discussion**\n",
    "\n",
    "ResCNN vs CNN: The train accuracy of ResCNN is higher than CNN. The test accuracy of ResCNN is slightly higher than CNN. The improvement of test acc is not significant, but it is still a positive outcome. I believe that the residual connection helps the model learn better by allowing gradients to flow more easily through the network during backpropagation. And with residual connection, the model is able to reuse features learned in earlier layers, which can be beneficial for deep networks. The reason why the improvement is not significant could be due to the fact that the model is already quite simple and has a small number of layers. \n",
    "\n",
    "MyBestCNN: I improve the model by adding more layers and increasing the number of filters in each layer. Batch normalization is added after each convolution to accelerate convergence and stabilize learning. Dropout layers are included after pooling to reduce overfitting and that is why the testing accuracy is higher than training accuracy in some iterations. Generally, the more layers and filters we add, the better the model performs. "
   ]
  },
  {
   "cell_type": "markdown",
   "id": "tEXyDwqMsDbY",
   "metadata": {
    "id": "tEXyDwqMsDbY"
   },
   "source": [
    "**Congrats! You have reached to the end of Pset4**"
   ]
  }
 ],
 "metadata": {
  "accelerator": "GPU",
  "colab": {
   "provenance": []
  },
  "hide_input": false,
  "kernelspec": {
   "display_name": "base",
   "language": "python",
   "name": "python3"
  },
  "language_info": {
   "codemirror_mode": {
    "name": "ipython",
    "version": 3
   },
   "file_extension": ".py",
   "mimetype": "text/x-python",
   "name": "python",
   "nbconvert_exporter": "python",
   "pygments_lexer": "ipython3",
   "version": "3.9.13"
  },
  "toc": {
   "base_numbering": 1,
   "nav_menu": {},
   "number_sections": true,
   "sideBar": true,
   "skip_h1_title": false,
   "title_cell": "Table of Contents",
   "title_sidebar": "Contents",
   "toc_cell": false,
   "toc_position": {
    "height": "calc(100% - 180px)",
    "left": "10px",
    "top": "150px",
    "width": "311px"
   },
   "toc_section_display": true,
   "toc_window_display": true
  }
 },
 "nbformat": 4,
 "nbformat_minor": 5
}
