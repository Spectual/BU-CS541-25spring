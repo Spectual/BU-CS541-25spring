{
 "cells": [
  {
   "cell_type": "markdown",
   "id": "RtyaMANFEZKH",
   "metadata": {
    "id": "RtyaMANFEZKH"
   },
   "source": [
    "# CS541: Applied Machine Learning, Spring 2025, Problem Set 3\n",
    "### _Note: Do not delete or add blocks, do not change the function names. If you do this the autograder won't run properly and you might get a 0. Avoid using global variables inside your function. Failing to define your variables correctly could result in a score of 0._\n",
    "\n",
    "Problem set 3 is due in Gradescope on **Mar 27 at 11:59pm**.\n",
    "All the questions are in this jupyter notebook file. There are four questions in this assignment, each of which could have multiple parts and consists of a mix of coding and short answer questions. This assignment is worth a total of **103 points** (**53 pts** coding, and **50 pts** short answer).  Note that each individual pset contributes the same amount to the final grade regardless of the number of points it is worth.\n",
    "\n",
    "After completing these questions you will need to covert this notebook into a .py file named **ps3.py** and a pdf file named **ps3.pdf** in order to submit it. Additionally, upload all your typed codes (details below).\n",
    "\n",
    "**Submission instructions:** please upload your completed solution files to Gradescope by the due date. **Make sure you have run all code cells and rendered all markdown/Latex without any errors.**\n",
    "\n",
    "There will be three separate submission links for the assignment:\n",
    "1. Submit **ps3.py** to `PS3-Code`\n",
    "2. Submit **ONLY your typed code** to `PS3-Typed Code`.\n",
    "  + The .py file should contain **ONLY your typed code** (Do not include any other code apart from what you coded for the assignment).\n",
    "  + The .py should not contain any written answers. Only the code you wrote.\n",
    "  + If your typed code falls under a function definition thats predefined by us, **ONLY include your typed code** and nothing else.\n",
    "  + For each cell block within colab/jupyter that you typed your ocde in, Add 2 new lines (\"\\n\") before pasting your typed code in the .py file.\n",
    "  + Please name the .py file your actual name.\n",
    "\n",
    "3. Submit a single `.pdf` report that contains your work for all written questions to `PS3`. You can type your responses in LaTeX, or any other word processing software.  You can also hand write them on a tablet, or scan in hand-written answers. If you hand-write, please make sure they are neat and legible. If you are scanning, make sure that the scans are legible. Lastly, convert your work into a `PDF`. You can use Jupyter Notebook to convert the formats:\n",
    "  + Convert to PDF file: Go to File->Download as->PDF\n",
    "  + Convert py file: Go to File->Download as->py\\\n",
    "You can take a look at an example [here](https://raw.githubusercontent.com/chaudatascience/cs599_fall2022/master/ps1/convert_py.gif)\n",
    "\n",
    "  Your written responses in the PDF report should be self-contained. It should include all the output you want us to look at. **You will not receive credit for any results you have obtained, but failed to include directly in the PDF report file.  Please tag the reponses in your PDF with the Gradescope questions outline  as described in [Submitting an Assignment](https://youtu.be/u-pK4GzpId0). Failure to follow these instructions will result in a loss of points.**\n",
    "  \n"
   ]
  },
  {
   "cell_type": "markdown",
   "id": "a636aea4",
   "metadata": {
    "id": "a636aea4",
    "tags": []
   },
   "source": [
    "**Assignment Setup**\n",
    "\n",
    "You are strongly encouraged to use [Google Colab](https://colab.research.google.com/) for this assignment.\n",
    "\n",
    "If you would prefer to setup your code locally on your own machine, you will need [Jupyter Notebook](https://jupyter.org/install#jupyter-notebook) or [JupyterLab](https://jupyter.org/install#jupyterlab) installation. One way to set it up is to install “Anaconda” distribution, which has Python (you should install python version >= 3.9 as this notebook is tested with python 3.9), several libraries including the Jupyter Notebook that we will use in class. It is available for Windows, Linux, and Mac OS X [here](https://docs.conda.io/en/latest/miniconda.html).\n",
    "\n",
    "If you are not familiar with Jupyter Notebook, you can follow [this blog](https://realpython.com/jupyter-notebook-introduction/) for an introduction.  After developing your code using Jupyter, you are encouraged to test it on Google Colab to ensure it works in both settings.\n",
    "\n",
    "\n",
    "You cannot use packages other than the ones already imported in this assignment.\n"
   ]
  },
  {
   "cell_type": "markdown",
   "id": "5d1e0656",
   "metadata": {
    "id": "5d1e0656"
   },
   "source": [
    "**Jupyter Tip 1**: To run a cell, press `Shift+Enter` or click on \"play\" button above. To edit any code or text cell [double] click on its content. To change cell type, choose \"Markdown\" or \"Code\" in the drop-down menu above.\n"
   ]
  },
  {
   "cell_type": "markdown",
   "id": "487a798b",
   "metadata": {
    "id": "487a798b"
   },
   "source": [
    "**Jupyter Tip 2**: Use shortcut \"Shift + Tab\" to show the documentation of a function in Jupyter Notebook/ Jupterlab. Press Shift then double Tab (i.e., press Tab twice) to show the full documentation.\\\n",
    "For example, type `sum(` then Shift + Tab to show the documentation for the function, as shown in this the picture below."
   ]
  },
  {
   "cell_type": "code",
   "execution_count": 2,
   "id": "457fa897",
   "metadata": {
    "id": "457fa897"
   },
   "outputs": [],
   "source": [
    "## import some libraries\n",
    "import sklearn\n",
    "from sklearn import datasets\n",
    "import numpy as np\n",
    "from typing import Tuple, List, Dict\n",
    "import pandas as pd\n",
    "import matplotlib.pyplot as plt\n",
    "import seaborn as sns\n",
    "from sklearn.preprocessing import StandardScaler\n",
    "from sklearn.model_selection import cross_val_score, train_test_split\n",
    "from sklearn.metrics import mean_squared_error\n",
    "from scipy.spatial.distance import cdist\n",
    "from sklearn.tree import DecisionTreeRegressor\n",
    "from sklearn import tree\n",
    "from tqdm import tqdm"
   ]
  },
  {
   "cell_type": "markdown",
   "id": "AEWiGFpCkK65",
   "metadata": {
    "id": "AEWiGFpCkK65"
   },
   "source": [
    "# **Question 1.** Linear Regression (*15 total points*)"
   ]
  },
  {
   "cell_type": "markdown",
   "id": "8c8b190b",
   "metadata": {
    "id": "8c8b190b"
   },
   "source": [
    "## **1.1 Code:** Linear Regression using Sklearn *(5 pts)*"
   ]
  },
  {
   "cell_type": "markdown",
   "id": "AmQUHlOraxsR",
   "metadata": {
    "id": "AmQUHlOraxsR"
   },
   "source": [
    "In this section, we will work with a demo dataset. The data consists of 2 columns: `hours_practice` (number of hours to practice) and `score`."
   ]
  },
  {
   "cell_type": "code",
   "execution_count": 3,
   "id": "EKz_mrMyYfRI",
   "metadata": {
    "colab": {
     "base_uri": "https://localhost:8080/",
     "height": 192
    },
    "id": "EKz_mrMyYfRI",
    "outputId": "02d2f007-99c2-41e0-9d3a-bb124dcc462a"
   },
   "outputs": [
    {
     "name": "stdout",
     "output_type": "stream",
     "text": [
      "data shape: (100, 2)\n"
     ]
    },
    {
     "data": {
      "text/html": [
       "<div>\n",
       "<style scoped>\n",
       "    .dataframe tbody tr th:only-of-type {\n",
       "        vertical-align: middle;\n",
       "    }\n",
       "\n",
       "    .dataframe tbody tr th {\n",
       "        vertical-align: top;\n",
       "    }\n",
       "\n",
       "    .dataframe thead th {\n",
       "        text-align: right;\n",
       "    }\n",
       "</style>\n",
       "<table border=\"1\" class=\"dataframe\">\n",
       "  <thead>\n",
       "    <tr style=\"text-align: right;\">\n",
       "      <th></th>\n",
       "      <th>hours_practice</th>\n",
       "      <th>score</th>\n",
       "    </tr>\n",
       "  </thead>\n",
       "  <tbody>\n",
       "    <tr>\n",
       "      <th>22</th>\n",
       "      <td>47.481209</td>\n",
       "      <td>57.251819</td>\n",
       "    </tr>\n",
       "    <tr>\n",
       "      <th>30</th>\n",
       "      <td>52.223996</td>\n",
       "      <td>63.358790</td>\n",
       "    </tr>\n",
       "    <tr>\n",
       "      <th>53</th>\n",
       "      <td>41.720676</td>\n",
       "      <td>65.280887</td>\n",
       "    </tr>\n",
       "    <tr>\n",
       "      <th>3</th>\n",
       "      <td>47.475640</td>\n",
       "      <td>71.546632</td>\n",
       "    </tr>\n",
       "  </tbody>\n",
       "</table>\n",
       "</div>"
      ],
      "text/plain": [
       "    hours_practice      score\n",
       "22       47.481209  57.251819\n",
       "30       52.223996  63.358790\n",
       "53       41.720676  65.280887\n",
       "3        47.475640  71.546632"
      ]
     },
     "execution_count": 3,
     "metadata": {},
     "output_type": "execute_result"
    }
   ],
   "source": [
    "## Read the dataset\n",
    "df = pd.read_csv(\"https://raw.githubusercontent.com/chaudatascience/cs599_fall2022/master/ps3/linear_data.csv\")\n",
    "print(\"data shape:\", df.shape)\n",
    "df.sample(4)"
   ]
  },
  {
   "cell_type": "code",
   "execution_count": 4,
   "id": "53ee3b8b",
   "metadata": {
    "id": "53ee3b8b"
   },
   "outputs": [],
   "source": [
    "## Extract features and labels as numpy arrays\n",
    "X = df.values[:,0:1]  # features\n",
    "y = df.values[:,1]  # labels"
   ]
  },
  {
   "cell_type": "code",
   "execution_count": 5,
   "id": "ip88NQ6emjrS",
   "metadata": {
    "colab": {
     "base_uri": "https://localhost:8080/",
     "height": 467
    },
    "id": "ip88NQ6emjrS",
    "outputId": "35439db7-4dde-46df-dcbe-9ac56120a4bf"
   },
   "outputs": [
    {
     "data": {
      "text/plain": [
       "<Axes: xlabel='hours_practice', ylabel='score'>"
      ]
     },
     "execution_count": 5,
     "metadata": {},
     "output_type": "execute_result"
    },
    {
     "data": {
      "image/png": "[encoded data removed]",
      "text/plain": [
       "<Figure size 432x288 with 1 Axes>"
      ]
     },
     "metadata": {
      "needs_background": "light"
     },
     "output_type": "display_data"
    }
   ],
   "source": [
    "## Plot the dataset\n",
    "sns.scatterplot(data=df, x=\"hours_practice\", y=\"score\")"
   ]
  },
  {
   "cell_type": "markdown",
   "id": "a688e300",
   "metadata": {
    "id": "a688e300"
   },
   "source": [
    "In this section, we will train a Linear Regression model on the dataset using Sklearn.\n",
    "You can refer to the document of Linear Regression [here](https://scikit-learn.org/stable/modules/generated/sklearn.linear_model.LinearRegression.html)."
   ]
  },
  {
   "cell_type": "code",
   "execution_count": 6,
   "id": "73dcaaac",
   "metadata": {
    "id": "73dcaaac"
   },
   "outputs": [],
   "source": [
    "from sklearn.linear_model import LinearRegression\n",
    "\n",
    "def question_1_1(X: np.ndarray, y: np.ndarray) -> LinearRegression:\n",
    "    \"\"\"\n",
    "    Train a Sklearn's Linear Regression model on features `X` and labels `y`.\n",
    "    X: 2d numpy array, shape of (num_samples, feat_dim)\n",
    "    y: numpy array, shape of (num_samples, )\n",
    "    return a trained Linear Regression model\n",
    "\n",
    "    \"\"\"\n",
    "    # Write your code in this block -----------------------------------------------------------\n",
    "    model = LinearRegression()\n",
    "    model.fit(X,y)\n",
    "\n",
    "    # End of your code -----------------------------------------------------------\n",
    "\n",
    "    return model\n"
   ]
  },
  {
   "cell_type": "code",
   "execution_count": 7,
   "id": "5e077ff2",
   "metadata": {
    "colab": {
     "base_uri": "https://localhost:8080/",
     "height": 500
    },
    "id": "5e077ff2",
    "outputId": "a4b7d6b6-0ba1-47a6-ff64-291aa94e3692"
   },
   "outputs": [
    {
     "name": "stdout",
     "output_type": "stream",
     "text": [
      "Model slope:     [1.32243102]\n",
      "Model intercept: 7.991020982270371\n"
     ]
    },
    {
     "data": {
      "image/png": "[encoded data removed]",
      "text/plain": [
       "<Figure size 720x360 with 1 Axes>"
      ]
     },
     "metadata": {
      "needs_background": "light"
     },
     "output_type": "display_data"
    }
   ],
   "source": [
    "## Test your model\n",
    "def plot_model(linear_model, X, y, start, end):\n",
    "    print(\"Model slope:    \", linear_model.coef_)\n",
    "    print(\"Model intercept:\", linear_model.intercept_)\n",
    "\n",
    "    xfit = np.linspace(start, end, 500)[:, np.newaxis]\n",
    "    if len(linear_model.coef_) == 2:\n",
    "        xfit = np.concatenate([xfit, xfit**2], axis=1)\n",
    "    yfit = linear_model.predict(xfit)\n",
    "\n",
    "    plt.figure(figsize=(10,5))\n",
    "    plt.scatter(X[:,0], y, s=5)\n",
    "    plt.xlabel(\"hours_practice\")\n",
    "    plt.ylabel(\"score\")\n",
    "    plt.plot(xfit[:,0], yfit, 'r+')\n",
    "\n",
    "# Get your model\n",
    "linear_model = question_1_1(X, y)\n",
    "\n",
    "# Plot: Your regression line is the red line as shown below\n",
    "start, end = 20, 80  # start and end of the line\n",
    "plot_model(linear_model, X, y, start, end)"
   ]
  },
  {
   "cell_type": "markdown",
   "id": "022a50c6",
   "metadata": {
    "id": "022a50c6"
   },
   "source": [
    "## **1.2 Code:** Polynomial features *(5 pts)*"
   ]
  },
  {
   "cell_type": "markdown",
   "id": "3112db28",
   "metadata": {
    "id": "3112db28"
   },
   "source": [
    "Let's take a look at another demo dataset"
   ]
  },
  {
   "cell_type": "code",
   "execution_count": 8,
   "id": "9aafcc36",
   "metadata": {
    "colab": {
     "base_uri": "https://localhost:8080/",
     "height": 462
    },
    "id": "9aafcc36",
    "outputId": "f8798fbf-ce31-40b3-d2b5-d431ef506794"
   },
   "outputs": [
    {
     "data": {
      "text/plain": [
       "<matplotlib.collections.PathCollection at 0x16b352fa0>"
      ]
     },
     "execution_count": 8,
     "metadata": {},
     "output_type": "execute_result"
    },
    {
     "data": {
      "image/png": "[encoded data removed]",
      "text/plain": [
       "<Figure size 720x360 with 1 Axes>"
      ]
     },
     "metadata": {
      "needs_background": "light"
     },
     "output_type": "display_data"
    }
   ],
   "source": [
    "data = pd.read_csv(\"https://raw.githubusercontent.com/chaudatascience/cs599_fall2022/master/ps3/polynomial.csv\").values\n",
    "X2, y2 = data[:,:1], data[:,1]\n",
    "plt.figure(figsize=(10,5))\n",
    "plt.scatter(X2, y2, s=8)"
   ]
  },
  {
   "cell_type": "markdown",
   "id": "fc7a075f",
   "metadata": {
    "id": "fc7a075f"
   },
   "source": [
    "We can see that the dataset is not linear. In other words, using a line can not capture the pattern in the data, resulting in underfitting. To solve this, we need to make our model a bit more complex.\n",
    "\n",
    "There is a trick we can use to capture nonlinear relationships between variables: We first transform existing feature by some basic function, then use the generated data as new feature.\n",
    "\n",
    "For example, with a linear regression for 1-d feature $x$:\n",
    "\n",
    "$$Y=\\theta_0+\\theta_1 x$$\n",
    "\n",
    "We can transform the input feature $x$ to get a new feature, such as $x$ squared and consider it as a new feature.\n",
    "We now have 2 features, and the model becomes polynomial regression:\n",
    "\n",
    "$$Y=\\theta_0+\\theta_1 x+\\theta_2 x^2$$\n",
    "\n",
    "We can keep adding: $$Y=\\theta_0+\\theta_1 x+\\theta_2 x^2+ \\theta_3 x^3 + ....$$ to get even more complex model."
   ]
  },
  {
   "cell_type": "markdown",
   "id": "e0f4a058",
   "metadata": {
    "id": "e0f4a058"
   },
   "source": [
    "You will need to write a function to concatenate $X^2$ as a feature alongside X. So, now, the training data `X_new` will have X and $X^2$ as the features"
   ]
  },
  {
   "cell_type": "code",
   "execution_count": 9,
   "id": "faf0ee0c",
   "metadata": {
    "colab": {
     "base_uri": "https://localhost:8080/"
    },
    "id": "faf0ee0c",
    "outputId": "4cf3b3c7-ed91-42cd-cebc-cddb8b38a1d3"
   },
   "outputs": [
    {
     "name": "stdout",
     "output_type": "stream",
     "text": [
      "X_new.shape (100, 2)\n",
      "[[-3.29215704 10.83829796]\n",
      " [ 0.79952837  0.63924562]\n",
      " [-0.93621395  0.87649656]\n",
      " [-4.7226796  22.30370258]\n",
      " [-3.60267397 12.97925974]]\n"
     ]
    }
   ],
   "source": [
    "def question_1_2(X: np.ndarray) -> np.ndarray:\n",
    "    \"\"\"\n",
    "        Given numpy array X, shape of (num_sample, 1).\n",
    "        Return a numpy array, shape of (num_sample, 2) by adding a new column to the right of X.\n",
    "        The new column is the square of the existing column in X\n",
    "    \"\"\"\n",
    "    # Write your code in this block -----------------------------------------------------------\n",
    "    X_new = np.hstack((X, X**2))\n",
    "    \n",
    "    return X_new\n",
    "\n",
    "\n",
    "    # End of your code -----------------------------------------------------------\n",
    "\n",
    "\n",
    "## Test your function\n",
    "X_new = question_1_2(X2)\n",
    "print(\"X_new.shape\", X_new.shape)\n",
    "print(X_new[:5]) # show the first 5 samples"
   ]
  },
  {
   "cell_type": "code",
   "execution_count": 10,
   "id": "21a2cd79",
   "metadata": {
    "colab": {
     "base_uri": "https://localhost:8080/",
     "height": 500
    },
    "id": "21a2cd79",
    "outputId": "c4f66835-415e-4e50-f318-45a1ef1ec9e1"
   },
   "outputs": [
    {
     "name": "stdout",
     "output_type": "stream",
     "text": [
      "Model slope:     [2.60168213 2.76791169]\n",
      "Model intercept: -20.631851252724914\n"
     ]
    },
    {
     "data": {
      "image/png": "[encoded data removed]",
      "text/plain": [
       "<Figure size 720x360 with 1 Axes>"
      ]
     },
     "metadata": {
      "needs_background": "light"
     },
     "output_type": "display_data"
    }
   ],
   "source": [
    "## Plot the new model (in red)\n",
    "new_linear_model = question_1_1(X_new, y2)\n",
    "plot_model(new_linear_model, X_new, y2, start=-5, end=12)"
   ]
  },
  {
   "cell_type": "markdown",
   "id": "5a7c9421",
   "metadata": {
    "id": "5a7c9421"
   },
   "source": [
    "We can see the curve fits the data much better than a straight line."
   ]
  },
  {
   "cell_type": "markdown",
   "id": "c1a05349",
   "metadata": {
    "id": "c1a05349"
   },
   "source": [
    "## **1.3 Short answer:**  Linear model *(5 pts)*\n",
    "**Question:**\n",
    "    What is the shape of the curve (linear, or non-linear?)\n",
    "    Is the model still considered to be a linear model?"
   ]
  },
  {
   "cell_type": "markdown",
   "id": "0ed25db3",
   "metadata": {
    "id": "0ed25db3"
   },
   "source": [
    "Write your answer in this block\n",
    "\n",
    "**Your Answer:**\n",
    "The curve is non-linear. However, the model is still considered to be a linear model because it is linear in terms of the parameters. The relationship between the input features and the output is linear.\n"
   ]
  },
  {
   "cell_type": "markdown",
   "id": "8191cbb6",
   "metadata": {
    "id": "8191cbb6"
   },
   "source": [
    "# Question 2. Linear Regression with Regularization *(15 total points*)"
   ]
  },
  {
   "cell_type": "markdown",
   "id": "3e9bec4b",
   "metadata": {
    "id": "3e9bec4b"
   },
   "source": [
    "With basis functions, our model become more flexible, but it comes with a cost: The model is easier to over-fitting. One way to reduce overfitting is to penalize higher degree polynomials. This ensures that we only use the higher degree polynomials if the error is significantly reduced compared to a simpler model.\n",
    "\n",
    "In this section, we will work on Boston Housing dataset. This dataset was taken from the [StatLib library](http://lib.stat.cmu.edu/datasets/) which is maintained at Carnegie Mellon University. It consists of 13 continous features and a numerical target named *MEDV*. For more details about the dataset, you can refer [this link](https://raw.githubusercontent.com/chaudatascience/cs599_fall2022/master/ps3/boston_housing_name.txt).\n",
    "\n",
    "Our goal is to train a linear regression model with regularization to learn the relationship between suburb characteristics and house prices.\n"
   ]
  },
  {
   "cell_type": "code",
   "execution_count": 11,
   "id": "1337c79a",
   "metadata": {
    "colab": {
     "base_uri": "https://localhost:8080/",
     "height": 223
    },
    "id": "1337c79a",
    "outputId": "094fe671-0811-43c0-93bb-3ab0670fa1e0"
   },
   "outputs": [
    {
     "name": "stdout",
     "output_type": "stream",
     "text": [
      "df.shape (506, 14)\n"
     ]
    },
    {
     "data": {
      "text/html": [
       "<div>\n",
       "<style scoped>\n",
       "    .dataframe tbody tr th:only-of-type {\n",
       "        vertical-align: middle;\n",
       "    }\n",
       "\n",
       "    .dataframe tbody tr th {\n",
       "        vertical-align: top;\n",
       "    }\n",
       "\n",
       "    .dataframe thead th {\n",
       "        text-align: right;\n",
       "    }\n",
       "</style>\n",
       "<table border=\"1\" class=\"dataframe\">\n",
       "  <thead>\n",
       "    <tr style=\"text-align: right;\">\n",
       "      <th></th>\n",
       "      <th>CRIM</th>\n",
       "      <th>ZN</th>\n",
       "      <th>INDUS</th>\n",
       "      <th>CHAS</th>\n",
       "      <th>NOX</th>\n",
       "      <th>RM</th>\n",
       "      <th>AGE</th>\n",
       "      <th>DIS</th>\n",
       "      <th>RAD</th>\n",
       "      <th>TAX</th>\n",
       "      <th>PTRATIO</th>\n",
       "      <th>B</th>\n",
       "      <th>LSTAT</th>\n",
       "      <th>MEDV</th>\n",
       "    </tr>\n",
       "  </thead>\n",
       "  <tbody>\n",
       "    <tr>\n",
       "      <th>470</th>\n",
       "      <td>4.34879</td>\n",
       "      <td>0.0</td>\n",
       "      <td>18.10</td>\n",
       "      <td>0</td>\n",
       "      <td>0.580</td>\n",
       "      <td>6.167</td>\n",
       "      <td>84.0</td>\n",
       "      <td>3.0334</td>\n",
       "      <td>24</td>\n",
       "      <td>666.0</td>\n",
       "      <td>20.2</td>\n",
       "      <td>396.90</td>\n",
       "      <td>16.29</td>\n",
       "      <td>19.9</td>\n",
       "    </tr>\n",
       "    <tr>\n",
       "      <th>157</th>\n",
       "      <td>1.22358</td>\n",
       "      <td>0.0</td>\n",
       "      <td>19.58</td>\n",
       "      <td>0</td>\n",
       "      <td>0.605</td>\n",
       "      <td>6.943</td>\n",
       "      <td>97.4</td>\n",
       "      <td>1.8773</td>\n",
       "      <td>5</td>\n",
       "      <td>403.0</td>\n",
       "      <td>14.7</td>\n",
       "      <td>363.43</td>\n",
       "      <td>4.59</td>\n",
       "      <td>41.3</td>\n",
       "    </tr>\n",
       "    <tr>\n",
       "      <th>136</th>\n",
       "      <td>0.32264</td>\n",
       "      <td>0.0</td>\n",
       "      <td>21.89</td>\n",
       "      <td>0</td>\n",
       "      <td>0.624</td>\n",
       "      <td>5.942</td>\n",
       "      <td>93.5</td>\n",
       "      <td>1.9669</td>\n",
       "      <td>4</td>\n",
       "      <td>437.0</td>\n",
       "      <td>21.2</td>\n",
       "      <td>378.25</td>\n",
       "      <td>16.90</td>\n",
       "      <td>17.4</td>\n",
       "    </tr>\n",
       "    <tr>\n",
       "      <th>99</th>\n",
       "      <td>0.06860</td>\n",
       "      <td>0.0</td>\n",
       "      <td>2.89</td>\n",
       "      <td>0</td>\n",
       "      <td>0.445</td>\n",
       "      <td>7.416</td>\n",
       "      <td>62.5</td>\n",
       "      <td>3.4952</td>\n",
       "      <td>2</td>\n",
       "      <td>276.0</td>\n",
       "      <td>18.0</td>\n",
       "      <td>396.90</td>\n",
       "      <td>6.19</td>\n",
       "      <td>33.2</td>\n",
       "    </tr>\n",
       "    <tr>\n",
       "      <th>211</th>\n",
       "      <td>0.37578</td>\n",
       "      <td>0.0</td>\n",
       "      <td>10.59</td>\n",
       "      <td>1</td>\n",
       "      <td>0.489</td>\n",
       "      <td>5.404</td>\n",
       "      <td>88.6</td>\n",
       "      <td>3.6650</td>\n",
       "      <td>4</td>\n",
       "      <td>277.0</td>\n",
       "      <td>18.6</td>\n",
       "      <td>395.24</td>\n",
       "      <td>23.98</td>\n",
       "      <td>19.3</td>\n",
       "    </tr>\n",
       "  </tbody>\n",
       "</table>\n",
       "</div>"
      ],
      "text/plain": [
       "        CRIM   ZN  INDUS  CHAS    NOX     RM   AGE     DIS  RAD    TAX   \n",
       "470  4.34879  0.0  18.10     0  0.580  6.167  84.0  3.0334   24  666.0  \\\n",
       "157  1.22358  0.0  19.58     0  0.605  6.943  97.4  1.8773    5  403.0   \n",
       "136  0.32264  0.0  21.89     0  0.624  5.942  93.5  1.9669    4  437.0   \n",
       "99   0.06860  0.0   2.89     0  0.445  7.416  62.5  3.4952    2  276.0   \n",
       "211  0.37578  0.0  10.59     1  0.489  5.404  88.6  3.6650    4  277.0   \n",
       "\n",
       "     PTRATIO       B  LSTAT  MEDV  \n",
       "470     20.2  396.90  16.29  19.9  \n",
       "157     14.7  363.43   4.59  41.3  \n",
       "136     21.2  378.25  16.90  17.4  \n",
       "99      18.0  396.90   6.19  33.2  \n",
       "211     18.6  395.24  23.98  19.3  "
      ]
     },
     "execution_count": 11,
     "metadata": {},
     "output_type": "execute_result"
    }
   ],
   "source": [
    "df = pd.read_csv(\"https://raw.githubusercontent.com/chaudatascience/cs599_fall2022/master/ps3/boston_housing.csv\")\n",
    "print(\"df.shape\", df.shape)\n",
    "df.sample(5)"
   ]
  },
  {
   "cell_type": "code",
   "execution_count": 12,
   "id": "0cb078f6",
   "metadata": {
    "colab": {
     "base_uri": "https://localhost:8080/"
    },
    "id": "0cb078f6",
    "outputId": "649409da-e3a7-4daa-8996-c7ba5956a548"
   },
   "outputs": [
    {
     "name": "stdout",
     "output_type": "stream",
     "text": [
      "(354, 13) (152, 13) (354,) (152,)\n"
     ]
    }
   ],
   "source": [
    "## Extract features and labels as numpy arrays\n",
    "X, y = df.iloc[:, :-1], df.iloc[:, -1]\n",
    "\n",
    "## Split to train, test\n",
    "X_train, X_test, y_train, y_test = train_test_split(X, y, random_state=42, test_size=0.3)\n",
    "\n",
    "## Check on the shapes\n",
    "print(X_train.shape, X_test.shape, y_train.shape, y_test.shape)"
   ]
  },
  {
   "cell_type": "markdown",
   "id": "bc3baf29",
   "metadata": {
    "id": "bc3baf29"
   },
   "source": [
    "Sklearn provides a useful module named [Pipeline](https://scikit-learn.org/stable/modules/generated/sklearn.pipeline.Pipeline.html) which comes in handy when we need to perform sequence of different transformations.\n",
    "\n",
    "An Example of using Pipeline is shown as below. We want to normalize the data, then create some new polynomial\n",
    "features, and finally a Linear model. Sklearn provides us\n",
    "[PolynomialFeatures](https://scikit-learn.org/stable/modules/generated/sklearn.preprocessing.PolynomialFeatures.html) for generating polynomial and interaction features."
   ]
  },
  {
   "cell_type": "code",
   "execution_count": 13,
   "id": "699aa9a8",
   "metadata": {
    "colab": {
     "base_uri": "https://localhost:8080/"
    },
    "id": "699aa9a8",
    "outputId": "e211ee6d-abb6-4b4b-f0da-1868175a0da4"
   },
   "outputs": [
    {
     "name": "stdout",
     "output_type": "stream",
     "text": [
      "Training score: 0.9418695601847388\n",
      "Test score: 0.6073921627488662\n"
     ]
    }
   ],
   "source": [
    "##\n",
    "from sklearn.preprocessing import PolynomialFeatures\n",
    "from sklearn.pipeline import Pipeline\n",
    "\n",
    "## Steps is a list of Tuple[step_name, transformation_object]\n",
    "steps = [\n",
    "    ('scalar', StandardScaler()),   ## normilaze data\n",
    "    ('poly', PolynomialFeatures(degree=2)),  ## add new features up to 2 degrees\n",
    "    ('model', LinearRegression()) ## Linear regression model\n",
    "]\n",
    "\n",
    "linear_pipe = Pipeline(steps)\n",
    "linear_pipe.fit(X_train, y_train)\n",
    "\n",
    "## Let's see how we perform on the training and test sets\n",
    "print('Training score: {}'.format(linear_pipe.score(X_train, y_train)))\n",
    "print('Test score: {}'.format(linear_pipe.score(X_test, y_test)))"
   ]
  },
  {
   "cell_type": "markdown",
   "id": "00a83d78",
   "metadata": {
    "id": "00a83d78"
   },
   "source": [
    "On training set, the model performs very well, but the score drops significantly on test set.\n",
    "This suggests that our model is overfitting.\n",
    "\n",
    "Now regulirization comes for the rescue.\n",
    "\n",
    "Recall that there are three main techniques for regularization in linear regression, where we add a regularization term to the loss:\n",
    "\n",
    "+   Lasso Regression (L1 regularization):   $\\alpha \\sum_{j=1}^n\\left|\\theta_j\\right|$\n",
    "+   Ridge Regression (L2 regularization):   $\\alpha \\sum_{j=1}^n\\left|\\theta^2_j\\right|$\n",
    "+   Elastic Net (Combine L1 and L2 regularizations):     $\\alpha_1 \\sum_{j=1}^n\\left|\\theta_j\\right| + \\alpha_2 \\sum_{j=1}^n\\left|\\theta^2_j\\right|$\n",
    "\n",
    "Where $n$ is the number of features, $\\alpha$ is regularization parameter, which controls the degree of regularization.\n",
    "\n",
    "In Sklearn, we can use `sklearn.linear_model.Lasso` for Linear Regression with L1 regularization. It also provides `sklearn.linear_model.Ridge` and `sklearn.linear_model.ElasticNet` for the other 2."
   ]
  },
  {
   "cell_type": "markdown",
   "id": "bbbc1683",
   "metadata": {
    "id": "bbbc1683"
   },
   "source": [
    "Similar to what we have done above, you should be able to perform a Linear Regresison with regularization.\n",
    "\n",
    "Complete the function below for Lasso and Ridge regression by using the code example above. In the function, you should define **`steps` the same as we use in the example:** First, a \"scalar\", then \"poly\" followed by a \"model\". The only thing different here is the model (`Lasso` and `Ridge`, instead of `LinearRegression`)"
   ]
  },
  {
   "cell_type": "markdown",
   "id": "98f65168",
   "metadata": {
    "id": "98f65168"
   },
   "source": [
    "## **2.1 Code:** Lasso and Ridge *(8 pts)*"
   ]
  },
  {
   "cell_type": "code",
   "execution_count": 14,
   "id": "1fe2cb9b",
   "metadata": {
    "id": "1fe2cb9b"
   },
   "outputs": [],
   "source": [
    "from sklearn.linear_model import Ridge, Lasso\n",
    "\n",
    "def question_2_1(regularization: str, alpha_1: float, alpha_2: float,\n",
    "                X_train, y_train, X_test, y_test) -> Tuple[float, float]:\n",
    "    \"\"\"\n",
    "        regularization: one of [\"L1\", \"L2\"]. If \"L1\", use Lasso, otherwise use Ridge.\n",
    "        alpha_1: regularization for Lasso (if Lasso is used)\n",
    "        alpha_2: regularization for Ridge (if Ridge is used)\n",
    "        X_train, y_train, X_test, y_test: numpy arrays, shapes (354, 13), (354,), (152, 13), (152,) respectively\n",
    "        return a Tuple: (train_score, test_score) in that order,\n",
    "        Note that train_score and test_score are float numbers in range [0,1]\n",
    "    \"\"\"\n",
    "    # Write your code in this block -----------------------------------------------------------\n",
    "    # You should define `steps` the same as we use in the example above:\n",
    "    #       first a \"scalar\", then \"poly\" followed by a \"model\".\n",
    "\n",
    "    if regularization == \"L1\":\n",
    "        model = Lasso(alpha=alpha_1)\n",
    "    else:\n",
    "        model = Ridge(alpha=alpha_2)\n",
    "\n",
    "    steps = [\n",
    "        ('scalar', StandardScaler()),   \n",
    "        ('poly', PolynomialFeatures(degree=2)), \n",
    "        ('model', model) \n",
    "    ]\n",
    "\n",
    "    linear_pipe = Pipeline(steps)\n",
    "    linear_pipe.fit(X_train, y_train)\n",
    "    train_score = linear_pipe.score(X_train, y_train)\n",
    "    test_score = linear_pipe.score(X_test, y_test)\n",
    "\n",
    "    return train_score, test_score\n",
    "\n",
    "    ## Don't forget to return train and test scores!\n",
    "\n",
    "\n",
    "    # End of your code -----------------------------------------------------------"
   ]
  },
  {
   "cell_type": "code",
   "execution_count": 15,
   "id": "7d624d0a",
   "metadata": {
    "colab": {
     "base_uri": "https://localhost:8080/"
    },
    "id": "7d624d0a",
    "outputId": "3a6d247a-9ae5-44bb-f38b-0cb827efbea7"
   },
   "outputs": [
    {
     "name": "stdout",
     "output_type": "stream",
     "text": [
      "regularization: L1, train_score: 0.9070657101514069, test_score: 0.8055776105496002\n",
      "regularization: L2, train_score: 0.9304830234444311, test_score: 0.8079087119535305\n"
     ]
    }
   ],
   "source": [
    "## Test your model\n",
    "alpha_1 = 0.1\n",
    "alpha_2 = 12\n",
    "for regularization in [\"L1\", \"L2\"]:\n",
    "    train_score, test_score = question_2_1(regularization, alpha_1, alpha_2,\n",
    "                                                         X_train, y_train, X_test, y_test)\n",
    "    print(f\"regularization: {regularization}, train_score: {train_score}, test_score: {test_score}\")\n",
    "\n"
   ]
  },
  {
   "cell_type": "markdown",
   "id": "936025e1",
   "metadata": {
    "id": "936025e1"
   },
   "source": [
    "## **2.2 Short answer:** Regularization Effects *(7 pts)*"
   ]
  },
  {
   "cell_type": "code",
   "execution_count": 16,
   "id": "b0a629e4",
   "metadata": {
    "colab": {
     "base_uri": "https://localhost:8080/",
     "height": 928
    },
    "id": "b0a629e4",
    "outputId": "5503adda-a273-448d-9c62-426b344eb125"
   },
   "outputs": [
    {
     "name": "stdout",
     "output_type": "stream",
     "text": [
      "coefficients of Lasso\n"
     ]
    },
    {
     "data": {
      "image/png": "[encoded data removed]",
      "text/plain": [
       "<Figure size 432x288 with 1 Axes>"
      ]
     },
     "metadata": {
      "needs_background": "light"
     },
     "output_type": "display_data"
    },
    {
     "name": "stdout",
     "output_type": "stream",
     "text": [
      "coefficients of Ridge\n"
     ]
    },
    {
     "data": {
      "image/png": "[encoded data removed]",
      "text/plain": [
       "<Figure size 432x288 with 1 Axes>"
      ]
     },
     "metadata": {
      "needs_background": "light"
     },
     "output_type": "display_data"
    }
   ],
   "source": [
    "alpha = 3\n",
    "lasso = Lasso(alpha).fit(X_train, y_train)\n",
    "ridge = Ridge(alpha).fit(X_train, y_train)\n",
    "\n",
    "# Here the input feature dimension is 13 (we are using X_train and not the degree 2 polynomial features.)\n",
    "# Recall that regularization will affect the coeffiecient placed on the features while making the prediction.\n",
    "# Let's see how the coefficients look like with Lasso and Ridge.\n",
    "\n",
    "coefficients = pd.DataFrame({\"feature\": list(range(len(lasso.coef_))), \"value (Lasso)\": lasso.coef_, \"value (Ridge)\": ridge.coef_})\n",
    "\n",
    "## coefficients of Lasso\n",
    "ax = sns.barplot(data=coefficients, x=\"feature\", y=\"value (Lasso)\")\n",
    "ax.set( ylim=(-4, 4)) ## set  min, max for the y-axis\n",
    "print(\"coefficients of Lasso\")\n",
    "plt.show()\n",
    "\n",
    "## coefficients of Ridge\n",
    "ax = sns.barplot(data=coefficients, x=\"feature\", y=\"value (Ridge)\")\n",
    "ax.set( ylim=(-4, 4)) ## set  min, max for the y-axis\n",
    "print(\"coefficients of Ridge\")\n",
    "plt.show()"
   ]
  },
  {
   "cell_type": "markdown",
   "id": "c30213b8",
   "metadata": {
    "id": "c30213b8"
   },
   "source": [
    "**Question:**\n",
    "\n",
    "**1. Compare the performance of the model with and without regularization.**\n",
    "\n",
    "**2. Compare the coefficients when using Lasso and Ridge.**\n",
    "\n",
    "**3. How does alpha in Lasso and Ridge affect the coefficients and performance? (i.e., what happens if we use very tiny alpha, or very large alpha? You can play around with some values of alpha by changing the value `alpha=3` or in `alpha_1` and `alpha_2` above to get an intuition for this.)**\n"
   ]
  },
  {
   "cell_type": "markdown",
   "id": "bfa569b8",
   "metadata": {
    "id": "bfa569b8"
   },
   "source": [
    "Write your answer in this block\n",
    "\n",
    "**Your Answer:**\n",
    "1. The model with regularization performs better on the test set (0.8) compared to the model without regularization(0.6). This suggests that regularization helps to prevent overfitting. \n",
    "2. The coefficients of Lasso regression are sparse, meaning that some of the coefficients are exactly zero. While Ridge regression keeps almost all the coefficients.\n",
    "3. When alpha is very small, the model behaves like a linear regression without regularization. As alpha increases, the coefficients shrink towards zero, which can lead to underfitting if alpha is too large. In Lasso regression, a very large alpha can set some coefficients to zero, like feature selection. In Ridge regression, coefficients are shrunk.\n"
   ]
  },
  {
   "cell_type": "markdown",
   "id": "U_LleMrt38iJ",
   "metadata": {
    "id": "U_LleMrt38iJ"
   },
   "source": [
    "## **2.3 Short answer:** Regularization Effects 2 *(3 pts)*\n",
    "\n",
    "Suppose we know that only a few features are informative, while most are irrelevant (i.e., the data is sparse). Which regularization technique works best in this case?\n",
    "Explain your reasoning with examples. Hint: If we have 100 features but only 5 are important, how will Lasso and Ridge handle them differently?"
   ]
  },
  {
   "cell_type": "markdown",
   "id": "OgaebAhq4U24",
   "metadata": {
    "id": "OgaebAhq4U24"
   },
   "source": [
    "Write your answer in this block\n",
    "\n",
    "**Your Answer:**\n",
    "Lasso regression works best in this case because it can shrink some coefficients to zero. It's more like feature selection. In this case, Lasso will identify and keep those 5 features while setting the rest to zero. On the other hand, Ridge regression will shrink all coefficients but will not eliminate them, so it will still include many features.\n"
   ]
  },
  {
   "cell_type": "markdown",
   "id": "HOq1za4YYaGk",
   "metadata": {
    "id": "HOq1za4YYaGk"
   },
   "source": [
    "## **2.4 Short answer:** Feature Selection in Linear Regression *(5 pts)*\n",
    "1. Inspect each feature in the Boston Housing dataset and explain its relationship with the target variable *without using dimensionality reduction algorithms such as PCA*. Do you observe any distinct patterns? How can we simply & effectively analyze the relationships and characteristics of the dataset?\n",
    "\n",
    "*Answer*: In the Boston Housing dataset, house prices (MEDV) tend to go up with more rooms (RM) and larger residential land (ZN), and go down with higher crime rate (CRIM), pollution (NOX), tax (TAX), and percentage of low-income residents (LSTAT). Distance to jobs (DIS) and better education (lower PTRATIO) slightly help prices, while old buildings (AGE) and industrial areas (INDUS) usually lower them. We can use correlation analysis to identify the relationship between each feature and the target variable. We can also use scatter plots to visualize the relationship between each feature and the target variable.\n",
    "\n",
    "\n",
    "2. Suppose we have computational limitations and can only use a subset of the dataset. Which two features should we choose for a linear regression model? Explain your reasoning.\n",
    "\n",
    "*Answer*:PTRATIO and LSTAT. Because from previous correlation analysis, these two features have the highest correlation with the target variable MEDV. PTRATIO and LSTAT have a negative correlation with MEDV. "
   ]
  },
  {
   "cell_type": "markdown",
   "id": "cc909ce5",
   "metadata": {
    "id": "cc909ce5"
   },
   "source": [
    "# **Question 3.** Regression Trees  (*30 total points*)"
   ]
  },
  {
   "cell_type": "markdown",
   "id": "846484d1",
   "metadata": {
    "id": "846484d1"
   },
   "source": [
    "In the first two sections, we will work on UK Used Car dataset. The dataset was adapted from [Kaggle's Data](https://www.kaggle.com/datasets/adityadesai13/used-car-dataset-ford-and-mercedes/code?datasetId=750216&sortBy=voteCount). It contains information of the car such as price (in £), transmission, mileage, fuel type, road tax, miles per gallon (mpg), and engine size. For more details about the dataset, you can refer to [this link](https://www.kaggle.com/datasets/adityadesai13/used-car-dataset-ford-and-mercedes).\n",
    "\n",
    "Our goal is to train a regression tree to predict the price of a used car, given other information.\n",
    "\n",
    "First, let's read the dataset"
   ]
  },
  {
   "cell_type": "code",
   "execution_count": 17,
   "id": "76d09354",
   "metadata": {
    "colab": {
     "base_uri": "https://localhost:8080/",
     "height": 223
    },
    "id": "76d09354",
    "outputId": "9bfc1838-667c-4358-c8d3-157c7ddf1db8"
   },
   "outputs": [
    {
     "name": "stdout",
     "output_type": "stream",
     "text": [
      "(4960, 10)\n"
     ]
    },
    {
     "data": {
      "text/html": [
       "<div>\n",
       "<style scoped>\n",
       "    .dataframe tbody tr th:only-of-type {\n",
       "        vertical-align: middle;\n",
       "    }\n",
       "\n",
       "    .dataframe tbody tr th {\n",
       "        vertical-align: top;\n",
       "    }\n",
       "\n",
       "    .dataframe thead th {\n",
       "        text-align: right;\n",
       "    }\n",
       "</style>\n",
       "<table border=\"1\" class=\"dataframe\">\n",
       "  <thead>\n",
       "    <tr style=\"text-align: right;\">\n",
       "      <th></th>\n",
       "      <th>brand</th>\n",
       "      <th>model</th>\n",
       "      <th>year</th>\n",
       "      <th>transmission</th>\n",
       "      <th>mileage</th>\n",
       "      <th>fuelType</th>\n",
       "      <th>tax</th>\n",
       "      <th>mpg</th>\n",
       "      <th>engineSize</th>\n",
       "      <th>price</th>\n",
       "    </tr>\n",
       "  </thead>\n",
       "  <tbody>\n",
       "    <tr>\n",
       "      <th>0</th>\n",
       "      <td>hyundi</td>\n",
       "      <td>Santa Fe</td>\n",
       "      <td>2019</td>\n",
       "      <td>Semi-Auto</td>\n",
       "      <td>4223</td>\n",
       "      <td>Diesel</td>\n",
       "      <td>145.0</td>\n",
       "      <td>39.8</td>\n",
       "      <td>2.2</td>\n",
       "      <td>31995</td>\n",
       "    </tr>\n",
       "    <tr>\n",
       "      <th>1</th>\n",
       "      <td>vauxhall</td>\n",
       "      <td>GTC</td>\n",
       "      <td>2015</td>\n",
       "      <td>Manual</td>\n",
       "      <td>47870</td>\n",
       "      <td>Diesel</td>\n",
       "      <td>125.0</td>\n",
       "      <td>60.1</td>\n",
       "      <td>2.0</td>\n",
       "      <td>7700</td>\n",
       "    </tr>\n",
       "    <tr>\n",
       "      <th>2</th>\n",
       "      <td>audi</td>\n",
       "      <td>RS4</td>\n",
       "      <td>2019</td>\n",
       "      <td>Automatic</td>\n",
       "      <td>5151</td>\n",
       "      <td>Petrol</td>\n",
       "      <td>145.0</td>\n",
       "      <td>29.1</td>\n",
       "      <td>2.9</td>\n",
       "      <td>58990</td>\n",
       "    </tr>\n",
       "    <tr>\n",
       "      <th>3</th>\n",
       "      <td>vw</td>\n",
       "      <td>Scirocco</td>\n",
       "      <td>2016</td>\n",
       "      <td>Automatic</td>\n",
       "      <td>20423</td>\n",
       "      <td>Diesel</td>\n",
       "      <td>30.0</td>\n",
       "      <td>57.6</td>\n",
       "      <td>2.0</td>\n",
       "      <td>12999</td>\n",
       "    </tr>\n",
       "    <tr>\n",
       "      <th>4</th>\n",
       "      <td>skoda</td>\n",
       "      <td>Scala</td>\n",
       "      <td>2020</td>\n",
       "      <td>Semi-Auto</td>\n",
       "      <td>3569</td>\n",
       "      <td>Petrol</td>\n",
       "      <td>145.0</td>\n",
       "      <td>47.1</td>\n",
       "      <td>1.0</td>\n",
       "      <td>16990</td>\n",
       "    </tr>\n",
       "  </tbody>\n",
       "</table>\n",
       "</div>"
      ],
      "text/plain": [
       "      brand      model  year transmission  mileage fuelType    tax   mpg   \n",
       "0    hyundi   Santa Fe  2019    Semi-Auto     4223   Diesel  145.0  39.8  \\\n",
       "1  vauxhall        GTC  2015       Manual    47870   Diesel  125.0  60.1   \n",
       "2      audi        RS4  2019    Automatic     5151   Petrol  145.0  29.1   \n",
       "3        vw   Scirocco  2016    Automatic    20423   Diesel   30.0  57.6   \n",
       "4     skoda      Scala  2020    Semi-Auto     3569   Petrol  145.0  47.1   \n",
       "\n",
       "   engineSize  price  \n",
       "0         2.2  31995  \n",
       "1         2.0   7700  \n",
       "2         2.9  58990  \n",
       "3         2.0  12999  \n",
       "4         1.0  16990  "
      ]
     },
     "execution_count": 17,
     "metadata": {},
     "output_type": "execute_result"
    }
   ],
   "source": [
    "df = pd.read_csv(\"https://raw.githubusercontent.com/chaudatascience/cs599_fall2022/master/ps4/used_car_price.csv\")\n",
    "print(df.shape)\n",
    "df.head()"
   ]
  },
  {
   "cell_type": "markdown",
   "id": "6886001e",
   "metadata": {
    "id": "6886001e"
   },
   "source": [
    "A regression tree is like a classification tree, but a regression tree stores values rather than labels in the leaves. The tree is fitted using a procedure quite like fitting a classification tree. The splitting process parallels the one we used for classification, but now we can use the error in the regression to choose the split instead of the information gain."
   ]
  },
  {
   "cell_type": "markdown",
   "id": "ac544319",
   "metadata": {
    "id": "ac544319"
   },
   "source": [
    "## **3.1 Code:** Label encoder *(10 pts)*"
   ]
  },
  {
   "cell_type": "markdown",
   "id": "d9daa837",
   "metadata": {
    "id": "d9daa837"
   },
   "source": [
    "We can observe that some columns (e.g., \"brand\", \"model\") contain string values, not numbers.\n",
    "In order to use Sklearn's regression tree, we need to convert these strings into numbers first."
   ]
  },
  {
   "cell_type": "markdown",
   "id": "137a64bf",
   "metadata": {
    "id": "137a64bf"
   },
   "source": [
    "There are some options for this, such as [OneHotEncoder](https://scikit-learn.org/stable/modules/generated/sklearn.preprocessing.OneHotEncoder.html#sklearn.preprocessing.OneHotEncoder), [OrdinalEncoder](https://scikit-learn.org/sOrdinalEncodertable/modules/generated/sklearn.preprocessing.OrdinalEncoder.html#sklearn.preprocessing.OrdinalEncoder).\n",
    "\n",
    "In this section, we will use [LabelEncoder](https://scikit-learn.org/stable/modules/generated/sklearn.preprocessing.LabelEncoder.html). The idea is that, for each string value, we map it to a integer number. For example, suppose we have total 3 car brands in column \"brand\": [\"audi\", \"bmw\", toyota\"], it can be mapped to integers number as follows:  \n",
    "         \"audi\" -> 0, \"bmw\" -> 1, \"toyota\" -> 2\n",
    "\n",
    "You will need to complete the function below, using  [LabelEncoder](https://scikit-learn.org/stable/modules/generated/sklearn.preprocessing.LabelEncoder.html)."
   ]
  },
  {
   "cell_type": "code",
   "execution_count": 18,
   "id": "f1a713c6",
   "metadata": {
    "colab": {
     "base_uri": "https://localhost:8080/",
     "height": 363
    },
    "id": "f1a713c6",
    "outputId": "538fbfe4-fd34-4270-f80b-663eab6a9309"
   },
   "outputs": [
    {
     "data": {
      "text/html": [
       "<div>\n",
       "<style scoped>\n",
       "    .dataframe tbody tr th:only-of-type {\n",
       "        vertical-align: middle;\n",
       "    }\n",
       "\n",
       "    .dataframe tbody tr th {\n",
       "        vertical-align: top;\n",
       "    }\n",
       "\n",
       "    .dataframe thead th {\n",
       "        text-align: right;\n",
       "    }\n",
       "</style>\n",
       "<table border=\"1\" class=\"dataframe\">\n",
       "  <thead>\n",
       "    <tr style=\"text-align: right;\">\n",
       "      <th></th>\n",
       "      <th>brand</th>\n",
       "      <th>model</th>\n",
       "      <th>year</th>\n",
       "      <th>transmission</th>\n",
       "      <th>mileage</th>\n",
       "      <th>fuelType</th>\n",
       "      <th>tax</th>\n",
       "      <th>mpg</th>\n",
       "      <th>engineSize</th>\n",
       "      <th>price</th>\n",
       "    </tr>\n",
       "  </thead>\n",
       "  <tbody>\n",
       "    <tr>\n",
       "      <th>0</th>\n",
       "      <td>3</td>\n",
       "      <td>69</td>\n",
       "      <td>2019</td>\n",
       "      <td>3</td>\n",
       "      <td>4223</td>\n",
       "      <td>0</td>\n",
       "      <td>145.0</td>\n",
       "      <td>39.8</td>\n",
       "      <td>2.2</td>\n",
       "      <td>31995</td>\n",
       "    </tr>\n",
       "    <tr>\n",
       "      <th>1</th>\n",
       "      <td>7</td>\n",
       "      <td>30</td>\n",
       "      <td>2015</td>\n",
       "      <td>1</td>\n",
       "      <td>47870</td>\n",
       "      <td>0</td>\n",
       "      <td>125.0</td>\n",
       "      <td>60.1</td>\n",
       "      <td>2.0</td>\n",
       "      <td>7700</td>\n",
       "    </tr>\n",
       "    <tr>\n",
       "      <th>2</th>\n",
       "      <td>0</td>\n",
       "      <td>58</td>\n",
       "      <td>2019</td>\n",
       "      <td>0</td>\n",
       "      <td>5151</td>\n",
       "      <td>4</td>\n",
       "      <td>145.0</td>\n",
       "      <td>29.1</td>\n",
       "      <td>2.9</td>\n",
       "      <td>58990</td>\n",
       "    </tr>\n",
       "    <tr>\n",
       "      <th>3</th>\n",
       "      <td>8</td>\n",
       "      <td>71</td>\n",
       "      <td>2016</td>\n",
       "      <td>0</td>\n",
       "      <td>20423</td>\n",
       "      <td>0</td>\n",
       "      <td>30.0</td>\n",
       "      <td>57.6</td>\n",
       "      <td>2.0</td>\n",
       "      <td>12999</td>\n",
       "    </tr>\n",
       "    <tr>\n",
       "      <th>4</th>\n",
       "      <td>5</td>\n",
       "      <td>70</td>\n",
       "      <td>2020</td>\n",
       "      <td>3</td>\n",
       "      <td>3569</td>\n",
       "      <td>4</td>\n",
       "      <td>145.0</td>\n",
       "      <td>47.1</td>\n",
       "      <td>1.0</td>\n",
       "      <td>16990</td>\n",
       "    </tr>\n",
       "    <tr>\n",
       "      <th>5</th>\n",
       "      <td>4</td>\n",
       "      <td>77</td>\n",
       "      <td>2019</td>\n",
       "      <td>0</td>\n",
       "      <td>4170</td>\n",
       "      <td>0</td>\n",
       "      <td>145.0</td>\n",
       "      <td>44.1</td>\n",
       "      <td>2.1</td>\n",
       "      <td>40890</td>\n",
       "    </tr>\n",
       "    <tr>\n",
       "      <th>6</th>\n",
       "      <td>6</td>\n",
       "      <td>53</td>\n",
       "      <td>2020</td>\n",
       "      <td>0</td>\n",
       "      <td>3</td>\n",
       "      <td>2</td>\n",
       "      <td>135.0</td>\n",
       "      <td>64.2</td>\n",
       "      <td>1.8</td>\n",
       "      <td>25990</td>\n",
       "    </tr>\n",
       "    <tr>\n",
       "      <th>7</th>\n",
       "      <td>1</td>\n",
       "      <td>48</td>\n",
       "      <td>2019</td>\n",
       "      <td>3</td>\n",
       "      <td>101</td>\n",
       "      <td>4</td>\n",
       "      <td>145.0</td>\n",
       "      <td>34.0</td>\n",
       "      <td>3.0</td>\n",
       "      <td>41980</td>\n",
       "    </tr>\n",
       "    <tr>\n",
       "      <th>8</th>\n",
       "      <td>6</td>\n",
       "      <td>19</td>\n",
       "      <td>2019</td>\n",
       "      <td>0</td>\n",
       "      <td>6340</td>\n",
       "      <td>2</td>\n",
       "      <td>135.0</td>\n",
       "      <td>52.3</td>\n",
       "      <td>2.5</td>\n",
       "      <td>25490</td>\n",
       "    </tr>\n",
       "    <tr>\n",
       "      <th>9</th>\n",
       "      <td>2</td>\n",
       "      <td>42</td>\n",
       "      <td>2012</td>\n",
       "      <td>1</td>\n",
       "      <td>85843</td>\n",
       "      <td>4</td>\n",
       "      <td>30.0</td>\n",
       "      <td>57.7</td>\n",
       "      <td>1.2</td>\n",
       "      <td>3491</td>\n",
       "    </tr>\n",
       "  </tbody>\n",
       "</table>\n",
       "</div>"
      ],
      "text/plain": [
       "   brand  model  year  transmission  mileage  fuelType    tax   mpg   \n",
       "0      3     69  2019             3     4223         0  145.0  39.8  \\\n",
       "1      7     30  2015             1    47870         0  125.0  60.1   \n",
       "2      0     58  2019             0     5151         4  145.0  29.1   \n",
       "3      8     71  2016             0    20423         0   30.0  57.6   \n",
       "4      5     70  2020             3     3569         4  145.0  47.1   \n",
       "5      4     77  2019             0     4170         0  145.0  44.1   \n",
       "6      6     53  2020             0        3         2  135.0  64.2   \n",
       "7      1     48  2019             3      101         4  145.0  34.0   \n",
       "8      6     19  2019             0     6340         2  135.0  52.3   \n",
       "9      2     42  2012             1    85843         4   30.0  57.7   \n",
       "\n",
       "   engineSize  price  \n",
       "0         2.2  31995  \n",
       "1         2.0   7700  \n",
       "2         2.9  58990  \n",
       "3         2.0  12999  \n",
       "4         1.0  16990  \n",
       "5         2.1  40890  \n",
       "6         1.8  25990  \n",
       "7         3.0  41980  \n",
       "8         2.5  25490  \n",
       "9         1.2   3491  "
      ]
     },
     "execution_count": 18,
     "metadata": {},
     "output_type": "execute_result"
    }
   ],
   "source": [
    "from sklearn import preprocessing\n",
    "\n",
    "def question_3_1(columns: List[str], df: pd.DataFrame) -> pd.DataFrame:\n",
    "    \"\"\"\n",
    "    label encode for categorical columns.\n",
    "    columns: list of categorical columns needed to encode\n",
    "    df: Pandas dataframe\n",
    "    return a Pandas dataframe (same shape as input) where each col in `columns` gets encoded.\n",
    "\n",
    "    \"\"\"\n",
    "    # Write your code in this block -----------------------------------------------------------\n",
    "    for col in columns:\n",
    "        encoder = preprocessing.LabelEncoder()\n",
    "        df[col] = encoder.fit_transform(df[col])\n",
    "\n",
    "    return df\n",
    "    # End of your code -----------------------------------------------------------\n",
    "\n",
    "### Test your function\n",
    "categorical_columns =  ['brand', 'model', 'transmission', 'fuelType']\n",
    "\n",
    "df = question_3_1(categorical_columns, df)\n",
    "df.head(10)"
   ]
  },
  {
   "cell_type": "markdown",
   "id": "6fa2447f",
   "metadata": {
    "id": "6fa2447f"
   },
   "source": [
    "## **3.2 Code:** Regression Tree *(10 pts)*"
   ]
  },
  {
   "cell_type": "code",
   "execution_count": 19,
   "id": "cb351fa8",
   "metadata": {
    "colab": {
     "base_uri": "https://localhost:8080/"
    },
    "id": "cb351fa8",
    "outputId": "a5528998-08ea-4bce-8558-af2569cc5f62"
   },
   "outputs": [
    {
     "name": "stdout",
     "output_type": "stream",
     "text": [
      "(3472, 9) (1488, 9) (3472,) (1488,)\n"
     ]
    }
   ],
   "source": [
    "### Prepare data\n",
    "X = df.drop(columns=\"price\")\n",
    "y = df[\"price\"]\n",
    "\n",
    "## Split to train, test\n",
    "X_train, X_test, y_train, y_test = train_test_split(X, y, random_state=2022, test_size=0.3)\n",
    "\n",
    "## Check on the shapes\n",
    "print(X_train.shape, X_test.shape, y_train.shape, y_test.shape)"
   ]
  },
  {
   "cell_type": "markdown",
   "id": "d5c99695",
   "metadata": {
    "id": "d5c99695"
   },
   "source": [
    "We will train a Regression Tree on the dataset using Sklearn.\n",
    "You can refer to the document of DecisionTreeRegressor [here](https://scikit-learn.org/stable/modules/generated/sklearn.tree.DecisionTreeRegressor.html).\n",
    "You should take a look at the document, to see what parameters it provides and understand their meaning.\n"
   ]
  },
  {
   "cell_type": "code",
   "execution_count": 20,
   "id": "5216696f",
   "metadata": {
    "id": "5216696f"
   },
   "outputs": [],
   "source": [
    "from sklearn.tree import DecisionTreeRegressor\n",
    "\n",
    "def question_3_2(X: np.ndarray, y: np.ndarray, random_state: int,\n",
    "                 max_depth: int, min_samples_split: int) -> DecisionTreeRegressor:\n",
    "    \"\"\"\n",
    "    Train a Sklearn's Regression Tree on features `X` and labels `y`.\n",
    "    The regression tree has max_depth=`max_depth`, and min_samples_split=`min_samples_split`,\n",
    "    and set random_state to `random_state` when initializing.\n",
    "\n",
    "    X: 2d numpy array, shape of (num_samples, feat_dim)\n",
    "    y: numpy array, shape of (num_samples, )\n",
    "    random_state: controls the randomness of the model.\n",
    "    max_depth: The maximum depth of the tree\n",
    "    min_samples_split: The minimum number of samples required to split an internal node\n",
    "\n",
    "    return a trained `DecisionTreeRegressor`\n",
    "    \"\"\"\n",
    "    # Write your code in this block -----------------------------------------------------------\n",
    "    model = DecisionTreeRegressor(random_state=random_state, max_depth=max_depth, min_samples_split=min_samples_split)\n",
    "    model.fit(X,y)\n",
    "\n",
    "    return model\n",
    "\n",
    "\n",
    "    # End of your code ------------------------------------------------------------------------\n"
   ]
  },
  {
   "cell_type": "markdown",
   "id": "1530a37e",
   "metadata": {
    "id": "1530a37e"
   },
   "source": [
    "## **3.3 Code:** Root mean square error *(5 pts)*\n"
   ]
  },
  {
   "cell_type": "markdown",
   "id": "7e6df142",
   "metadata": {
    "id": "7e6df142"
   },
   "source": [
    "To measure how the model performs, we can evaluate the results on root mean square error (RMSE):\n",
    "\n",
    "$$\n",
    "\\text{RMSE}=\\sqrt{\\frac{\\sum_{i=1}^N\\left(\\text {Predicted}_i-\\text {Actual}_i\\right)^2}{N}}\n",
    "$$\n",
    "where N is the number of samples.\n",
    "\n",
    "\n",
    "RMSE give us an idea of how far predictions fall from measured true values using Euclidean distance:  lower the RMSE better is model performance.\n",
    "\n",
    "Write a function to compute RMSE"
   ]
  },
  {
   "cell_type": "code",
   "execution_count": 21,
   "id": "0b04c51c",
   "metadata": {
    "colab": {
     "base_uri": "https://localhost:8080/"
    },
    "id": "0b04c51c",
    "outputId": "13b5647f-4b5d-48e1-b2fa-be286cf94e72"
   },
   "outputs": [
    {
     "data": {
      "text/plain": [
       "1.2909944487358056"
      ]
     },
     "execution_count": 21,
     "metadata": {},
     "output_type": "execute_result"
    }
   ],
   "source": [
    "def question_3_3(y_true: np.ndarray, y_pred: np.ndarray) -> float:\n",
    "    \"\"\"\n",
    "    Compute RMSE given predictions and ground-truth labels\n",
    "    y_true: ground-truth labels, shape (num_samples, )\n",
    "    y_pred: predictions,  shape (num_samples, )\n",
    "    return root mean square error\n",
    "    \"\"\"\n",
    "    # Write your code in this block -----------------------------------------------------------\n",
    "\n",
    "    rmse = np.sqrt(mean_squared_error(y_true, y_pred))\n",
    "    return rmse\n",
    "\n",
    "    # End of your code ------------------------------------------------------------------------\n",
    "\n",
    "\n",
    "\n",
    "## test your function\n",
    "y_true = np.array([7,8,10])\n",
    "y_pred = np.array([7,7,8])\n",
    "question_3_3(y_true, y_pred)"
   ]
  },
  {
   "cell_type": "code",
   "execution_count": 22,
   "id": "bceae585",
   "metadata": {
    "colab": {
     "base_uri": "https://localhost:8080/"
    },
    "id": "bceae585",
    "outputId": "3a899114-bb65-457a-d8e3-1d3eb9236d93"
   },
   "outputs": [
    {
     "name": "stdout",
     "output_type": "stream",
     "text": [
      "max_depth=7, min_samples_split=2\n",
      "Root Mean Square Error on training set: 4522.931688492328\n",
      "Root Mean Square Error on test set: 5870.628662511966\n"
     ]
    }
   ],
   "source": [
    "### Test your model in question 1.2\n",
    "\n",
    "max_depth = 7\n",
    "min_samples_split = 2\n",
    "random_state = 2022\n",
    "\n",
    "print(f\"max_depth={max_depth}, min_samples_split={min_samples_split}\")\n",
    "model = question_3_2(X_train, y_train, random_state, max_depth, min_samples_split)\n",
    "train_pred = model.predict(X_train)\n",
    "test_pred = model.predict(X_test)\n",
    "print(\"Root Mean Square Error on training set:\", question_3_3(y_train, train_pred))\n",
    "print(\"Root Mean Square Error on test set:\", question_3_3(y_test, test_pred))"
   ]
  },
  {
   "cell_type": "markdown",
   "id": "c9c0b43a",
   "metadata": {
    "id": "c9c0b43a"
   },
   "source": [
    "Our regression tree has a rmse of around £6k on test set."
   ]
  },
  {
   "cell_type": "markdown",
   "id": "783e4a24",
   "metadata": {
    "id": "783e4a24"
   },
   "source": [
    "## **3.4 Short answer:** Explanation for prediction *(5 pts)*"
   ]
  },
  {
   "cell_type": "code",
   "execution_count": 23,
   "id": "1b1a72d0",
   "metadata": {
    "collapsed": true,
    "id": "1b1a72d0"
   },
   "outputs": [
    {
     "data": {
      "image/svg+xml": [
       "<?xml version=\"1.0\" encoding=\"UTF-8\" standalone=\"no\"?>\n",
       "<!DOCTYPE svg PUBLIC \"-//W3C//DTD SVG 1.1//EN\"\n",
       " \"http://www.w3.org/Graphics/SVG/1.1/DTD/svg11.dtd\">\n",
       "<!-- Generated by graphviz version 6.0.2 (20221011.1828)\n",
       " -->\n",
       "<!-- Title: Tree Pages: 1 -->\n",
       "<svg width=\"1782pt\" height=\"373pt\"\n",
       " viewBox=\"0.00 0.00 1782.00 373.00\" xmlns=\"http://www.w3.org/2000/svg\" xmlns:xlink=\"http://www.w3.org/1999/xlink\">\n",
       "<g id=\"graph0\" class=\"graph\" transform=\"scale(1 1) rotate(0) translate(4 369)\">\n",
       "<title>Tree</title>\n",
       "<polygon fill=\"white\" stroke=\"none\" points=\"-4,4 -4,-369 1778,-369 1778,4 -4,4\"/>\n",
       "<!-- 0 -->\n",
       "<g id=\"node1\" class=\"node\">\n",
       "<title>0</title>\n",
       "<polygon fill=\"#fcefe7\" stroke=\"black\" points=\"982,-365 771,-365 771,-297 982,-297 982,-365\"/>\n",
       "<text text-anchor=\"middle\" x=\"876.5\" y=\"-349.8\" font-family=\"Helvetica,sans-Serif\" font-size=\"14.00\">engineSize &lt;= 2.75</text>\n",
       "<text text-anchor=\"middle\" x=\"876.5\" y=\"-334.8\" font-family=\"Helvetica,sans-Serif\" font-size=\"14.00\">squared_error = 277278180.587</text>\n",
       "<text text-anchor=\"middle\" x=\"876.5\" y=\"-319.8\" font-family=\"Helvetica,sans-Serif\" font-size=\"14.00\">samples = 3472</text>\n",
       "<text text-anchor=\"middle\" x=\"876.5\" y=\"-304.8\" font-family=\"Helvetica,sans-Serif\" font-size=\"14.00\">value = 23780.499</text>\n",
       "</g>\n",
       "<!-- 1 -->\n",
       "<g id=\"node2\" class=\"node\">\n",
       "<title>1</title>\n",
       "<polygon fill=\"#fdf6f1\" stroke=\"black\" points=\"755,-261 552,-261 552,-193 755,-193 755,-261\"/>\n",
       "<text text-anchor=\"middle\" x=\"653.5\" y=\"-245.8\" font-family=\"Helvetica,sans-Serif\" font-size=\"14.00\">year &lt;= 2018.5</text>\n",
       "<text text-anchor=\"middle\" x=\"653.5\" y=\"-230.8\" font-family=\"Helvetica,sans-Serif\" font-size=\"14.00\">squared_error = 97919062.052</text>\n",
       "<text text-anchor=\"middle\" x=\"653.5\" y=\"-215.8\" font-family=\"Helvetica,sans-Serif\" font-size=\"14.00\">samples = 2567</text>\n",
       "<text text-anchor=\"middle\" x=\"653.5\" y=\"-200.8\" font-family=\"Helvetica,sans-Serif\" font-size=\"14.00\">value = 17877.903</text>\n",
       "</g>\n",
       "<!-- 0&#45;&gt;1 -->\n",
       "<g id=\"edge1\" class=\"edge\">\n",
       "<title>0&#45;&gt;1</title>\n",
       "<path fill=\"none\" stroke=\"black\" d=\"M804.1,-296.88C782.08,-286.81 757.73,-275.67 735.14,-265.34\"/>\n",
       "<polygon fill=\"black\" stroke=\"black\" points=\"736.47,-262.1 725.92,-261.12 733.56,-268.47 736.47,-262.1\"/>\n",
       "<text text-anchor=\"middle\" x=\"734.64\" y=\"-280.85\" font-family=\"Helvetica,sans-Serif\" font-size=\"14.00\">True</text>\n",
       "</g>\n",
       "<!-- 8 -->\n",
       "<g id=\"node9\" class=\"node\">\n",
       "<title>8</title>\n",
       "<polygon fill=\"#f8ddc9\" stroke=\"black\" points=\"1207,-261 996,-261 996,-193 1207,-193 1207,-261\"/>\n",
       "<text text-anchor=\"middle\" x=\"1101.5\" y=\"-245.8\" font-family=\"Helvetica,sans-Serif\" font-size=\"14.00\">year &lt;= 2017.5</text>\n",
       "<text text-anchor=\"middle\" x=\"1101.5\" y=\"-230.8\" font-family=\"Helvetica,sans-Serif\" font-size=\"14.00\">squared_error = 406888316.621</text>\n",
       "<text text-anchor=\"middle\" x=\"1101.5\" y=\"-215.8\" font-family=\"Helvetica,sans-Serif\" font-size=\"14.00\">samples = 905</text>\n",
       "<text text-anchor=\"middle\" x=\"1101.5\" y=\"-200.8\" font-family=\"Helvetica,sans-Serif\" font-size=\"14.00\">value = 40523.0</text>\n",
       "</g>\n",
       "<!-- 0&#45;&gt;8 -->\n",
       "<g id=\"edge8\" class=\"edge\">\n",
       "<title>0&#45;&gt;8</title>\n",
       "<path fill=\"none\" stroke=\"black\" d=\"M949.55,-296.88C971.77,-286.81 996.34,-275.67 1019.12,-265.34\"/>\n",
       "<polygon fill=\"black\" stroke=\"black\" points=\"1020.77,-268.44 1028.43,-261.12 1017.88,-262.07 1020.77,-268.44\"/>\n",
       "<text text-anchor=\"middle\" x=\"1019.63\" y=\"-280.82\" font-family=\"Helvetica,sans-Serif\" font-size=\"14.00\">False</text>\n",
       "</g>\n",
       "<!-- 2 -->\n",
       "<g id=\"node3\" class=\"node\">\n",
       "<title>2</title>\n",
       "<polygon fill=\"#fefbf8\" stroke=\"black\" points=\"424,-157 221,-157 221,-89 424,-89 424,-157\"/>\n",
       "<text text-anchor=\"middle\" x=\"322.5\" y=\"-141.8\" font-family=\"Helvetica,sans-Serif\" font-size=\"14.00\">engineSize &lt;= 1.75</text>\n",
       "<text text-anchor=\"middle\" x=\"322.5\" y=\"-126.8\" font-family=\"Helvetica,sans-Serif\" font-size=\"14.00\">squared_error = 43567239.276</text>\n",
       "<text text-anchor=\"middle\" x=\"322.5\" y=\"-111.8\" font-family=\"Helvetica,sans-Serif\" font-size=\"14.00\">samples = 1757</text>\n",
       "<text text-anchor=\"middle\" x=\"322.5\" y=\"-96.8\" font-family=\"Helvetica,sans-Serif\" font-size=\"14.00\">value = 13712.748</text>\n",
       "</g>\n",
       "<!-- 1&#45;&gt;2 -->\n",
       "<g id=\"edge2\" class=\"edge\">\n",
       "<title>1&#45;&gt;2</title>\n",
       "<path fill=\"none\" stroke=\"black\" d=\"M551.94,-194.7C514.54,-183.18 471.98,-170.06 433.77,-158.29\"/>\n",
       "<polygon fill=\"black\" stroke=\"black\" points=\"434.74,-154.93 424.15,-155.33 432.68,-161.61 434.74,-154.93\"/>\n",
       "</g>\n",
       "<!-- 5 -->\n",
       "<g id=\"node6\" class=\"node\">\n",
       "<title>5</title>\n",
       "<polygon fill=\"#fbece1\" stroke=\"black\" points=\"755,-157 552,-157 552,-89 755,-89 755,-157\"/>\n",
       "<text text-anchor=\"middle\" x=\"653.5\" y=\"-141.8\" font-family=\"Helvetica,sans-Serif\" font-size=\"14.00\">engineSize &lt;= 1.9</text>\n",
       "<text text-anchor=\"middle\" x=\"653.5\" y=\"-126.8\" font-family=\"Helvetica,sans-Serif\" font-size=\"14.00\">squared_error = 96556911.009</text>\n",
       "<text text-anchor=\"middle\" x=\"653.5\" y=\"-111.8\" font-family=\"Helvetica,sans-Serif\" font-size=\"14.00\">samples = 810</text>\n",
       "<text text-anchor=\"middle\" x=\"653.5\" y=\"-96.8\" font-family=\"Helvetica,sans-Serif\" font-size=\"14.00\">value = 26912.689</text>\n",
       "</g>\n",
       "<!-- 1&#45;&gt;5 -->\n",
       "<g id=\"edge5\" class=\"edge\">\n",
       "<title>1&#45;&gt;5</title>\n",
       "<path fill=\"none\" stroke=\"black\" d=\"M653.5,-192.88C653.5,-184.78 653.5,-175.98 653.5,-167.47\"/>\n",
       "<polygon fill=\"black\" stroke=\"black\" points=\"657,-167.3 653.5,-157.3 650,-167.3 657,-167.3\"/>\n",
       "</g>\n",
       "<!-- 3 -->\n",
       "<g id=\"node4\" class=\"node\">\n",
       "<title>3</title>\n",
       "<polygon fill=\"#ffffff\" stroke=\"black\" points=\"203,-53 0,-53 0,0 203,0 203,-53\"/>\n",
       "<text text-anchor=\"middle\" x=\"101.5\" y=\"-37.8\" font-family=\"Helvetica,sans-Serif\" font-size=\"14.00\">squared_error = 28335254.247</text>\n",
       "<text text-anchor=\"middle\" x=\"101.5\" y=\"-22.8\" font-family=\"Helvetica,sans-Serif\" font-size=\"14.00\">samples = 746</text>\n",
       "<text text-anchor=\"middle\" x=\"101.5\" y=\"-7.8\" font-family=\"Helvetica,sans-Serif\" font-size=\"14.00\">value = 9868.072</text>\n",
       "</g>\n",
       "<!-- 2&#45;&gt;3 -->\n",
       "<g id=\"edge3\" class=\"edge\">\n",
       "<title>2&#45;&gt;3</title>\n",
       "<path fill=\"none\" stroke=\"black\" d=\"M245.2,-88.95C220.92,-78.56 194.28,-67.17 170.6,-57.05\"/>\n",
       "<polygon fill=\"black\" stroke=\"black\" points=\"171.91,-53.8 161.34,-53.09 169.16,-60.24 171.91,-53.8\"/>\n",
       "</g>\n",
       "<!-- 4 -->\n",
       "<g id=\"node5\" class=\"node\">\n",
       "<title>4</title>\n",
       "<polygon fill=\"#fdf8f3\" stroke=\"black\" points=\"424,-53 221,-53 221,0 424,0 424,-53\"/>\n",
       "<text text-anchor=\"middle\" x=\"322.5\" y=\"-37.8\" font-family=\"Helvetica,sans-Serif\" font-size=\"14.00\">squared_error = 35851492.118</text>\n",
       "<text text-anchor=\"middle\" x=\"322.5\" y=\"-22.8\" font-family=\"Helvetica,sans-Serif\" font-size=\"14.00\">samples = 1011</text>\n",
       "<text text-anchor=\"middle\" x=\"322.5\" y=\"-7.8\" font-family=\"Helvetica,sans-Serif\" font-size=\"14.00\">value = 16549.671</text>\n",
       "</g>\n",
       "<!-- 2&#45;&gt;4 -->\n",
       "<g id=\"edge4\" class=\"edge\">\n",
       "<title>2&#45;&gt;4</title>\n",
       "<path fill=\"none\" stroke=\"black\" d=\"M322.5,-88.95C322.5,-80.72 322.5,-71.85 322.5,-63.48\"/>\n",
       "<polygon fill=\"black\" stroke=\"black\" points=\"326,-63.24 322.5,-53.24 319,-63.24 326,-63.24\"/>\n",
       "</g>\n",
       "<!-- 6 -->\n",
       "<g id=\"node7\" class=\"node\">\n",
       "<title>6</title>\n",
       "<polygon fill=\"#fdf4ee\" stroke=\"black\" points=\"645,-53 442,-53 442,0 645,0 645,-53\"/>\n",
       "<text text-anchor=\"middle\" x=\"543.5\" y=\"-37.8\" font-family=\"Helvetica,sans-Serif\" font-size=\"14.00\">squared_error = 48383411.011</text>\n",
       "<text text-anchor=\"middle\" x=\"543.5\" y=\"-22.8\" font-family=\"Helvetica,sans-Serif\" font-size=\"14.00\">samples = 330</text>\n",
       "<text text-anchor=\"middle\" x=\"543.5\" y=\"-7.8\" font-family=\"Helvetica,sans-Serif\" font-size=\"14.00\">value = 19731.448</text>\n",
       "</g>\n",
       "<!-- 5&#45;&gt;6 -->\n",
       "<g id=\"edge6\" class=\"edge\">\n",
       "<title>5&#45;&gt;6</title>\n",
       "<path fill=\"none\" stroke=\"black\" d=\"M615.03,-88.95C604.06,-79.53 592.12,-69.27 581.2,-59.89\"/>\n",
       "<polygon fill=\"black\" stroke=\"black\" points=\"583.32,-57.1 573.46,-53.24 578.76,-62.41 583.32,-57.1\"/>\n",
       "</g>\n",
       "<!-- 7 -->\n",
       "<g id=\"node8\" class=\"node\">\n",
       "<title>7</title>\n",
       "<polygon fill=\"#fae6d8\" stroke=\"black\" points=\"866,-53 663,-53 663,0 866,0 866,-53\"/>\n",
       "<text text-anchor=\"middle\" x=\"764.5\" y=\"-37.8\" font-family=\"Helvetica,sans-Serif\" font-size=\"14.00\">squared_error = 69846686.473</text>\n",
       "<text text-anchor=\"middle\" x=\"764.5\" y=\"-22.8\" font-family=\"Helvetica,sans-Serif\" font-size=\"14.00\">samples = 480</text>\n",
       "<text text-anchor=\"middle\" x=\"764.5\" y=\"-7.8\" font-family=\"Helvetica,sans-Serif\" font-size=\"14.00\">value = 31849.792</text>\n",
       "</g>\n",
       "<!-- 5&#45;&gt;7 -->\n",
       "<g id=\"edge7\" class=\"edge\">\n",
       "<title>5&#45;&gt;7</title>\n",
       "<path fill=\"none\" stroke=\"black\" d=\"M692.32,-88.95C703.39,-79.53 715.43,-69.27 726.45,-59.89\"/>\n",
       "<polygon fill=\"black\" stroke=\"black\" points=\"728.92,-62.38 734.27,-53.24 724.39,-57.05 728.92,-62.38\"/>\n",
       "</g>\n",
       "<!-- 9 -->\n",
       "<g id=\"node10\" class=\"node\">\n",
       "<title>9</title>\n",
       "<polygon fill=\"#fbede2\" stroke=\"black\" points=\"1203,-157 1000,-157 1000,-89 1203,-89 1203,-157\"/>\n",
       "<text text-anchor=\"middle\" x=\"1101.5\" y=\"-141.8\" font-family=\"Helvetica,sans-Serif\" font-size=\"14.00\">mileage &lt;= 39354.0</text>\n",
       "<text text-anchor=\"middle\" x=\"1101.5\" y=\"-126.8\" font-family=\"Helvetica,sans-Serif\" font-size=\"14.00\">squared_error = 144056000.18</text>\n",
       "<text text-anchor=\"middle\" x=\"1101.5\" y=\"-111.8\" font-family=\"Helvetica,sans-Serif\" font-size=\"14.00\">samples = 393</text>\n",
       "<text text-anchor=\"middle\" x=\"1101.5\" y=\"-96.8\" font-family=\"Helvetica,sans-Serif\" font-size=\"14.00\">value = 26382.191</text>\n",
       "</g>\n",
       "<!-- 8&#45;&gt;9 -->\n",
       "<g id=\"edge9\" class=\"edge\">\n",
       "<title>8&#45;&gt;9</title>\n",
       "<path fill=\"none\" stroke=\"black\" d=\"M1101.5,-192.88C1101.5,-184.78 1101.5,-175.98 1101.5,-167.47\"/>\n",
       "<polygon fill=\"black\" stroke=\"black\" points=\"1105,-167.3 1101.5,-157.3 1098,-167.3 1105,-167.3\"/>\n",
       "</g>\n",
       "<!-- 12 -->\n",
       "<g id=\"node13\" class=\"node\">\n",
       "<title>12</title>\n",
       "<polygon fill=\"#f5d1b6\" stroke=\"black\" points=\"1545,-157 1334,-157 1334,-89 1545,-89 1545,-157\"/>\n",
       "<text text-anchor=\"middle\" x=\"1439.5\" y=\"-141.8\" font-family=\"Helvetica,sans-Serif\" font-size=\"14.00\">mpg &lt;= 21.85</text>\n",
       "<text text-anchor=\"middle\" x=\"1439.5\" y=\"-126.8\" font-family=\"Helvetica,sans-Serif\" font-size=\"14.00\">squared_error = 337332693.059</text>\n",
       "<text text-anchor=\"middle\" x=\"1439.5\" y=\"-111.8\" font-family=\"Helvetica,sans-Serif\" font-size=\"14.00\">samples = 512</text>\n",
       "<text text-anchor=\"middle\" x=\"1439.5\" y=\"-96.8\" font-family=\"Helvetica,sans-Serif\" font-size=\"14.00\">value = 51377.176</text>\n",
       "</g>\n",
       "<!-- 8&#45;&gt;12 -->\n",
       "<g id=\"edge12\" class=\"edge\">\n",
       "<title>8&#45;&gt;12</title>\n",
       "<path fill=\"none\" stroke=\"black\" d=\"M1207.05,-194.15C1244.13,-182.96 1285.97,-170.33 1323.83,-158.91\"/>\n",
       "<polygon fill=\"black\" stroke=\"black\" points=\"1325.31,-162.12 1333.87,-155.88 1323.29,-155.41 1325.31,-162.12\"/>\n",
       "</g>\n",
       "<!-- 10 -->\n",
       "<g id=\"node11\" class=\"node\">\n",
       "<title>10</title>\n",
       "<polygon fill=\"#fae6d8\" stroke=\"black\" points=\"1095,-53 884,-53 884,0 1095,0 1095,-53\"/>\n",
       "<text text-anchor=\"middle\" x=\"989.5\" y=\"-37.8\" font-family=\"Helvetica,sans-Serif\" font-size=\"14.00\">squared_error = 122627239.155</text>\n",
       "<text text-anchor=\"middle\" x=\"989.5\" y=\"-22.8\" font-family=\"Helvetica,sans-Serif\" font-size=\"14.00\">samples = 227</text>\n",
       "<text text-anchor=\"middle\" x=\"989.5\" y=\"-7.8\" font-family=\"Helvetica,sans-Serif\" font-size=\"14.00\">value = 31919.33</text>\n",
       "</g>\n",
       "<!-- 9&#45;&gt;10 -->\n",
       "<g id=\"edge10\" class=\"edge\">\n",
       "<title>9&#45;&gt;10</title>\n",
       "<path fill=\"none\" stroke=\"black\" d=\"M1062.33,-88.95C1051.16,-79.53 1039.01,-69.27 1027.89,-59.89\"/>\n",
       "<polygon fill=\"black\" stroke=\"black\" points=\"1029.9,-57.01 1020,-53.24 1025.39,-62.36 1029.9,-57.01\"/>\n",
       "</g>\n",
       "<!-- 11 -->\n",
       "<g id=\"node12\" class=\"node\">\n",
       "<title>11</title>\n",
       "<polygon fill=\"#fdf5ef\" stroke=\"black\" points=\"1316,-53 1113,-53 1113,0 1316,0 1316,-53\"/>\n",
       "<text text-anchor=\"middle\" x=\"1214.5\" y=\"-37.8\" font-family=\"Helvetica,sans-Serif\" font-size=\"14.00\">squared_error = 74099436.928</text>\n",
       "<text text-anchor=\"middle\" x=\"1214.5\" y=\"-22.8\" font-family=\"Helvetica,sans-Serif\" font-size=\"14.00\">samples = 166</text>\n",
       "<text text-anchor=\"middle\" x=\"1214.5\" y=\"-7.8\" font-family=\"Helvetica,sans-Serif\" font-size=\"14.00\">value = 18810.319</text>\n",
       "</g>\n",
       "<!-- 9&#45;&gt;11 -->\n",
       "<g id=\"edge11\" class=\"edge\">\n",
       "<title>9&#45;&gt;11</title>\n",
       "<path fill=\"none\" stroke=\"black\" d=\"M1141.02,-88.95C1152.29,-79.53 1164.55,-69.27 1175.77,-59.89\"/>\n",
       "<polygon fill=\"black\" stroke=\"black\" points=\"1178.3,-62.34 1183.72,-53.24 1173.81,-56.97 1178.3,-62.34\"/>\n",
       "</g>\n",
       "<!-- 13 -->\n",
       "<g id=\"node14\" class=\"node\">\n",
       "<title>13</title>\n",
       "<polygon fill=\"#e58139\" stroke=\"black\" points=\"1545,-53 1334,-53 1334,0 1545,0 1545,-53\"/>\n",
       "<text text-anchor=\"middle\" x=\"1439.5\" y=\"-37.8\" font-family=\"Helvetica,sans-Serif\" font-size=\"14.00\">squared_error = 831819449.686</text>\n",
       "<text text-anchor=\"middle\" x=\"1439.5\" y=\"-22.8\" font-family=\"Helvetica,sans-Serif\" font-size=\"14.00\">samples = 11</text>\n",
       "<text text-anchor=\"middle\" x=\"1439.5\" y=\"-7.8\" font-family=\"Helvetica,sans-Serif\" font-size=\"14.00\">value = 122796.364</text>\n",
       "</g>\n",
       "<!-- 12&#45;&gt;13 -->\n",
       "<g id=\"edge13\" class=\"edge\">\n",
       "<title>12&#45;&gt;13</title>\n",
       "<path fill=\"none\" stroke=\"black\" d=\"M1439.5,-88.95C1439.5,-80.72 1439.5,-71.85 1439.5,-63.48\"/>\n",
       "<polygon fill=\"black\" stroke=\"black\" points=\"1443,-63.24 1439.5,-53.24 1436,-63.24 1443,-63.24\"/>\n",
       "</g>\n",
       "<!-- 14 -->\n",
       "<g id=\"node15\" class=\"node\">\n",
       "<title>14</title>\n",
       "<polygon fill=\"#f6d2b9\" stroke=\"black\" points=\"1774,-53 1563,-53 1563,0 1774,0 1774,-53\"/>\n",
       "<text text-anchor=\"middle\" x=\"1668.5\" y=\"-37.8\" font-family=\"Helvetica,sans-Serif\" font-size=\"14.00\">squared_error = 212025379.008</text>\n",
       "<text text-anchor=\"middle\" x=\"1668.5\" y=\"-22.8\" font-family=\"Helvetica,sans-Serif\" font-size=\"14.00\">samples = 501</text>\n",
       "<text text-anchor=\"middle\" x=\"1668.5\" y=\"-7.8\" font-family=\"Helvetica,sans-Serif\" font-size=\"14.00\">value = 49809.09</text>\n",
       "</g>\n",
       "<!-- 12&#45;&gt;14 -->\n",
       "<g id=\"edge14\" class=\"edge\">\n",
       "<title>12&#45;&gt;14</title>\n",
       "<path fill=\"none\" stroke=\"black\" d=\"M1519.59,-88.95C1544.87,-78.52 1572.61,-67.07 1597.23,-56.91\"/>\n",
       "<polygon fill=\"black\" stroke=\"black\" points=\"1598.59,-60.14 1606.5,-53.09 1595.92,-53.67 1598.59,-60.14\"/>\n",
       "</g>\n",
       "</g>\n",
       "</svg>\n"
      ],
      "text/plain": [
       "<graphviz.sources.Source at 0x16b3e6ac0>"
      ]
     },
     "execution_count": 23,
     "metadata": {},
     "output_type": "execute_result"
    }
   ],
   "source": [
    "## Visualize a shallow tree (max_depth=3)\n",
    "## If you're using your local computer, you can use `pip install graphviz`\n",
    "# and `brew install graphviz` (on MAC) to install the package\n",
    "from sklearn.tree import export_graphviz\n",
    "import graphviz\n",
    "\n",
    "max_depth = 3\n",
    "model = question_3_2(X_train, y_train, random_state, max_depth, min_samples_split)\n",
    "dot_data = export_graphviz(model, out_file=None, feature_names=X.columns, filled=True)\n",
    "\n",
    "graph = graphviz.Source(dot_data, format=\"png\")\n",
    "graph"
   ]
  },
  {
   "cell_type": "markdown",
   "id": "96aa619c",
   "metadata": {
    "id": "96aa619c"
   },
   "source": [
    "if you're interested in visualizing tree models, [`dtreeviz`](https://github.com/parrt/dtreeviz) is another cool package can help you with variety of ways to visualize the tree."
   ]
  },
  {
   "cell_type": "markdown",
   "id": "f5828683",
   "metadata": {
    "id": "f5828683"
   },
   "source": [
    "Let's say we want to make a prediction for this sample:"
   ]
  },
  {
   "cell_type": "code",
   "execution_count": 24,
   "id": "a1fd715b",
   "metadata": {
    "colab": {
     "base_uri": "https://localhost:8080/",
     "height": 81
    },
    "id": "a1fd715b",
    "outputId": "5897a220-e673-4069-99f0-f8b3ff72a738"
   },
   "outputs": [
    {
     "data": {
      "text/html": [
       "<div>\n",
       "<style scoped>\n",
       "    .dataframe tbody tr th:only-of-type {\n",
       "        vertical-align: middle;\n",
       "    }\n",
       "\n",
       "    .dataframe tbody tr th {\n",
       "        vertical-align: top;\n",
       "    }\n",
       "\n",
       "    .dataframe thead th {\n",
       "        text-align: right;\n",
       "    }\n",
       "</style>\n",
       "<table border=\"1\" class=\"dataframe\">\n",
       "  <thead>\n",
       "    <tr style=\"text-align: right;\">\n",
       "      <th></th>\n",
       "      <th>brand</th>\n",
       "      <th>model</th>\n",
       "      <th>year</th>\n",
       "      <th>transmission</th>\n",
       "      <th>mileage</th>\n",
       "      <th>fuelType</th>\n",
       "      <th>tax</th>\n",
       "      <th>mpg</th>\n",
       "      <th>engineSize</th>\n",
       "    </tr>\n",
       "  </thead>\n",
       "  <tbody>\n",
       "    <tr>\n",
       "      <th>4929</th>\n",
       "      <td>2</td>\n",
       "      <td>22</td>\n",
       "      <td>2019</td>\n",
       "      <td>3</td>\n",
       "      <td>7055</td>\n",
       "      <td>0</td>\n",
       "      <td>145.0</td>\n",
       "      <td>37.2</td>\n",
       "      <td>2.0</td>\n",
       "    </tr>\n",
       "  </tbody>\n",
       "</table>\n",
       "</div>"
      ],
      "text/plain": [
       "      brand  model  year  transmission  mileage  fuelType    tax   mpg   \n",
       "4929      2     22  2019             3     7055         0  145.0  37.2  \\\n",
       "\n",
       "      engineSize  \n",
       "4929         2.0  "
      ]
     },
     "execution_count": 24,
     "metadata": {},
     "output_type": "execute_result"
    }
   ],
   "source": [
    "## show 1 sample\n",
    "X_test[13:14]"
   ]
  },
  {
   "cell_type": "code",
   "execution_count": 25,
   "id": "609bae0b",
   "metadata": {
    "colab": {
     "base_uri": "https://localhost:8080/"
    },
    "id": "609bae0b",
    "outputId": "15d5d869-b808-4df0-c7e9-5f428f4b3b01"
   },
   "outputs": [
    {
     "name": "stdout",
     "output_type": "stream",
     "text": [
      "Actual price of the car: £30,970\n",
      "Model predicts for the car: £31,849.79\n"
     ]
    }
   ],
   "source": [
    "print(f\"Actual price of the car: £{y_test.iloc[13]:,}\")\n",
    "\n",
    "## Let's see what the model predicts for the car\n",
    "print(f\"Model predicts for the car: £{model.predict(X_test[13:14])[0]:,.2f}\")"
   ]
  },
  {
   "cell_type": "markdown",
   "id": "d8973966",
   "metadata": {
    "id": "d8973966"
   },
   "source": [
    "**Question:** Explain how the decision tree made that prediction by pointing out the path from the root to its leaf."
   ]
  },
  {
   "cell_type": "markdown",
   "id": "62665458",
   "metadata": {
    "id": "62665458"
   },
   "source": [
    "Write your answer in this block\n",
    "\n",
    "**Answer:**\n",
    "First check if the engine size is less than 2.75. In this sample, engine size is 2.0, so it goes to the left child. Then check if the year is less than 2018.5. In this sample, year is 2019, so it goes to the right child. Finally, check if the engine size is less than 1.9.  In this sample, engine size is 2.0, so it goes to the right child. The prediction is the average price of the samples in this leaf node."
   ]
  },
  {
   "cell_type": "markdown",
   "id": "140a3d87",
   "metadata": {
    "id": "140a3d87"
   },
   "source": [
    "# **Question 4.** Boosting  (*20 total points*)"
   ]
  },
  {
   "cell_type": "markdown",
   "id": "e700cc57",
   "metadata": {
    "id": "e700cc57"
   },
   "source": [
    "Gradient boosting builds a sum of predictors using a greedy stagewise method. First, we fit a predictor to the data to obtain an initial model. Now repeat: Compute the appropriate weight at each data point; then fit a predictor using these weights; search for the best weight with which to add this predictor to the current model; and add the weighted predictor to the current model. Stop by looking at validation error. The weight is a partial derivative of the loss with respect to the predictor, evaluated at the current value of the predictor."
   ]
  },
  {
   "cell_type": "markdown",
   "id": "437c46c7",
   "metadata": {
    "id": "437c46c7"
   },
   "source": [
    "The mystic behind Boosting is in principal the same as for Random Forest models: *A bunch of weak learners which performs just slightly better than random guessing can be combined to make better predictions than one strong learner.*"
   ]
  },
  {
   "cell_type": "code",
   "execution_count": 26,
   "id": "e1a356c3",
   "metadata": {
    "colab": {
     "base_uri": "https://localhost:8080/",
     "height": 591
    },
    "id": "e1a356c3",
    "outputId": "42eaed20-e2c8-4bce-e607-3fbf24ee992d"
   },
   "outputs": [
    {
     "data": {
      "image/png": "[encoded data removed]",
      "text/plain": [
       "<IPython.core.display.Image object>"
      ]
     },
     "execution_count": 26,
     "metadata": {},
     "output_type": "execute_result"
    }
   ],
   "source": [
    "## The idea of gradient boosting tree\n",
    "from IPython import display\n",
    "display.Image(\"https://raw.githubusercontent.com/chaudatascience/cs599_fall2022/master/ps4/boosting2.png\")"
   ]
  },
  {
   "cell_type": "markdown",
   "id": "48a79906",
   "metadata": {
    "id": "48a79906"
   },
   "source": [
    "Different from the Random Forest approach where we created an ensemble of tree models in parallel, we now create the ensemble in sequence, where the set up of the actual tree is influenced by the outputs of all the previous tree models by altering the weights of the dataset, the tree model is built on."
   ]
  },
  {
   "cell_type": "markdown",
   "id": "3c023539",
   "metadata": {
    "id": "3c023539"
   },
   "source": [
    "There are some well-used gradient boosting tree algorithms, such as [LightGBM](https://lightgbm.readthedocs.io/en/v3.3.2/), [XGboost](https://xgboost.readthedocs.io/en/stable/), and [Catboost](https://catboost.ai/). In this section, we will get into XGboost to see how we can apply it to the used car dataset.\n",
    "\n",
    "\n",
    "[XGBoost](https://xgboost.readthedocs.io/en/stable/tutorials/model.html), which stands for Extreme Gradient Boosting, is a scalable, distributed gradient-boosted decision tree (GBDT) machine learning library. It’s a parallelized and carefully optimized version of the gradient boosting algorithm for regression, classification, and ranking problems. XGBoost is one of the go-to algorithms for tabular data due to its efficiency. Some big companies use Xgboost for their prediction models, such as Uber has been [using XGboost for arrival time predictions (ETA)](https://www.uber.com/blog/deepeta-how-uber-predicts-arrival-times/).\n",
    "\n",
    "Let's train a XGBoost on the used car dataset."
   ]
  },
  {
   "cell_type": "markdown",
   "id": "00562e9a",
   "metadata": {
    "id": "00562e9a"
   },
   "source": [
    "## **4.1 Code:** XGboost *(10 pts)*"
   ]
  },
  {
   "cell_type": "markdown",
   "id": "3c444257",
   "metadata": {
    "id": "3c444257"
   },
   "source": [
    "For this question, you can refer to the document of `XGBRegressor` [here](https://xgboost.readthedocs.io/en/stable/python/python_api.html#xgboost.XGBRegressor)"
   ]
  },
  {
   "cell_type": "code",
   "execution_count": 27,
   "id": "9ac14259",
   "metadata": {
    "id": "9ac14259"
   },
   "outputs": [
    {
     "name": "stdout",
     "output_type": "stream",
     "text": [
      "[0]\tvalidation_0-rmse:13788.39989\tvalidation_1-rmse:13226.10553\n",
      "[1]\tvalidation_0-rmse:11531.42826\tvalidation_1-rmse:11228.71376\n",
      "[2]\tvalidation_0-rmse:9774.61936\tvalidation_1-rmse:9712.94575\n",
      "[3]\tvalidation_0-rmse:8343.45541\tvalidation_1-rmse:8508.88955\n",
      "[4]\tvalidation_0-rmse:7195.81020\tvalidation_1-rmse:7556.28654\n",
      "[5]\tvalidation_0-rmse:6324.24504\tvalidation_1-rmse:6897.06348\n",
      "[6]\tvalidation_0-rmse:5583.08226\tvalidation_1-rmse:6313.73952\n",
      "[7]\tvalidation_0-rmse:5027.15099\tvalidation_1-rmse:5910.99933\n",
      "[8]\tvalidation_0-rmse:4567.03187\tvalidation_1-rmse:5603.24055\n",
      "[9]\tvalidation_0-rmse:4206.49900\tvalidation_1-rmse:5392.39810\n",
      "[10]\tvalidation_0-rmse:3932.70061\tvalidation_1-rmse:5199.95824\n",
      "[11]\tvalidation_0-rmse:3675.18895\tvalidation_1-rmse:5010.62326\n",
      "[12]\tvalidation_0-rmse:3482.80925\tvalidation_1-rmse:4886.78947\n",
      "[13]\tvalidation_0-rmse:3338.54521\tvalidation_1-rmse:4793.54120\n",
      "[14]\tvalidation_0-rmse:3201.72202\tvalidation_1-rmse:4714.84647\n",
      "[15]\tvalidation_0-rmse:3086.49470\tvalidation_1-rmse:4613.55490\n",
      "[16]\tvalidation_0-rmse:2945.35592\tvalidation_1-rmse:4508.82887\n",
      "[17]\tvalidation_0-rmse:2856.95405\tvalidation_1-rmse:4441.79157\n",
      "[18]\tvalidation_0-rmse:2801.65950\tvalidation_1-rmse:4403.94093\n",
      "[19]\tvalidation_0-rmse:2719.97947\tvalidation_1-rmse:4345.61481\n",
      "[20]\tvalidation_0-rmse:2677.35245\tvalidation_1-rmse:4314.24658\n",
      "[21]\tvalidation_0-rmse:2629.48988\tvalidation_1-rmse:4281.95733\n",
      "[22]\tvalidation_0-rmse:2538.51345\tvalidation_1-rmse:4212.04303\n",
      "[23]\tvalidation_0-rmse:2510.75389\tvalidation_1-rmse:4196.58841\n",
      "[24]\tvalidation_0-rmse:2445.14507\tvalidation_1-rmse:4145.38973\n",
      "[25]\tvalidation_0-rmse:2423.90485\tvalidation_1-rmse:4116.08242\n",
      "[26]\tvalidation_0-rmse:2390.47727\tvalidation_1-rmse:4106.98486\n",
      "[27]\tvalidation_0-rmse:2341.54903\tvalidation_1-rmse:4069.78553\n",
      "[28]\tvalidation_0-rmse:2327.97479\tvalidation_1-rmse:4057.25714\n",
      "[29]\tvalidation_0-rmse:2297.55269\tvalidation_1-rmse:4045.66549\n",
      "[30]\tvalidation_0-rmse:2286.25059\tvalidation_1-rmse:4035.65382\n",
      "[31]\tvalidation_0-rmse:2265.11382\tvalidation_1-rmse:4025.25458\n",
      "[32]\tvalidation_0-rmse:2230.76901\tvalidation_1-rmse:4012.03114\n",
      "[33]\tvalidation_0-rmse:2215.50122\tvalidation_1-rmse:4006.98289\n",
      "[34]\tvalidation_0-rmse:2205.98638\tvalidation_1-rmse:4005.61846\n",
      "[35]\tvalidation_0-rmse:2193.50461\tvalidation_1-rmse:3993.89597\n",
      "[36]\tvalidation_0-rmse:2158.82389\tvalidation_1-rmse:3989.58766\n",
      "[37]\tvalidation_0-rmse:2136.70149\tvalidation_1-rmse:3977.48222\n",
      "[38]\tvalidation_0-rmse:2123.71509\tvalidation_1-rmse:3972.48143\n",
      "[39]\tvalidation_0-rmse:2114.41181\tvalidation_1-rmse:3950.86595\n",
      "[40]\tvalidation_0-rmse:2088.52283\tvalidation_1-rmse:3933.85514\n",
      "[41]\tvalidation_0-rmse:2076.84389\tvalidation_1-rmse:3930.81221\n",
      "[42]\tvalidation_0-rmse:2058.54308\tvalidation_1-rmse:3933.41356\n",
      "[43]\tvalidation_0-rmse:2042.97978\tvalidation_1-rmse:3927.82207\n",
      "[44]\tvalidation_0-rmse:2034.84981\tvalidation_1-rmse:3930.92032\n",
      "[45]\tvalidation_0-rmse:2005.94524\tvalidation_1-rmse:3932.39904\n",
      "[46]\tvalidation_0-rmse:2000.72320\tvalidation_1-rmse:3928.24927\n",
      "[47]\tvalidation_0-rmse:1978.82285\tvalidation_1-rmse:3923.25163\n",
      "[48]\tvalidation_0-rmse:1963.81513\tvalidation_1-rmse:3923.09808\n",
      "[49]\tvalidation_0-rmse:1957.90190\tvalidation_1-rmse:3920.41051\n",
      "[50]\tvalidation_0-rmse:1945.42637\tvalidation_1-rmse:3918.21440\n",
      "[51]\tvalidation_0-rmse:1923.21486\tvalidation_1-rmse:3913.25984\n",
      "[52]\tvalidation_0-rmse:1921.47979\tvalidation_1-rmse:3909.56204\n",
      "[53]\tvalidation_0-rmse:1906.27851\tvalidation_1-rmse:3908.54989\n",
      "[54]\tvalidation_0-rmse:1892.79601\tvalidation_1-rmse:3902.03315\n",
      "[55]\tvalidation_0-rmse:1865.88649\tvalidation_1-rmse:3890.33566\n",
      "[56]\tvalidation_0-rmse:1839.05366\tvalidation_1-rmse:3880.63174\n",
      "[57]\tvalidation_0-rmse:1821.31524\tvalidation_1-rmse:3877.57875\n",
      "[58]\tvalidation_0-rmse:1810.16365\tvalidation_1-rmse:3873.58261\n",
      "[59]\tvalidation_0-rmse:1799.97392\tvalidation_1-rmse:3864.14212\n",
      "[60]\tvalidation_0-rmse:1794.23060\tvalidation_1-rmse:3860.96000\n",
      "[61]\tvalidation_0-rmse:1765.67044\tvalidation_1-rmse:3846.56403\n",
      "[62]\tvalidation_0-rmse:1752.84052\tvalidation_1-rmse:3840.38943\n",
      "[63]\tvalidation_0-rmse:1735.55552\tvalidation_1-rmse:3835.48713\n",
      "[64]\tvalidation_0-rmse:1732.38311\tvalidation_1-rmse:3832.93759\n",
      "[65]\tvalidation_0-rmse:1719.41693\tvalidation_1-rmse:3832.06143\n",
      "[66]\tvalidation_0-rmse:1715.27199\tvalidation_1-rmse:3831.00064\n",
      "[67]\tvalidation_0-rmse:1698.02410\tvalidation_1-rmse:3821.07720\n",
      "[68]\tvalidation_0-rmse:1695.80147\tvalidation_1-rmse:3819.88542\n",
      "[69]\tvalidation_0-rmse:1688.58852\tvalidation_1-rmse:3825.09923\n",
      "[70]\tvalidation_0-rmse:1679.56273\tvalidation_1-rmse:3825.89703\n",
      "[71]\tvalidation_0-rmse:1672.48064\tvalidation_1-rmse:3830.64277\n",
      "[72]\tvalidation_0-rmse:1653.68496\tvalidation_1-rmse:3826.62793\n",
      "[73]\tvalidation_0-rmse:1644.03680\tvalidation_1-rmse:3826.80587\n",
      "[74]\tvalidation_0-rmse:1640.21323\tvalidation_1-rmse:3824.26431\n",
      "[75]\tvalidation_0-rmse:1633.72620\tvalidation_1-rmse:3821.60657\n",
      "[76]\tvalidation_0-rmse:1629.82435\tvalidation_1-rmse:3820.06603\n",
      "[77]\tvalidation_0-rmse:1603.74752\tvalidation_1-rmse:3818.88456\n",
      "[78]\tvalidation_0-rmse:1594.26084\tvalidation_1-rmse:3816.45389\n",
      "[79]\tvalidation_0-rmse:1581.52942\tvalidation_1-rmse:3810.53840\n",
      "[80]\tvalidation_0-rmse:1571.65006\tvalidation_1-rmse:3807.47223\n",
      "[81]\tvalidation_0-rmse:1563.24224\tvalidation_1-rmse:3804.66117\n",
      "[82]\tvalidation_0-rmse:1558.96673\tvalidation_1-rmse:3803.29873\n",
      "[83]\tvalidation_0-rmse:1553.07136\tvalidation_1-rmse:3800.68298\n",
      "[84]\tvalidation_0-rmse:1552.22809\tvalidation_1-rmse:3799.86241\n",
      "[85]\tvalidation_0-rmse:1547.16974\tvalidation_1-rmse:3798.81583\n",
      "[86]\tvalidation_0-rmse:1540.39676\tvalidation_1-rmse:3799.57519\n",
      "[87]\tvalidation_0-rmse:1531.66471\tvalidation_1-rmse:3798.48569\n",
      "[88]\tvalidation_0-rmse:1515.93897\tvalidation_1-rmse:3798.27729\n",
      "[89]\tvalidation_0-rmse:1510.11795\tvalidation_1-rmse:3801.07021\n",
      "[90]\tvalidation_0-rmse:1502.27854\tvalidation_1-rmse:3804.95715\n",
      "[91]\tvalidation_0-rmse:1491.74730\tvalidation_1-rmse:3802.85482\n",
      "[92]\tvalidation_0-rmse:1490.07405\tvalidation_1-rmse:3798.27815\n",
      "[93]\tvalidation_0-rmse:1479.98360\tvalidation_1-rmse:3792.88899\n",
      "[94]\tvalidation_0-rmse:1471.61931\tvalidation_1-rmse:3790.92231\n",
      "[95]\tvalidation_0-rmse:1466.24643\tvalidation_1-rmse:3789.64136\n",
      "[96]\tvalidation_0-rmse:1449.29332\tvalidation_1-rmse:3786.39626\n",
      "[97]\tvalidation_0-rmse:1440.85983\tvalidation_1-rmse:3784.73257\n",
      "[98]\tvalidation_0-rmse:1432.92845\tvalidation_1-rmse:3785.19065\n",
      "[99]\tvalidation_0-rmse:1431.27316\tvalidation_1-rmse:3780.83891\n",
      "[100]\tvalidation_0-rmse:1428.11133\tvalidation_1-rmse:3779.07659\n",
      "[101]\tvalidation_0-rmse:1419.63023\tvalidation_1-rmse:3776.22421\n",
      "[102]\tvalidation_0-rmse:1402.02883\tvalidation_1-rmse:3776.93892\n",
      "[103]\tvalidation_0-rmse:1393.12085\tvalidation_1-rmse:3779.43959\n",
      "[104]\tvalidation_0-rmse:1387.92162\tvalidation_1-rmse:3779.42336\n",
      "[105]\tvalidation_0-rmse:1387.00746\tvalidation_1-rmse:3778.80809\n",
      "[106]\tvalidation_0-rmse:1383.57532\tvalidation_1-rmse:3778.23135\n",
      "[107]\tvalidation_0-rmse:1371.04528\tvalidation_1-rmse:3777.86731\n",
      "[108]\tvalidation_0-rmse:1364.48119\tvalidation_1-rmse:3778.27921\n",
      "[109]\tvalidation_0-rmse:1358.76920\tvalidation_1-rmse:3777.46874\n",
      "[110]\tvalidation_0-rmse:1354.58478\tvalidation_1-rmse:3775.92433\n",
      "[111]\tvalidation_0-rmse:1348.03271\tvalidation_1-rmse:3776.13466\n",
      "[112]\tvalidation_0-rmse:1340.15724\tvalidation_1-rmse:3775.33864\n",
      "[113]\tvalidation_0-rmse:1330.91046\tvalidation_1-rmse:3774.42438\n",
      "[114]\tvalidation_0-rmse:1325.09038\tvalidation_1-rmse:3774.80387\n",
      "[115]\tvalidation_0-rmse:1321.28920\tvalidation_1-rmse:3773.42169\n",
      "[116]\tvalidation_0-rmse:1316.59414\tvalidation_1-rmse:3772.34174\n",
      "[117]\tvalidation_0-rmse:1313.09511\tvalidation_1-rmse:3775.28654\n",
      "[118]\tvalidation_0-rmse:1302.80384\tvalidation_1-rmse:3777.23730\n",
      "[119]\tvalidation_0-rmse:1293.34594\tvalidation_1-rmse:3778.07003\n",
      "[120]\tvalidation_0-rmse:1292.65261\tvalidation_1-rmse:3778.08955\n",
      "[121]\tvalidation_0-rmse:1284.84845\tvalidation_1-rmse:3781.35719\n",
      "[122]\tvalidation_0-rmse:1283.98846\tvalidation_1-rmse:3780.93728\n",
      "[123]\tvalidation_0-rmse:1277.11305\tvalidation_1-rmse:3780.29530\n",
      "[124]\tvalidation_0-rmse:1272.39685\tvalidation_1-rmse:3782.28585\n",
      "[125]\tvalidation_0-rmse:1265.53654\tvalidation_1-rmse:3785.86614\n",
      "[126]\tvalidation_0-rmse:1258.72697\tvalidation_1-rmse:3784.42355\n",
      "[127]\tvalidation_0-rmse:1255.77154\tvalidation_1-rmse:3783.22013\n",
      "[128]\tvalidation_0-rmse:1254.19564\tvalidation_1-rmse:3784.60651\n",
      "[129]\tvalidation_0-rmse:1247.56795\tvalidation_1-rmse:3785.34019\n",
      "[130]\tvalidation_0-rmse:1244.96229\tvalidation_1-rmse:3783.67701\n",
      "[131]\tvalidation_0-rmse:1236.14059\tvalidation_1-rmse:3783.95576\n",
      "[132]\tvalidation_0-rmse:1227.85464\tvalidation_1-rmse:3784.27735\n",
      "[133]\tvalidation_0-rmse:1224.26546\tvalidation_1-rmse:3784.98256\n",
      "[134]\tvalidation_0-rmse:1213.25854\tvalidation_1-rmse:3784.43902\n",
      "[135]\tvalidation_0-rmse:1209.90776\tvalidation_1-rmse:3784.46780\n",
      "[136]\tvalidation_0-rmse:1207.47006\tvalidation_1-rmse:3783.61207\n",
      "[137]\tvalidation_0-rmse:1205.36663\tvalidation_1-rmse:3782.68686\n",
      "[138]\tvalidation_0-rmse:1203.70521\tvalidation_1-rmse:3782.20757\n",
      "[139]\tvalidation_0-rmse:1202.77061\tvalidation_1-rmse:3781.90769\n",
      "[140]\tvalidation_0-rmse:1200.69788\tvalidation_1-rmse:3782.92655\n",
      "[141]\tvalidation_0-rmse:1198.56138\tvalidation_1-rmse:3783.21509\n",
      "[142]\tvalidation_0-rmse:1189.42959\tvalidation_1-rmse:3784.30414\n",
      "[143]\tvalidation_0-rmse:1185.65706\tvalidation_1-rmse:3784.95498\n",
      "[144]\tvalidation_0-rmse:1182.49650\tvalidation_1-rmse:3785.14608\n",
      "[145]\tvalidation_0-rmse:1173.27367\tvalidation_1-rmse:3785.27400\n",
      "[146]\tvalidation_0-rmse:1166.65890\tvalidation_1-rmse:3785.75800\n",
      "[147]\tvalidation_0-rmse:1158.59312\tvalidation_1-rmse:3785.84498\n",
      "[148]\tvalidation_0-rmse:1154.39588\tvalidation_1-rmse:3784.79685\n",
      "[149]\tvalidation_0-rmse:1151.84414\tvalidation_1-rmse:3784.86378\n",
      "Root Mean Square Error on training set: 1151.8441423507747\n",
      "Root Mean Square Error on test set: 3784.8637911287947\n"
     ]
    }
   ],
   "source": [
    "import xgboost as xgb\n",
    "\n",
    "def question_4_1(X_train: np.ndarray, y_train: np.ndarray, X_test: np.ndarray, y_test: np.ndarray) -> xgb.XGBRegressor:\n",
    "    \"\"\"\n",
    "        Train a XGBRegressor model on X_train, y_train\n",
    "        Return a trained xgb.XGBRegressor\n",
    "    \"\"\"\n",
    "    # Write your code in this block -----------------------------------------------------------\n",
    "\n",
    "    ## Step 1: initialize a `XGBRegressor` object, with objective='reg:squarederror' (loss function),\n",
    "    # `n_estimators` = 150 (i.e., the number of trees),  `learning_rate`=0.2 and `random_state`=2022\n",
    "\n",
    "    model = xgb.XGBRegressor(objective='reg:squarederror', n_estimators=150, learning_rate=0.2, random_state=2022)\n",
    "\n",
    "\n",
    "    ## Step 2: fit the model on X_train, y_train\n",
    "    # In `fit()`, pass (X_train, y_train), (X_test, y_test) as  2 datasets for `eval_set`. You should refer to\n",
    "    # the document to see how to use `eval_set` with `fit()`\n",
    "\n",
    "    model.fit(X_train, y_train, eval_set=[(X_train, y_train), (X_test, y_test)])\n",
    "    ## Step 3: return the trained model\n",
    "\n",
    "    return model\n",
    "    # End of your code ------------------------------------------------------------------------\n",
    "\n",
    "\n",
    "### test your model\n",
    "xgb_model = question_4_1(X_train, y_train, X_test, y_test)\n",
    "train_pred = xgb_model.predict(X_train)\n",
    "test_pred = xgb_model.predict(X_test)\n",
    "print(\"Root Mean Square Error on training set:\", question_3_3(y_train, train_pred))\n",
    "print(\"Root Mean Square Error on test set:\", question_3_3(y_test, test_pred))"
   ]
  },
  {
   "cell_type": "markdown",
   "id": "01403bd3",
   "metadata": {
    "id": "01403bd3"
   },
   "source": [
    "We can observe that Xgboost perform much beter than the regression tree (lower RMSE) on this dataset."
   ]
  },
  {
   "cell_type": "markdown",
   "id": "2a83bed1",
   "metadata": {
    "id": "2a83bed1"
   },
   "source": [
    "## **4.2 Graph:** Plot train and test errors *(5 pts)*\n",
    "`XGBRegressor` objects have `.evals_result()` which stores all the training and validation losses.\n"
   ]
  },
  {
   "cell_type": "code",
   "execution_count": 28,
   "id": "fff65dc9",
   "metadata": {
    "colab": {
     "base_uri": "https://localhost:8080/"
    },
    "id": "fff65dc9",
    "outputId": "ea3c88f8-154c-4005-d4b8-3cd57469aea7"
   },
   "outputs": [
    {
     "name": "stdout",
     "output_type": "stream",
     "text": [
      "dict_keys(['validation_0', 'validation_1'])\n"
     ]
    }
   ],
   "source": [
    "results = xgb_model.evals_result()\n",
    "print(results.keys())"
   ]
  },
  {
   "cell_type": "code",
   "execution_count": 29,
   "id": "881f7cd9",
   "metadata": {
    "colab": {
     "base_uri": "https://localhost:8080/",
     "height": 619
    },
    "id": "881f7cd9",
    "outputId": "ec2457e9-1ecd-47c7-b5d5-0f0260db66b9"
   },
   "outputs": [
    {
     "data": {
      "image/png": "[encoded data removed]",
      "text/plain": [
       "<Figure size 432x288 with 1 Axes>"
      ]
     },
     "metadata": {
      "needs_background": "light"
     },
     "output_type": "display_data"
    }
   ],
   "source": [
    "### Generate the code to plot traning loss and validation loss from `results`\n",
    "\n",
    "def question_4_2(results: Dict) -> None:\n",
    "    # Write your code in this block -----------------------------------------------------------\n",
    "    # X axis is Number of Trees, Y axis is Loss\n",
    "    # You should plot both training and validation loss in the same plot\n",
    "\n",
    "    train_loss = results['validation_0']['rmse']\n",
    "    val_loss = results['validation_1']['rmse']\n",
    "    x = range(1, len(train_loss)+1)\n",
    "\n",
    "    plt.plot(x, train_loss, label='Training loss')\n",
    "    plt.plot(x, val_loss, label='Validation loss')\n",
    "    plt.legend()\n",
    "    plt.xlabel('Number of Trees')\n",
    "    plt.ylabel('Loss')\n",
    "\n",
    "    # End of your code ------------------------------------------------------------------------\n",
    "\n",
    "\n",
    "## Test your code: You should have a similar plot as below\n",
    "# No need to be exactly the same (can be different in style, color), but MUST have legend\n",
    "# Please include the generated plot to the pdf submission file\n",
    "question_4_2(results)"
   ]
  },
  {
   "cell_type": "markdown",
   "id": "d216d4b1",
   "metadata": {
    "id": "d216d4b1"
   },
   "source": [
    "**Feature Importance**\n",
    "\n",
    "Generally, feature importance provides a score that indicates how useful or valuable each feature was in the construction of the boosting trees within the model. It gives us a general idea of which features are more importance."
   ]
  },
  {
   "cell_type": "code",
   "execution_count": 30,
   "id": "9c4fa753",
   "metadata": {
    "colab": {
     "base_uri": "https://localhost:8080/",
     "height": 489
    },
    "id": "9c4fa753",
    "outputId": "f52dd837-b1c1-4bbd-c870-110f87a1e4d9"
   },
   "outputs": [
    {
     "data": {
      "text/plain": [
       "<Axes: title={'center': 'Feature importance'}, xlabel='F score', ylabel='Features'>"
      ]
     },
     "execution_count": 30,
     "metadata": {},
     "output_type": "execute_result"
    },
    {
     "data": {
      "image/png": "[encoded data removed]",
      "text/plain": [
       "<Figure size 432x288 with 1 Axes>"
      ]
     },
     "metadata": {
      "needs_background": "light"
     },
     "output_type": "display_data"
    }
   ],
   "source": [
    "## There are some options for `importance_type`,\n",
    "# each may return a different result for feature importance\n",
    "# you can refer to the document of XGBoost for more detail.\n",
    "xgb.plot_importance(xgb_model, importance_type='weight')"
   ]
  },
  {
   "cell_type": "markdown",
   "id": "0f89d9af",
   "metadata": {
    "id": "0f89d9af"
   },
   "source": [
    "This suggests that \"mileage\", \"model\" and \"mpg\" are the most important features for the xgboost model to predict \"price\" of a used car in the dataset."
   ]
  },
  {
   "cell_type": "markdown",
   "id": "5330190b",
   "metadata": {
    "id": "5330190b"
   },
   "source": [
    "# **Question 5.** Linear regression models (*20 total points*)"
   ]
  },
  {
   "cell_type": "markdown",
   "id": "7125e6f9",
   "metadata": {
    "id": "7125e6f9"
   },
   "source": [
    "At http://www.statsci.org/data/general/kittiwak.txt, you can find an existing dataset\n",
    "collected by D.K. Cairns in 1988 that analysed the relation between population and foraging area for seabird colonies."
   ]
  },
  {
   "cell_type": "markdown",
   "id": "634acc96",
   "metadata": {
    "id": "634acc96"
   },
   "source": [
    "We will use this dataset to fit simple regression models and analyze their performance."
   ]
  },
  {
   "cell_type": "markdown",
   "id": "2cfaeeb1",
   "metadata": {
    "id": "2cfaeeb1"
   },
   "source": [
    "## **5.1 Code:** Fitting regression model (*5 pts*)"
   ]
  },
  {
   "cell_type": "markdown",
   "id": "ea449668",
   "metadata": {
    "id": "ea449668"
   },
   "source": [
    "**Question**:  Using the 22 data points that you have to copy directly into the following code block from the website, fit a regression line for the relationship between the population size and the log area for the seabird (i.e., kittiwake) colonies. The x-axis should represent the log area, while the y-axis should show the population size.\n"
   ]
  },
  {
   "cell_type": "markdown",
   "id": "2f91800a",
   "metadata": {
    "id": "2f91800a"
   },
   "source": [
    "We will use this dataset to fit simple regression models and analyse their performance."
   ]
  },
  {
   "cell_type": "code",
   "execution_count": 33,
   "id": "0dc2f1b3",
   "metadata": {
    "id": "0dc2f1b3"
   },
   "outputs": [
    {
     "data": {
      "text/plain": [
       "<matplotlib.legend.Legend at 0x16b51a550>"
      ]
     },
     "execution_count": 33,
     "metadata": {},
     "output_type": "execute_result"
    },
    {
     "data": {
      "image/png": "[encoded data removed]",
      "text/plain": [
       "<Figure size 720x360 with 1 Axes>"
      ]
     },
     "metadata": {
      "needs_background": "light"
     },
     "output_type": "display_data"
    }
   ],
   "source": [
    "from sklearn.linear_model import LinearRegression\n",
    "\n",
    "\n",
    "##Write your answer/code in this block\n",
    "# Include this part along with the generated plot in both your .py submission and .pdf submission!\n",
    "\n",
    "data = {\n",
    "    \"Colony\": [\"W. Unst\", \"Hermaness\", \"N.E. Unst\", \"W. Yell\", \"Buravoe\", \"Fetlar\", \"Out Skerries\", \"Noss\", \"Moussa\", \"Dalsetter\", \"Sumburgh\", \"Fitful Head\", \"St Ninians\", \"S. Havra\", \"Reawick\", \"Vaila\", \"Papa Stour\", \"Foula\", \"Eshaness\", \"Uyea\", \"Gruney\", \"Fair Isle\"],\n",
    "    \"Area\": [207.7, 1570, 1588, 125.7, 353.4, 931, 1616, 1317, 614, 60.12, 1273, 595.7, 105.6, 241.9, 111.1, 302.4, 808.9, 2927, 1069, 898.2, 564.8, 3957],\n",
    "    \"Population\": [311, 3872, 495, 134, 485, 372, 284, 10767, 1975, 970, 3243, 500, 250, 925, 970, 278, 1036, 5570, 2430, 731, 1364, 17000]\n",
    "}\n",
    "\n",
    "df = pd.DataFrame(data)\n",
    "\n",
    "X = np.log(df[\"Area\"]).values.reshape(-1,1)\n",
    "y = df[\"Population\"]\n",
    "\n",
    "model = LinearRegression()\n",
    "model.fit(X, y)\n",
    "y_pred = model.predict(X)\n",
    "\n",
    "# regression line\n",
    "X_line = np.linspace(X.min(), X.max(), 100).reshape(-1,1)\n",
    "y_line = model.predict(X_line)\n",
    "\n",
    "\n",
    "plt.figure(figsize=(10,5))\n",
    "plt.scatter(X, y, label='Actual')\n",
    "plt.plot(X_line, y_line, color='red', label='Regression line')\n",
    "plt.xlabel(\"log Area\")\n",
    "plt.ylabel(\"Population\")\n",
    "\n",
    "plt.legend()\n",
    "\n",
    "\n"
   ]
  },
  {
   "cell_type": "markdown",
   "id": "cd79f58e",
   "metadata": {
    "id": "cd79f58e"
   },
   "source": [
    "## **5.2 Short answer:** Performance Analysis *(5 pts)*"
   ]
  },
  {
   "cell_type": "markdown",
   "id": "d54ed0c9",
   "metadata": {
    "id": "d54ed0c9"
   },
   "source": [
    "**Question**: Based on your result from question 5.1 how well does your regression model explains the data? If you had a large island, to what extent would you trust the prediction\n",
    "produced by this regression? If you had a small island, would you trust the answer more? Why?"
   ]
  },
  {
   "cell_type": "markdown",
   "id": "21b6b7ad",
   "metadata": {
    "id": "21b6b7ad"
   },
   "source": [
    "Write your answer in this block\n",
    "\n",
    "**Answer:**\n",
    "The model does not explain the data well because there are two outliers when the area is large, which influence the regression line. So if we had a large island, we would not trust the prediction because the model is not reliable. If we had a small island, we would trust the answer more because the model is more likely to be accurate."
   ]
  },
  {
   "cell_type": "markdown",
   "id": "395864b6",
   "metadata": {
    "id": "395864b6"
   },
   "source": [
    "## **5.3 Code:** Plotting regression model without outliers *(5 pts)*"
   ]
  },
  {
   "cell_type": "markdown",
   "id": "09e51ce5",
   "metadata": {
    "id": "09e51ce5"
   },
   "source": [
    "**Question**: Using the same 22 data points, fit a regression model while excluding the two most obvious outliers. You should includes **all 22 data points** in the final plot.\n"
   ]
  },
  {
   "cell_type": "markdown",
   "id": "b74f45b0",
   "metadata": {
    "id": "b74f45b0"
   },
   "source": [
    "You can use LinearRegression from Sklearn to fit a regression model."
   ]
  },
  {
   "cell_type": "code",
   "execution_count": 36,
   "id": "530ec9d5",
   "metadata": {
    "id": "530ec9d5"
   },
   "outputs": [
    {
     "data": {
      "text/plain": [
       "<matplotlib.legend.Legend at 0x2900d9220>"
      ]
     },
     "execution_count": 36,
     "metadata": {},
     "output_type": "execute_result"
    },
    {
     "data": {
      "image/png": "[encoded data removed]",
      "text/plain": [
       "<Figure size 720x360 with 1 Axes>"
      ]
     },
     "metadata": {
      "needs_background": "light"
     },
     "output_type": "display_data"
    }
   ],
   "source": [
    "from sklearn.linear_model import LinearRegression\n",
    "\n",
    "\n",
    "##Write your answer/code in this block\n",
    "# Include this part along with the generated plot in both your .py submission and .pdf submission!\n",
    "df_excluded = df[df[\"Population\"] <= 10000]\n",
    "\n",
    "X_train = np.log(df_excluded[\"Area\"].values.reshape(-1,1))\n",
    "y_train = df_excluded[\"Population\"]\n",
    "\n",
    "model = LinearRegression()\n",
    "model.fit(X_train, y_train)\n",
    "\n",
    "X_line = np.linspace(X_train.min(), X_train.max(), 100).reshape(-1,1)\n",
    "y_line = model.predict(X_line)\n",
    "\n",
    "plt.figure(figsize=(10,5))\n",
    "plt.scatter(X, y, label='Actual')\n",
    "plt.plot(X_line, y_line, color='red', label='Regression line')\n",
    "plt.xlabel(\"log Area\")\n",
    "plt.ylabel(\"Population\")\n",
    "plt.legend()\n"
   ]
  },
  {
   "cell_type": "markdown",
   "id": "25bf1e06",
   "metadata": {
    "id": "25bf1e06"
   },
   "source": [
    "## **5.4 Short answer:** Comparing linear regression models *(5 pts)*"
   ]
  },
  {
   "cell_type": "markdown",
   "id": "6f530628",
   "metadata": {
    "id": "6f530628"
   },
   "source": [
    "**Question**:  Compare the plots from questions 5.1 and 5.2. Based on your linear regression result from question 5.2, which excludes two likely outliers, would you trust the predictions of this regression model more? Why or why not?"
   ]
  },
  {
   "cell_type": "markdown",
   "id": "89da4888",
   "metadata": {
    "id": "89da4888"
   },
   "source": [
    "Write your answer in this block\n",
    "\n",
    "**Answer:**\n",
    "The plot from question 5.2 looks more reasonable because it excludes the two outliers. We would trust the predictions of this regression model more because it is more reliable without the influence of outliers. The model is more likely to be accurate."
   ]
  },
  {
   "cell_type": "markdown",
   "id": "eff1e2ac",
   "metadata": {
    "id": "eff1e2ac"
   },
   "source": [
    "**Congrats! You have reached to the end of Pset3**"
   ]
  }
 ],
 "metadata": {
  "colab": {
   "provenance": []
  },
  "hide_input": false,
  "kernelspec": {
   "display_name": "Python 3 (ipykernel)",
   "language": "python",
   "name": "python3"
  },
  "language_info": {
   "codemirror_mode": {
    "name": "ipython",
    "version": 3
   },
   "file_extension": ".py",
   "mimetype": "text/x-python",
   "name": "python",
   "nbconvert_exporter": "python",
   "pygments_lexer": "ipython3",
   "version": "3.9.13"
  },
  "toc": {
   "base_numbering": 1,
   "nav_menu": {},
   "number_sections": true,
   "sideBar": true,
   "skip_h1_title": false,
   "title_cell": "Table of Contents",
   "title_sidebar": "Contents",
   "toc_cell": false,
   "toc_position": {
    "height": "calc(100% - 180px)",
    "left": "10px",
    "top": "150px",
    "width": "326.2px"
   },
   "toc_section_display": true,
   "toc_window_display": true
  }
 },
 "nbformat": 4,
 "nbformat_minor": 5
}
