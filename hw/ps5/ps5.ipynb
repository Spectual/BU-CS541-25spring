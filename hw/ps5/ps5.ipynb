{
 "cells": [
  {
   "cell_type": "markdown",
   "id": "RtyaMANFEZKH",
   "metadata": {
    "id": "RtyaMANFEZKH"
   },
   "source": [
    "# CS541: Applied Machine Learning, Spring 2025, Problem Set 5\n",
    "\n",
    "### _Note: Do not delete or add blocks, do not change the function names. If you do this the autograder won't run properly and you might get a 0. Avoid using global variables inside your function. Failing to define your variables correctly could result in a score of 0._\n",
    "\n",
    "\n",
    "Problem set 5 is due in Gradescope on **Apr 29th at 11:59pm**.\n",
    "All the questions are in this jupyter notebook file. There are four questions in this assignment, each of which could have multiple parts and consists of a mix of coding and short answer questions. This assignment is worth a total of **95 points** (**52.5 pts** coding, and **42.5 pts** short answer).\n",
    "\n",
    "After completing these questions you will need to covert this notebook into a .py file named **ps5.py** and a pdf file named **ps5.pdf** in order to submit it (details below).\n",
    "\n",
    "\n",
    "**Submission instructions:** please upload your completed solution files to Gradescope by the due date. **Make sure you have run all code cells and rendered all markdown/Latex without any errors.**\n",
    "\n",
    "There will be three separate submission links for the assignment:\n",
    "1. Submit **ps5.py** to `PS5-Code`\n",
    "2. Submit **ONLY your typed code** to `PS5-Typed Code`.\n",
    "  + The .py file should contain **ONLY your typed code** (Do not include any other code apart from what you coded for the assignment).\n",
    "  + The .py should not contain any written answers. Only the code you wrote.\n",
    "  + If your typed code falls under a function definition thats predefined by us, **ONLY include your typed code** and nothing else.\n",
    "  + For each cell block within colab/jupyter that you typed your ocde in, Add 2 new lines (\"\\n\") before pasting your typed code in the .py file.\n",
    "  + Please name the .py file your actual name.\n",
    "\n",
    "3. Submit a single `.pdf` report that contains your work for all written questions to `PS5`. You can type your responses in LaTeX, or any other word processing software.  You can also hand write them on a tablet, or scan in hand-written answers. If you hand-write, please make sure they are neat and legible. If you are scanning, make sure that the scans are legible. Lastly, convert your work into a `PDF`. You can use Jupyter Notebook to convert the formats:\n",
    "  + Convert to PDF file: Go to File->Download as->PDF\n",
    "  + Convert py file: Go to File->Download as->py\\\n",
    "You can take a look at an example [here](https://raw.githubusercontent.com/chaudatascience/cs599_fall2022/master/ps1/convert_py.gif)\n",
    "\n",
    "  Your written responses in the PDF report should be self-contained. It should include all the output you want us to look at. **You will not receive credit for any results you have obtained, but failed to include directly in the PDF report file.  Please tag the reponses in your PDF with the Gradescope questions outline  as described in [Submitting an Assignment](https://youtu.be/u-pK4GzpId0). Failure to follow these instructions will result in a loss of points.**\n",
    "\n",
    "  \n",
    "\n"
   ]
  },
  {
   "cell_type": "markdown",
   "id": "a636aea4",
   "metadata": {
    "id": "a636aea4"
   },
   "source": [
    "**Assignment Setup**\n",
    "\n",
    "You are strongly encouraged to use [Google Colab](https://colab.research.google.com/) for this assignment.\n",
    "\n",
    "If you would prefer to setup your code locally on your own machine, you will need [Jupyter Notebook](https://jupyter.org/install#jupyter-notebook) or [JupyterLab](https://jupyter.org/install#jupyterlab) installation. One way to set it up is to install “Anaconda” distribution, which has Python (you should install python version >= 3.9 as this notebook is tested with python 3.9), several libraries including the Jupyter Notebook that we will use in class. It is available for Windows, Linux, and Mac OS X [here](https://docs.conda.io/en/latest/miniconda.html).\n",
    "\n",
    "If you are not familiar with Jupyter Notebook, you can follow [this blog](https://realpython.com/jupyter-notebook-introduction/) for an introduction.  After developing your code using Jupyter, you are encouraged to test it on Google Colab to ensure it works in both settings.\n",
    "\n",
    "\n",
    "You cannot use packages other than the ones already imported in this assignment."
   ]
  },
  {
   "cell_type": "markdown",
   "id": "49330a02",
   "metadata": {
    "id": "49330a02"
   },
   "source": [
    "**Jupyter Tip 1**: To run a cell, press `Shift+Enter` or click on \"play\" button above. To edit any code or text cell [double] click on its content. To change cell type, choose \"Markdown\" or \"Code\" in the drop-down menu above."
   ]
  },
  {
   "cell_type": "markdown",
   "id": "137191ca",
   "metadata": {
    "id": "137191ca"
   },
   "source": [
    "**Jupyter Tip 2**: Use shortcut \"Shift + Tab\" to show the documentation of a function in Jupyter Notebook/ Jupterlab. Press Shift then double Tab (i.e., press Tab twice) to show the full documentation.\\\n",
    "For example, type `sum(` then Shift + Tab to show the documentation for the function, as shown in this the picture below."
   ]
  },
  {
   "cell_type": "code",
   "execution_count": 1,
   "id": "557d9f4e",
   "metadata": {
    "id": "557d9f4e"
   },
   "outputs": [],
   "source": [
    "## import some libraries\n",
    "import numpy as np\n",
    "from typing import Tuple, List, Dict\n",
    "import pandas as pd\n",
    "import matplotlib\n",
    "import matplotlib.pyplot as plt\n",
    "from collections import namedtuple\n",
    "from IPython.display import display\n",
    "import random\n",
    "import torch\n",
    "import torch.nn as nn\n",
    "import torch.optim as optim\n",
    "from torchvision import datasets, transforms\n",
    "from torch.utils.data import DataLoader, Dataset"
   ]
  },
  {
   "cell_type": "markdown",
   "id": "283c5c3f",
   "metadata": {
    "id": "283c5c3f"
   },
   "source": [
    "# **Question 1.** Autoencoder (*45 total points*)"
   ]
  },
  {
   "cell_type": "markdown",
   "id": "281c0caf",
   "metadata": {
    "id": "281c0caf"
   },
   "source": [
    "In this question, you will build and train an autoencoder model using the MNIST dataset. The MNIST dataset is a collection grayscale images of handwritten digits ranging from 0 to 9 commonly used for image classification tasks.\n",
    "\n",
    "An autoencoder is a neural network that learns to compress the input data into a lower-dimensional representation (encoding) and then reconstruct it back to its original form (decoding). It consists of the following two major components:\n",
    "\n",
    "**Encoder**: compresses the input images into lower-dimensional representation.\n",
    "\n",
    "**Decoder**: takes the encoded representation and reconstructs an output as close as possible to the original input image.\n"
   ]
  },
  {
   "cell_type": "markdown",
   "id": "3a0b40e5",
   "metadata": {
    "id": "3a0b40e5"
   },
   "source": [
    "## **1.1 Code:** Data Transformation *(2.5 pts)*"
   ]
  },
  {
   "cell_type": "markdown",
   "id": "e0b87bc5",
   "metadata": {
    "id": "e0b87bc5"
   },
   "source": [
    "For the following sections, we will work on [MNIST](https://www.kaggle.com/datasets/hojjatk/mnist-dataset) dataset.\n",
    "\n",
    "\n",
    "\n",
    "First, let's download and preprocess the dataset"
   ]
  },
  {
   "cell_type": "code",
   "execution_count": 2,
   "id": "fc10a1e4",
   "metadata": {
    "id": "fc10a1e4"
   },
   "outputs": [],
   "source": [
    "def question_1_1() -> transforms.Compose:\n",
    "    \"\"\"\n",
    "    Create and return a transformation pipeline for image preprocessing.\n",
    "    \"\"\"\n",
    "    # Write your code in this block -----------------------------------------------------------\n",
    "\n",
    "    ## Step 1: Use transforms.Compose\n",
    "    # 1. resize images to 28x28 pixels.\n",
    "    # 2. convert the image to a PyTorch tensor.\n",
    "    transform = transforms.Compose([\n",
    "        transforms.Resize((28, 28)),  # Resize to 28x28\n",
    "        transforms.ToTensor(),        # Convert to Tensor\n",
    "    ])\n",
    "\n",
    "    ## Return the transformation pipeline\n",
    "    return transform\n",
    "    # End of your code -----------------------------------------------------------\n",
    "\n"
   ]
  },
  {
   "cell_type": "markdown",
   "id": "e5182760",
   "metadata": {
    "id": "e5182760"
   },
   "source": [
    "We will now create the dataloaders for training and testing."
   ]
  },
  {
   "cell_type": "code",
   "execution_count": 3,
   "id": "4756cc00",
   "metadata": {
    "colab": {
     "base_uri": "https://localhost:8080/"
    },
    "id": "4756cc00",
    "outputId": "e886545d-89dd-4190-c619-5b7b71c5c9f3"
   },
   "outputs": [
    {
     "name": "stderr",
     "output_type": "stream",
     "text": [
      "100%|██████████| 9.91M/9.91M [00:00<00:00, 16.5MB/s]\n",
      "100%|██████████| 28.9k/28.9k [00:00<00:00, 497kB/s]\n",
      "100%|██████████| 1.65M/1.65M [00:00<00:00, 3.96MB/s]\n",
      "100%|██████████| 4.54k/4.54k [00:00<00:00, 6.03MB/s]\n"
     ]
    }
   ],
   "source": [
    "\n",
    "# Load the MNIST dataset for training and testing using batch size of 16\n",
    "transform = question_1_1()\n",
    "train_dataset = datasets.MNIST(root='./data', train=True, transform=transform, download=True)\n",
    "test_dataset = datasets.MNIST(root='./data', train=False, transform=transform, download=True)\n",
    "\n",
    "train_loader = DataLoader(dataset=train_dataset, batch_size=16, shuffle=True)\n",
    "test_loader = DataLoader(dataset=test_dataset, batch_size=16, shuffle=False)\n"
   ]
  },
  {
   "cell_type": "markdown",
   "id": "5281f3f6",
   "metadata": {
    "id": "5281f3f6"
   },
   "source": [
    "## **1.2 Code:** Constructing Autoencoder *(5 pts)*"
   ]
  },
  {
   "cell_type": "code",
   "execution_count": 4,
   "id": "a703f677",
   "metadata": {
    "colab": {
     "base_uri": "https://localhost:8080/"
    },
    "id": "a703f677",
    "outputId": "18d714b7-7bb6-4f2d-b231-506297954e2a"
   },
   "outputs": [
    {
     "name": "stdout",
     "output_type": "stream",
     "text": [
      "Autoencoder(\n",
      "  (encoder): Sequential(\n",
      "    (0): Linear(in_features=784, out_features=128, bias=True)\n",
      "    (1): ReLU()\n",
      "    (2): Linear(in_features=128, out_features=64, bias=True)\n",
      "  )\n",
      "  (decoder): Sequential(\n",
      "    (0): Linear(in_features=64, out_features=128, bias=True)\n",
      "    (1): ReLU()\n",
      "    (2): Linear(in_features=128, out_features=784, bias=True)\n",
      "    (3): Sigmoid()\n",
      "  )\n",
      ")\n"
     ]
    }
   ],
   "source": [
    "import torch.nn as nn\n",
    "from torch import Tensor\n",
    "\n",
    "class Autoencoder(nn.Module):\n",
    "    def __init__(self, encoding_dim: int):\n",
    "\n",
    "        super().__init__()\n",
    "\n",
    "        # Write your code in this block -----------------------------------------------------------\n",
    "\n",
    "        # Initialize self.encoder and self.decoder based on the given output\n",
    "        # (note the dimension for in_features and out_features)\n",
    "\n",
    "        # Construct encoder using following steps:\n",
    "        # 1. Apply a linear layer with 784 input features and 128 output features.\n",
    "        # 2. Add a ReLU activation function.\n",
    "        # 3. Apply a second linear layer that reduces the representation from 128 features to encoding_dim\n",
    "\n",
    "        self.encoder = nn.Sequential(\n",
    "            nn.Linear(784,128),\n",
    "            nn.ReLU(),\n",
    "            nn.Linear(128, encoding_dim)\n",
    "        )\n",
    "\n",
    "        # Construct decoder using following steps:\n",
    "        # 1. Apply a linear layer with encoding_dim features and 128 output features.\n",
    "        # 2. Add a ReLU activation function.\n",
    "        # 3. Apply a second linear layer from 128 features to 784 features\n",
    "        # 4. Apply a sigmoid layer.\n",
    "\n",
    "        self.decoder = nn.Sequential(\n",
    "            nn.Linear(encoding_dim, 128),\n",
    "            nn.ReLU(),\n",
    "            nn.Linear(128, 784),\n",
    "            nn.Sigmoid()\n",
    "        )\n",
    "\n",
    "    def forward(self, x: Tensor) -> Tensor:\n",
    "        \"\"\"\n",
    "        Forward pass for the autoencoder.\n",
    "        x: Input tensor of shape (batch_size, 1, 28, 28).\n",
    "        Returns the reconstructed tensor of the same shape (batch_size, 1, 28, 28)..\n",
    "        \"\"\"\n",
    "        # Flatten the input image to shape (batch_size,28*28)\n",
    "        batch_size = x.size(0)\n",
    "        x = x.view(batch_size, -1)\n",
    "\n",
    "        x = self.encoder(x)\n",
    "        x = self.decoder(x)\n",
    "\n",
    "        x = x.view(batch_size, 1, 28, 28)\n",
    "        return x\n",
    "\n",
    "\n",
    "        # End of your code ------------------------------------------------------------------------\n",
    "\n",
    "# Example of instantiating the model\n",
    "encoding_dim = 64\n",
    "model = Autoencoder(encoding_dim)\n",
    "print(model)"
   ]
  },
  {
   "cell_type": "markdown",
   "id": "b1274691",
   "metadata": {
    "id": "b1274691"
   },
   "source": [
    "For training we need to first create `model` and set its device. We will use GPU if it's available, otherwise CPU.  For `optimizer` we will use Adam and set the initial learning rate as 0.001."
   ]
  },
  {
   "cell_type": "code",
   "execution_count": 5,
   "id": "fa87918c",
   "metadata": {
    "id": "fa87918c"
   },
   "outputs": [],
   "source": [
    "device = torch.device(\"cuda\" if torch.cuda.is_available() else \"cpu\")\n",
    "encoding_dim = 64\n",
    "model = Autoencoder(encoding_dim).to(device)\n",
    "optimizer = optim.Adam(model.parameters(), lr=0.001)"
   ]
  },
  {
   "cell_type": "markdown",
   "id": "3311df93",
   "metadata": {
    "id": "3311df93"
   },
   "source": [
    "## **1.3 Code:** Training Autoencoder *(5 pts)*"
   ]
  },
  {
   "cell_type": "markdown",
   "id": "6a078060",
   "metadata": {
    "id": "6a078060"
   },
   "source": [
    "Now, let us write the function to train an autoencoder model."
   ]
  },
  {
   "cell_type": "code",
   "execution_count": 6,
   "id": "f4043e75",
   "metadata": {
    "id": "f4043e75"
   },
   "outputs": [],
   "source": [
    "def question_1_3(model: nn.Module, dataloader: DataLoader, criterion, optimizer, epochs) -> None:\n",
    "    \"\"\"\n",
    "    Train an autoencoder model on a given dataset.\n",
    "\n",
    "    Args:\n",
    "    - model (nn.Module): The autoencoder model to be trained\n",
    "    - dataloader (DataLoader): Dataloader for trianing\n",
    "    - criterion: Loss function\n",
    "    - optimizer: Optimizer\n",
    "    - epochs: NUmber of trianing epochs\n",
    "\n",
    "    \"\"\"\n",
    "\n",
    "\n",
    "    # Write your code in this block -----------------------------------------------------------\n",
    "    ## Set training mode\n",
    "    model.train()\n",
    "\n",
    "    ## Loop through each epoch\n",
    "    for epoch in range(epochs):\n",
    "        total_loss = 0.0\n",
    "        for images, _ in dataloader:\n",
    "            images = images.to(device)\n",
    "\n",
    "            # Forward pass\n",
    "            reconstructed_images = model(images)\n",
    "\n",
    "            # Zero the gradients, backpropagate, and update the weights\n",
    "            optimizer.zero_grad()\n",
    "            loss = criterion(reconstructed_images, images)\n",
    "            loss.backward()\n",
    "            optimizer.step()\n",
    "\n",
    "            # Update the loss\n",
    "            total_loss += loss.item()\n",
    "\n",
    "\n",
    "        # Compute average loss over the epoch  and print out the loss\n",
    "        avg_loss = total_loss / len(dataloader)\n",
    "        print(f\"Epoch [{epoch+1}/{epochs}], Loss: {avg_loss:.4f}\")\n",
    "    # End of your code ------------------------------------------------------------------------\n"
   ]
  },
  {
   "cell_type": "markdown",
   "id": "7fd2c740",
   "metadata": {
    "id": "7fd2c740"
   },
   "source": [
    "## **1.4 Short answer:**  Deciding Loss Function *(2.5 pts)*"
   ]
  },
  {
   "cell_type": "markdown",
   "id": "708a4d55",
   "metadata": {
    "id": "708a4d55"
   },
   "source": [
    "When training the model, experiment with different loss functions as the criterion. Choose the most suitable loss function for the task and explain why it is the best choice."
   ]
  },
  {
   "cell_type": "code",
   "execution_count": 7,
   "id": "ea241923",
   "metadata": {
    "id": "ea241923"
   },
   "outputs": [],
   "source": [
    "# Write your code in this block -----------------------------------------------------------\n",
    "# invoke question_1_3 here, try out at least 2 loss functions, and leave one for the test set below\n",
    "\n",
    "criterion = nn.BCELoss()\n",
    "\n",
    "train_model = question_1_3"
   ]
  },
  {
   "cell_type": "markdown",
   "id": "aefa2556",
   "metadata": {
    "id": "aefa2556"
   },
   "source": [
    "Write your answer in this block\n",
    "\n",
    "**Answer:**\n",
    "I have experimented with different loss functions such as Mean Squared Error (MSE) and Binary Cross-Entropy (BCE). The most suitable loss function for the task is BCE. Because the task is MNIST digit reconstruction, which involves binary pixel values (0 or 1). BCE is more appropriate for binary classification tasks, as it measures the difference between the predicted and actual binary values. MSE, on the other hand, is more suitable for regression tasks where the output can take continuous values.\n",
    "From the visualization below we can see that within 10 epoches the output image is very close to the input image using BCE. However using MSE the output images are more like noise."
   ]
  },
  {
   "cell_type": "markdown",
   "id": "789e3086",
   "metadata": {
    "id": "789e3086"
   },
   "source": [
    "Now, let us evaluate the performance of the autoencoder using the test set."
   ]
  },
  {
   "cell_type": "code",
   "execution_count": 8,
   "id": "05ead8d9",
   "metadata": {
    "id": "05ead8d9"
   },
   "outputs": [],
   "source": [
    "def evaluate_model(model: nn.Module, dataloader: DataLoader) -> float:\n",
    "    \"\"\"\n",
    "    Evaluate an autoencoder model on a given dataset.\n",
    "\n",
    "    Args:\n",
    "    - model (nn.Module): The autoencoder model to be evaluated\n",
    "    - dataloader (DataLoader): Dataloader for evaluation\n",
    "\n",
    "    Returns:\n",
    "    - float: Average loss over the evaluation dataset\n",
    "    \"\"\"\n",
    "\n",
    "    ## Set the model to evaluation mode\n",
    "    model.eval()\n",
    "    total_loss = 0.0\n",
    "\n",
    "    ## Disable gradient calculation\n",
    "    with torch.no_grad():\n",
    "        for images, _ in dataloader:\n",
    "            images = images.to(device)\n",
    "            outputs = model(images)\n",
    "            loss = criterion(outputs, images)\n",
    "\n",
    "    # Calculate total_loss\n",
    "            total_loss += loss.item()\n",
    "\n",
    "    # Calculate average loss over the entire evaluation dataset and print out the loss\n",
    "    avg_loss = total_loss / len(dataloader)\n",
    "    print(f\"Test Loss: {avg_loss:.4f}\")\n",
    "\n",
    "\n",
    "\n",
    "    return avg_loss\n"
   ]
  },
  {
   "cell_type": "code",
   "execution_count": null,
   "id": "e285359e",
   "metadata": {
    "id": "e285359e",
    "outputId": "3cffb4f6-440b-4972-f8a2-27588abb9126"
   },
   "outputs": [
    {
     "name": "stdout",
     "output_type": "stream",
     "text": [
      "Epoch [1/5], Loss: 0.1287\n",
      "Epoch [2/5], Loss: 0.0888\n",
      "Epoch [3/5], Loss: 0.0822\n",
      "Epoch [4/5], Loss: 0.0790\n",
      "Epoch [5/5], Loss: 0.0770\n",
      "Test Loss: 0.0756\n"
     ]
    },
    {
     "data": {
      "text/plain": [
       "0.07564237496852874"
      ]
     },
     "execution_count": 9,
     "metadata": {},
     "output_type": "execute_result"
    }
   ],
   "source": [
    "question_1_3(model, train_loader, criterion, optimizer, epochs=5)\n",
    "evaluate_model(model, test_loader)"
   ]
  },
  {
   "cell_type": "markdown",
   "id": "18f3da1e",
   "metadata": {
    "id": "18f3da1e"
   },
   "source": [
    "To visualize the performance of the current autoencoder run the following block:"
   ]
  },
  {
   "cell_type": "code",
   "execution_count": null,
   "id": "7202d745",
   "metadata": {
    "id": "7202d745",
    "outputId": "cc37173d-30f4-4e92-c720-73d539f0c183"
   },
   "outputs": [
    {
     "data": {
      "image/png": "[encoded data removed]",
      "text/plain": [
       "<Figure size 2500x400 with 20 Axes>"
      ]
     },
     "metadata": {},
     "output_type": "display_data"
    }
   ],
   "source": [
    "import matplotlib.pyplot as plt\n",
    "dataiter = iter(test_loader)\n",
    "images, labels = next(dataiter)\n",
    "\n",
    "images_flatten = images.view(images.size(0), -1)\n",
    "output = model(images_flatten)\n",
    "images = images.numpy()\n",
    "\n",
    "\n",
    "output = output.view(16, 1, 28, 28)\n",
    "output = output.detach().numpy()\n",
    "\n",
    "fig, axes = plt.subplots(nrows=2, ncols=10, sharex=True, sharey=True, figsize=(25, 4))\n",
    "\n",
    "row_titles = [\"Actual\", \"Predicted\"]\n",
    "for images_set, row, title in zip([images, output], axes, row_titles):\n",
    "    for img, ax in zip(images_set, row):\n",
    "        ax.imshow(np.squeeze(img), cmap='gray')\n",
    "        ax.set_title(title, fontsize=18)  # Set \"Actual\" or \"Predicted\" as title for each subfigure\n",
    "        ax.get_xaxis().set_visible(False)\n",
    "        ax.get_yaxis().set_visible(False)\n",
    "\n",
    "plt.tight_layout()\n",
    "plt.show()"
   ]
  },
  {
   "cell_type": "markdown",
   "id": "2abc9e82",
   "metadata": {
    "id": "2abc9e82"
   },
   "source": [
    "## **1.5 Short answer:** Adding Layers to Autoencoder *(10 pts)*\n",
    "Try **three** different ways of adding a layer to the encoder and a layer to the decoder and retrain it. Do they get better? Discuss what you learn from the results."
   ]
  },
  {
   "cell_type": "code",
   "execution_count": null,
   "id": "66cbbac6",
   "metadata": {
    "id": "66cbbac6",
    "outputId": "c6063a26-76c9-484d-fc90-4a76fd8e5b58"
   },
   "outputs": [
    {
     "name": "stdout",
     "output_type": "stream",
     "text": [
      "Autoencoder_new(\n",
      "  (encoder): Sequential(\n",
      "    (0): Linear(in_features=784, out_features=256, bias=True)\n",
      "    (1): ReLU()\n",
      "    (2): Linear(in_features=256, out_features=128, bias=True)\n",
      "    (3): ReLU()\n",
      "    (4): Linear(in_features=128, out_features=64, bias=True)\n",
      "  )\n",
      "  (decoder): Sequential(\n",
      "    (0): Linear(in_features=64, out_features=128, bias=True)\n",
      "    (1): ReLU()\n",
      "    (2): Linear(in_features=128, out_features=256, bias=True)\n",
      "    (3): ReLU()\n",
      "    (4): Linear(in_features=256, out_features=784, bias=True)\n",
      "    (5): Sigmoid()\n",
      "  )\n",
      ")\n",
      "Epoch [1/5], Loss: 0.1464\n",
      "Epoch [2/5], Loss: 0.1027\n",
      "Epoch [3/5], Loss: 0.0941\n",
      "Epoch [4/5], Loss: 0.0900\n",
      "Epoch [5/5], Loss: 0.0872\n",
      "Test Loss: 0.0868\n"
     ]
    },
    {
     "data": {
      "text/plain": [
       "0.08675663224458695"
      ]
     },
     "execution_count": 11,
     "metadata": {},
     "output_type": "execute_result"
    }
   ],
   "source": [
    "## -- ! code required --your solution(s)\n",
    "class Autoencoder_new(nn.Module):\n",
    "    def __init__(self, encoding_dim):\n",
    "        super(Autoencoder_new, self).__init__()\n",
    "\n",
    "        # Try different ways of adding layers to your encoder and decoder\n",
    "        self.encoder = nn.Sequential(\n",
    "        # Write your code in this block -----\n",
    "            # Way 1\n",
    "            nn.Linear(784, 256),\n",
    "            nn.ReLU(),\n",
    "            nn.Linear(256, 128),\n",
    "            nn.ReLU(),\n",
    "            nn.Linear(128, encoding_dim)\n",
    "\n",
    "            # Way 2\n",
    "            # nn.Linear(784, 128),\n",
    "            # nn.ReLU(),\n",
    "            # nn.Linear(128, 64),\n",
    "            # nn.ReLU(),\n",
    "            # nn.Linear(64, encoding_dim)\n",
    "\n",
    "            # Way 3\n",
    "            # nn.Linear(784, 512),\n",
    "            # nn.ReLU(),\n",
    "            # nn.Linear(512, 256),\n",
    "            # nn.ReLU(),\n",
    "            # nn.Linear(256, 128),\n",
    "            # nn.ReLU(),\n",
    "            # nn.Linear(128, encoding_dim)\n",
    "\n",
    "        # End of your code --------\n",
    "        )\n",
    "\n",
    "        self.decoder = nn.Sequential(\n",
    "        # Write your code in this block -----\n",
    "            # Way 1\n",
    "            nn.Linear(encoding_dim, 128),\n",
    "            nn.ReLU(),\n",
    "            nn.Linear(128, 256),\n",
    "            nn.ReLU(),\n",
    "            nn.Linear(256, 784),\n",
    "            nn.Sigmoid()\n",
    "\n",
    "            # Way 2\n",
    "            # nn.Linear(encoding_dim, 64),\n",
    "            # nn.ReLU(),\n",
    "            # nn.Linear(64, 128),\n",
    "            # nn.ReLU(),\n",
    "            # nn.Linear(128, 784),\n",
    "            # nn.Sigmoid()\n",
    "\n",
    "            # Way 3\n",
    "            # nn.Linear(encoding_dim, 256),\n",
    "            # nn.ReLU(),\n",
    "            # nn.Linear(256, 784),\n",
    "            # nn.Sigmoid()\n",
    "        # End of your code --------\n",
    "        )\n",
    "\n",
    "    def forward(self, x):\n",
    "        # Write your code in this block -----\n",
    "        batch_size = x.size(0)\n",
    "        x = x.view(batch_size, -1)\n",
    "\n",
    "        encoded = self.encoder(x)\n",
    "        decoded = self.decoder(encoded)\n",
    "\n",
    "        decoded = decoded.view(batch_size, 1, 28, 28)\n",
    "        # End of your code --------\n",
    "\n",
    "        return decoded\n",
    "\n",
    "\n",
    "encoding_dim = 64\n",
    "model_new = Autoencoder_new(encoding_dim)\n",
    "optimizer_new = optim.Adam(model_new.parameters(), lr=0.001)\n",
    "\n",
    "print(model_new)\n",
    "train_model(model_new, train_loader, criterion, optimizer_new, epochs=5)\n",
    "evaluate_model(model_new, test_loader)"
   ]
  },
  {
   "cell_type": "markdown",
   "id": "cb1d0823",
   "metadata": {
    "id": "cb1d0823"
   },
   "source": [
    "Write your answer in this block\n",
    "\n",
    "**Answer:**\n",
    "I tried three methods above to add an extra layer to the encoder and decoder. The original model is better. All three models had a test loss around 0.85, while the original model achieved a lower test loss of 0.75. This shows that adding layers made the models more complex but did not improve performance, and the simpler original model generalized better. And it could also be due to that the new model needs more epochs to converge."
   ]
  },
  {
   "cell_type": "markdown",
   "id": "18442466",
   "metadata": {
    "id": "18442466"
   },
   "source": [
    "## **1.6 Short answer:** Decoding Training Data *(10 pts)*"
   ]
  },
  {
   "cell_type": "markdown",
   "id": "8ca3e645",
   "metadata": {
    "id": "8ca3e645"
   },
   "source": [
    "Determine the mean and covariance of the samples from our training data. Now\n",
    "draw 10 random samples from a normal distribution with that mean and\n",
    "covariance, and feed these samples into the decoder. Do the results look\n",
    "like images?"
   ]
  },
  {
   "cell_type": "code",
   "execution_count": null,
   "id": "71f2a3d0",
   "metadata": {
    "id": "71f2a3d0",
    "outputId": "a779e175-4508-4568-96c5-34495161c8c9"
   },
   "outputs": [
    {
     "data": {
      "image/png": "[encoded data removed]",
      "text/plain": [
       "<Figure size 1500x200 with 10 Axes>"
      ]
     },
     "metadata": {},
     "output_type": "display_data"
    }
   ],
   "source": [
    "## -- ! code required --your solution(s)\n",
    "\n",
    "# Step 1: Collect samples from training data\n",
    "model.eval()\n",
    "all_latent_codes = []\n",
    "\n",
    "with torch.no_grad():\n",
    "    for images, _ in train_loader:\n",
    "        images = images.to(device)\n",
    "        batch_size = images.size(0)\n",
    "        images = images.view(batch_size, -1)\n",
    "        latent_codes = model.encoder(images)\n",
    "        all_latent_codes.append(latent_codes.cpu())\n",
    "\n",
    "all_latent_codes = torch.cat(all_latent_codes, dim=0)\n",
    "# Step 2: Calculate mean and covariance of the input samples\n",
    "mean = all_latent_codes.mean(dim=0)\n",
    "covariance = torch.from_numpy(np.cov(all_latent_codes.T.numpy()))\n",
    "\n",
    "# Step 3: Sample from the normal distribution with calculated mean and covariance\n",
    "num_samples = 10\n",
    "latent_samples = np.random.multivariate_normal(mean.numpy(), covariance.numpy(), num_samples)\n",
    "latent_samples = torch.from_numpy(latent_samples).float().to(device)\n",
    "\n",
    "# Step 4: Decode samples and visualize\n",
    "with torch.no_grad():\n",
    "    decoded_samples = model.decoder(latent_samples)\n",
    "    decoded_samples = decoded_samples.view(num_samples, 1, 28, 28).cpu()\n",
    "\n",
    "# Plot the generated images\n",
    "fig, axes = plt.subplots(1, num_samples, figsize=(15, 2))\n",
    "for i, ax in enumerate(axes):\n",
    "    ax.imshow(decoded_samples[i].squeeze(), cmap='gray')\n",
    "    ax.axis('off')\n",
    "plt.show()"
   ]
  },
  {
   "cell_type": "markdown",
   "id": "9cf92626",
   "metadata": {
    "id": "9cf92626"
   },
   "source": [
    "Write your answer in this block\n",
    "\n",
    "**Answer:**\n",
    "No they do not look like images."
   ]
  },
  {
   "cell_type": "markdown",
   "id": "8a73deab",
   "metadata": {
    "id": "8a73deab"
   },
   "source": [
    "## **1.7 Short answer:** Decoding using Mixture of Normals *(10 pts)*"
   ]
  },
  {
   "cell_type": "markdown",
   "id": "9e3b121b",
   "metadata": {
    "id": "9e3b121b"
   },
   "source": [
    "We will now model the images using a mixture of normals. For each digit class, determine the mean and covariance based on the training data.\n",
    "Your mixture distribution that samples evenly from the ten class distributions. Now draw 10 random samples from this mixture distribution,\n",
    "and feed these samples into the decoder. Do the results look like images?"
   ]
  },
  {
   "cell_type": "code",
   "execution_count": null,
   "id": "8845831d",
   "metadata": {
    "id": "8845831d",
    "outputId": "466f3f30-3237-4e70-a25c-569e2deb3406"
   },
   "outputs": [
    {
     "data": {
      "image/png": "[encoded data removed]",
      "text/plain": [
       "<Figure size 1500x200 with 10 Axes>"
      ]
     },
     "metadata": {},
     "output_type": "display_data"
    }
   ],
   "source": [
    "## -- ! code required --your solution(s)\n",
    "\n",
    "\n",
    "# Step 1: Calculate mean and covariance for each class\n",
    "model.eval()\n",
    "latent_codes_by_class = {i: [] for i in range(10)}\n",
    "\n",
    "with torch.no_grad():\n",
    "    for images, labels in train_loader:\n",
    "        images = images.to(device)\n",
    "        labels = labels.to(device)\n",
    "        batch_size = images.size(0)\n",
    "        images = images.view(batch_size, -1)\n",
    "        latent_codes = model.encoder(images)\n",
    "\n",
    "        for i in range(batch_size):\n",
    "            label = labels[i].item()\n",
    "            latent_codes_by_class[label].append(latent_codes[i].cpu())\n",
    "\n",
    "# Step 2: Calculate the mean and covariance for each class\n",
    "class_means = {}\n",
    "class_covariances = {}\n",
    "\n",
    "for label in range(10):\n",
    "    latent_tensor = torch.stack(latent_codes_by_class[label], dim=0)\n",
    "    mean = latent_tensor.mean(dim=0)\n",
    "    covariance = torch.from_numpy(np.cov(latent_tensor.T.numpy()))\n",
    "    class_means[label] = mean\n",
    "    class_covariances[label] = covariance\n",
    "\n",
    "# Step 3: Create the mixture model and draw the samples\n",
    "samples = []\n",
    "num_samples = 10\n",
    "\n",
    "for _ in range(num_samples):\n",
    "    random_class = np.random.choice(10)\n",
    "\n",
    "    sampled = np.random.multivariate_normal(\n",
    "        class_means[random_class].numpy(),\n",
    "        class_covariances[random_class].numpy()\n",
    "    )\n",
    "    samples.append(sampled)\n",
    "\n",
    "samples = torch.from_numpy(np.stack(samples)).float().to(device)\n",
    "\n",
    "with torch.no_grad():\n",
    "    generated_images = model.decoder(samples)\n",
    "    generated_images = generated_images.view(-1, 1, 28, 28).cpu()\n",
    "\n",
    "# Plot the generated images\n",
    "fig, axes = plt.subplots(1, num_samples, figsize=(15, 2))\n",
    "for i, ax in enumerate(axes):\n",
    "    ax.imshow(generated_images[i].squeeze(), cmap='gray')\n",
    "    ax.axis('off')\n",
    "plt.show()"
   ]
  },
  {
   "cell_type": "markdown",
   "id": "4009ec27",
   "metadata": {
    "id": "4009ec27"
   },
   "source": [
    "Write your answer in this block\n",
    "\n",
    "**Answer:**\n",
    "Yeah, they look like real digits."
   ]
  },
  {
   "cell_type": "markdown",
   "id": "7e773510",
   "metadata": {
    "id": "7e773510"
   },
   "source": [
    "# **Question 2.** Attention  (*25 total points*)"
   ]
  },
  {
   "cell_type": "markdown",
   "id": "c931e371",
   "metadata": {
    "id": "c931e371"
   },
   "source": [
    "In this question we will look at how we can apply the attention mechanism to a CNN model. We will reuse the MNIST dataset from question 1. In this question we will look at how using attention mechanism with a basic CNN network can affect the performance of our classification task."
   ]
  },
  {
   "cell_type": "markdown",
   "id": "a9328bec",
   "metadata": {
    "id": "a9328bec"
   },
   "source": [
    "## **2.1 Code:** Basic Attention *(10 pts)*"
   ]
  },
  {
   "cell_type": "markdown",
   "id": "198e2f90",
   "metadata": {
    "id": "198e2f90"
   },
   "source": [
    "In this question we will provide you with the BasicCNN network that you will work with."
   ]
  },
  {
   "cell_type": "markdown",
   "id": "fc577b4d",
   "metadata": {
    "id": "fc577b4d"
   },
   "source": [
    "Let us first look at how attention is calculated:"
   ]
  },
  {
   "cell_type": "markdown",
   "id": "c0a29579",
   "metadata": {
    "id": "c0a29579"
   },
   "source": [
    "![alt text](https://github.com/ellywang66/CS541/raw/main/attention.png)"
   ]
  },
  {
   "cell_type": "markdown",
   "id": "9244cd4c",
   "metadata": {
    "id": "9244cd4c"
   },
   "source": [
    "For the attention mechanism, the components $Q$, $K$, and $V$ represent the **query**, **key**, and **value** matrices, derived from the input data. Below is a breakdown of each step:\n",
    "\n",
    "- **$QK^T$**:computes a **similarity score matrix** by taking the dot product between each query and key vector. This matrix measures how each element (token) should focus on every other element in the input sequence.\n",
    "\n",
    "- **$\\sqrt{d_k}$**: Dividing by the square root of $d_k$ scales down the dot product values to stabilize the training process by preventing large values and avoid gradient explosion.\n",
    "\n",
    "- **softmax**: The softmax function is applied to the scaled similarity scores by converting each value into probability.\n",
    "\n",
    "- **$V$**: multiply attention weight by $V$ to compute the final attention output."
   ]
  },
  {
   "cell_type": "markdown",
   "id": "d725763b",
   "metadata": {
    "id": "d725763b"
   },
   "source": [
    "For basic attention it will attend to elements in one sequence based on their relevance to a specific context or query where 𝑄\n",
    " comes from the target sequence and 𝐾,𝑉 are from the source sequence.For this uestion we will simply let query be a **learnable parameter**."
   ]
  },
  {
   "cell_type": "code",
   "execution_count": 9,
   "id": "b83da69f",
   "metadata": {
    "id": "b83da69f"
   },
   "outputs": [],
   "source": [
    "# the BasicCNN model\n",
    "class BasicCNN(nn.Module):\n",
    "    def __init__(self):\n",
    "        super(BasicCNN, self).__init__()\n",
    "        self.conv1 = nn.Conv2d(1, 32, kernel_size=3, padding=1)\n",
    "        self.conv2 = nn.Conv2d(32, 64, kernel_size=3, padding=1)\n",
    "        self.pool = nn.MaxPool2d(2, 2)\n",
    "        self.fc1 = nn.Linear(64 * 7 * 7, 128)\n",
    "\n",
    "    def forward(self, x):\n",
    "        x = self.pool(torch.relu(self.conv1(x)))\n",
    "        x = self.pool(torch.relu(self.conv2(x)))\n",
    "        x = x.view(-1, 64 * 7 * 7)\n",
    "        x = torch.relu(self.fc1(x))\n",
    "        return x"
   ]
  },
  {
   "cell_type": "code",
   "execution_count": 10,
   "id": "a02f4055",
   "metadata": {
    "id": "a02f4055"
   },
   "outputs": [],
   "source": [
    "import torch\n",
    "import torch.nn as nn\n",
    "import torch.optim as optim\n",
    "\n",
    "# Complete SimpleAttention\n",
    "class BasicAttention(nn.Module):\n",
    "    def __init__(self, query_dim, key_dim, value_dim, output_dim):\n",
    "        super(BasicAttention, self).__init__()\n",
    "\n",
    "        ## TODO: initialize the query,key and value using linear layers where both the input and output dimension is 128.\n",
    "        self.query = nn.Linear(query_dim, output_dim)\n",
    "        self.key = nn.Linear(key_dim, output_dim)\n",
    "        self.value = nn.Linear(value_dim, output_dim)\n",
    "\n",
    "\n",
    "    def forward(self, query_input, key_input, value_input):\n",
    "        ## TODO: calculate Q, K, and V using  query_input, key_input, value_input.\n",
    "        Q = self.query(query_input)\n",
    "        K = self.key(key_input)\n",
    "        V = self.value(value_input)\n",
    "\n",
    "        #calculate attention score\n",
    "        attention_scores = torch.matmul(Q, K.transpose(-2, -1)) / (K.size(-1) ** 0.5)\n",
    "        attention_weights = torch.softmax(attention_scores, dim=-1)\n",
    "\n",
    "        # apply attention weights to V\n",
    "        output = torch.matmul(attention_weights, V)\n",
    "\n",
    "        #return attention output\n",
    "        return output\n",
    "\n",
    "\n",
    "class CNNWithBasicAttention(nn.Module):\n",
    "    def __init__(self):\n",
    "        super(CNNWithBasicAttention, self).__init__()\n",
    "        self.cnn = BasicCNN()\n",
    "        ## TODO: initialize self.attention where query, key, value and output dimension are all 128.\n",
    "        self.attention = BasicAttention(query_dim=128, key_dim=128, value_dim=128, output_dim=128)\n",
    "\n",
    "        # Initialize a learnable query vector for basic attention\n",
    "        self.query_vector = nn.Parameter(torch.randn(1, 128))\n",
    "\n",
    "        ## Initialize final fully connected layer for the classification head using linear layer.\n",
    "        self.fc = nn.Linear(128, 10)\n",
    "\n",
    "\n",
    "    def forward(self, x):\n",
    "         ## TODO: we will pass the input x through cnn followed by the attention layer and the fully connected layer\n",
    "        x = self.cnn(x)\n",
    "        x = x.unsqueeze(1)\n",
    "        attended = self.attention(self.query_vector, x, x)\n",
    "        attended = attended.squeeze(1)\n",
    "        x = self.fc(attended)\n",
    "        return x"
   ]
  },
  {
   "cell_type": "code",
   "execution_count": 11,
   "id": "dba5b6a1",
   "metadata": {
    "id": "dba5b6a1"
   },
   "outputs": [],
   "source": [
    "def train_model(model, train_loader, criterion, optimizer, epochs=5):\n",
    "    model.train()\n",
    "    for epoch in range(epochs):\n",
    "        running_loss = 0.0\n",
    "        for images, labels in train_loader:\n",
    "            optimizer.zero_grad()\n",
    "            outputs = model(images)\n",
    "            loss = criterion(outputs, labels)\n",
    "            loss.backward()\n",
    "            optimizer.step()\n",
    "            running_loss += loss.item()\n",
    "        print(f'Epoch {epoch+1}/{epochs}, Loss: {running_loss/len(train_loader):.4f}')\n",
    "\n",
    "\n",
    "def test_model(model, test_loader):\n",
    "    model.eval()\n",
    "    correct = 0\n",
    "    total = 0\n",
    "    with torch.no_grad():\n",
    "        for images, labels in test_loader:\n",
    "            outputs = model(images)\n",
    "            _, predicted = torch.max(outputs.data, 1)\n",
    "            total += labels.size(0)\n",
    "            correct += (predicted == labels).sum().item()\n",
    "    print(f'Test Accuracy: {100 * correct / total:.2f}%')"
   ]
  },
  {
   "cell_type": "markdown",
   "id": "de6156ed",
   "metadata": {
    "id": "de6156ed"
   },
   "source": [
    "We can now test the performance of our model"
   ]
  },
  {
   "cell_type": "code",
   "execution_count": null,
   "id": "384bcbc2",
   "metadata": {
    "id": "384bcbc2",
    "outputId": "30febffe-292f-418e-b91c-728286b39e16"
   },
   "outputs": [
    {
     "name": "stdout",
     "output_type": "stream",
     "text": [
      "Epoch 1/5, Loss: 0.1284\n",
      "Epoch 2/5, Loss: 0.0462\n",
      "Epoch 3/5, Loss: 0.0296\n",
      "Epoch 4/5, Loss: 0.0226\n",
      "Epoch 5/5, Loss: 0.0187\n",
      "Test Accuracy: 99.03%\n"
     ]
    }
   ],
   "source": [
    "# Train and evaluate the model\n",
    "model = CNNWithBasicAttention()\n",
    "criterion = nn.CrossEntropyLoss()\n",
    "optimizer = optim.Adam(model.parameters(), lr=0.001)\n",
    "train_model(model, train_loader, criterion, optimizer, epochs=5)\n",
    "test_model(model, test_loader)"
   ]
  },
  {
   "cell_type": "markdown",
   "id": "0b853349",
   "metadata": {
    "id": "0b853349"
   },
   "source": [
    "## **2.2 Code:** Self-Attention *(10 pts)*"
   ]
  },
  {
   "cell_type": "markdown",
   "id": "e6016a32",
   "metadata": {
    "id": "e6016a32"
   },
   "source": [
    "In self attention the attention score is computed solely based on the input sequence without additional learned parameters. The attention socre is computed solely based on the input sequence without any additional learned parameters."
   ]
  },
  {
   "cell_type": "code",
   "execution_count": 12,
   "id": "18a1bb15",
   "metadata": {
    "id": "18a1bb15"
   },
   "outputs": [],
   "source": [
    "\n",
    "\n",
    "# Step 2: Define a Self-Attention Layer\n",
    "class SelfAttention(nn.Module):\n",
    "    def __init__(self, input_dim):\n",
    "        super(SelfAttention, self).__init__()\n",
    "        ## TODO: initialize the query,key and value using linear layers where both the input and output dimension is 128.\n",
    "        self.query = nn.Linear(input_dim, input_dim)\n",
    "        self.key = nn.Linear(input_dim, input_dim)\n",
    "        self.value = nn.Linear(input_dim, input_dim)\n",
    "\n",
    "    def forward(self, x):\n",
    "        ## TODO: calculate Q, K, and V using  query_input, key_input, value_input.\n",
    "        Q = self.query(x)\n",
    "        K = self.key(x)\n",
    "        V = self.value(x)\n",
    "        # calculate attention score\n",
    "        attention_scores = torch.matmul(Q, K.transpose(-2, -1)) / (K.size(-1) ** 0.5)\n",
    "        # multiply attention scores by the value matrix\n",
    "        attention_weights = torch.softmax(attention_scores, dim=-1)\n",
    "        output = torch.matmul(attention_weights, V)\n",
    "        # return attention output\n",
    "        return output\n",
    "\n",
    "\n",
    "class CNNWithSelfAttention(nn.Module):\n",
    "    def __init__(self):\n",
    "        super(CNNWithSelfAttention, self).__init__()\n",
    "        self.cnn = BasicCNN()\n",
    "        ## TODO: initialize self.attention where the input dimension 128.\n",
    "        self.attention = SelfAttention(input_dim=128)\n",
    "        ## Initialize final fully connected layer for the classification head using linear layer.\n",
    "        self.fc = nn.Linear(128, 10)\n",
    "\n",
    "    def forward(self, x):\n",
    "         ## TODO: we will pass the input x through cnn followed by the attention layer and the fully connected layer\n",
    "        x = self.cnn(x)\n",
    "        x = x.unsqueeze(1)\n",
    "        attended = self.attention(x)\n",
    "        attended = attended.squeeze(1)\n",
    "        x = self.fc(attended)\n",
    "        return x\n",
    "\n",
    "\n",
    "\n",
    "\n",
    "\n",
    "# Instantiate and train the model\n",
    "model = CNNWithSelfAttention()\n",
    "criterion = nn.CrossEntropyLoss()\n",
    "optimizer = optim.Adam(model.parameters(), lr=0.001)\n"
   ]
  },
  {
   "cell_type": "code",
   "execution_count": null,
   "id": "067f59cf",
   "metadata": {
    "id": "067f59cf",
    "outputId": "d4eba6bc-029f-465f-fc17-d97b6b12e403"
   },
   "outputs": [
    {
     "name": "stdout",
     "output_type": "stream",
     "text": [
      "Epoch 1/5, Loss: 0.1346\n",
      "Epoch 2/5, Loss: 0.0474\n",
      "Epoch 3/5, Loss: 0.0335\n",
      "Epoch 4/5, Loss: 0.0246\n",
      "Epoch 5/5, Loss: 0.0206\n",
      "Test Accuracy: 98.91%\n"
     ]
    }
   ],
   "source": [
    "# Run training and testing\n",
    "train_model(model, train_loader, criterion, optimizer, epochs=5)\n",
    "test_model(model, test_loader)"
   ]
  },
  {
   "cell_type": "markdown",
   "id": "2d0ad02c",
   "metadata": {
    "id": "2d0ad02c"
   },
   "source": [
    "## **2.3 Short answer:** Basic attention vs self-attention *(5 pts)*\n",
    "\n",
    "Compare the performance of basic attention and self-attention. Which one do you think performs better and why?"
   ]
  },
  {
   "cell_type": "markdown",
   "id": "8f21885e",
   "metadata": {
    "id": "8f21885e"
   },
   "source": [
    "Write your answer in this block\n",
    "\n",
    "**Answer:**\n",
    "Basic attention performs better than self-attention with test accuracy of 99.03% and 98.91% respectively. This is because basic attention uses a learnable parameter for the query, allowing it to adapt to the specific context of the input data. In contrast, self-attention relies solely on the input sequence, which may not capture the same level of contextual information. As a result, basic attention can better focus on relevant features in the input data, leading to improved performance in classification tasks."
   ]
  },
  {
   "cell_type": "markdown",
   "id": "VVXtNkBGbRCp",
   "metadata": {
    "id": "VVXtNkBGbRCp"
   },
   "source": [
    "# **Question 3** : ViT *(20 points)*\n"
   ]
  },
  {
   "cell_type": "markdown",
   "id": "fTRknF8vCW6C",
   "metadata": {
    "id": "fTRknF8vCW6C"
   },
   "source": [
    "## **3.1 Code:** Multi-head self-attention *(10 pts)*\n",
    "Begin by implementing multiheaded self-attention. Do **not** use any `for` loops, and instead put all of the calculations into [batch matrix multiplications](https://pytorch.org/docs/stable/generated/torch.bmm.html) or [Linear layers](https://pytorch.org/docs/stable/generated/torch.nn.Linear.html).\n",
    "\n",
    "Useful references include the lecture slides and the [illustrated transformer](https://jalammar.github.io/illustrated-transformer/).\n"
   ]
  },
  {
   "cell_type": "code",
   "execution_count": 13,
   "id": "nERM0nQobT9y",
   "metadata": {
    "id": "nERM0nQobT9y"
   },
   "outputs": [],
   "source": [
    "from torch import nn\n",
    "import torch\n",
    "import math\n",
    "\n",
    "class MSA(nn.Module):\n",
    "  def __init__(self, input_dim, embed_dim, num_heads):\n",
    "    '''\n",
    "    input_dim: Dimension of input token embeddings\n",
    "    embed_dim: Dimension of internal key, query, and value embeddings\n",
    "    num_heads: Number of self-attention heads\n",
    "    '''\n",
    "\n",
    "    super().__init__()\n",
    "\n",
    "    self.input_dim = input_dim\n",
    "    self.embed_dim = embed_dim\n",
    "    self.num_heads = num_heads\n",
    "\n",
    "    ### Implement the variables\n",
    "\n",
    "    self.K_embed = nn.Linear(input_dim, embed_dim)\n",
    "    self.Q_embed = nn.Linear(input_dim, embed_dim)\n",
    "    self.V_embed = nn.Linear(input_dim, embed_dim)\n",
    "    self.out_embed = nn.Linear(embed_dim, embed_dim)\n",
    "\n",
    "    ### Code End\n",
    "\n",
    "  def forward(self, x):\n",
    "    '''\n",
    "    x: input of shape (batch_size, max_length, input_dim)\n",
    "    return: output of shape (batch_size, max_length, embed_dim)\n",
    "    '''\n",
    "\n",
    "    batch_size, max_length, given_input_dim = x.shape\n",
    "    assert given_input_dim == self.input_dim\n",
    "    assert max_length % self.num_heads == 0\n",
    "\n",
    "    # You shouldn't need to initialize any new modules. Everything you need is\n",
    "    # already in __init__\n",
    "\n",
    "    # HINT: If you're stuck on how to handle multiple heads without for loops, try to\n",
    "    # reshape matrix such that the batch_size is num_heads * batch_size\n",
    "    # e.g. if you have two heads, you'd be doing self-attention twice per instance\n",
    "    # in the batch, so you essentially have batch_size * 2\n",
    "\n",
    "    # HINT 2: Feel free to reference: https://d2l.ai/chapter_attention-mechanisms-and-transformers/multihead-attention.html\n",
    "    # although make sure you understand what each command does\n",
    "\n",
    "    # this implementation projects KQV before splitting into multiple heads\n",
    "    # but you can also split into multiple heads first\n",
    "\n",
    "    # compute KQV as a whole, embedding and\n",
    "    x = x.reshape(batch_size * max_length, -1)\n",
    "    K = self.K_embed(x).reshape(batch_size, max_length, self.embed_dim) # (batch_size, max_length, embed_dim)\n",
    "    Q = self.Q_embed(x).reshape(batch_size, max_length, self.embed_dim)\n",
    "    V = self.V_embed(x).reshape(batch_size, max_length, self.embed_dim)\n",
    "\n",
    "\n",
    "    indiv_dim = self.embed_dim // self.num_heads\n",
    "\n",
    "\n",
    "    ## Implement the variables\n",
    "    # TODO: split each KQV into heads, by reshaping each into (batch_size, max_length, self.num_heads, indiv_dim)\n",
    "    K = self.K_embed(x).reshape(batch_size, max_length, self.num_heads, indiv_dim)\n",
    "    Q = self.Q_embed(x).reshape(batch_size, max_length, self.num_heads, indiv_dim)\n",
    "    V = self.V_embed(x).reshape(batch_size, max_length, self.num_heads, indiv_dim)\n",
    "\n",
    "    K = K.permute(0, 2, 1, 3) # (batch_size, num_heads, max_length, embed_dim / num_heads)\n",
    "    Q = Q.permute(0, 2, 1, 3)\n",
    "    V = V.permute(0, 2, 1, 3)\n",
    "\n",
    "\n",
    "    ## Implement the variables\n",
    "\n",
    "    K = K.reshape(batch_size * self.num_heads, max_length, indiv_dim)\n",
    "    Q = Q.reshape(batch_size * self.num_heads, max_length, indiv_dim)\n",
    "    V = V.reshape(batch_size * self.num_heads, max_length, indiv_dim)\n",
    "\n",
    "    # transpose and batch matrix multiply\n",
    "    K_T = K.permute(0, 2, 1) # This is our K transposed so we can do a simple batched matrix multiplication (see torch.bmm for more details and the quick solution)\n",
    "    QK = torch.bmm(Q, K_T) # TODO: Compute the weights before dividing by square root of d (batch_size * num_heads, max_length, max_length)\n",
    "\n",
    "    weights = QK / math.sqrt(indiv_dim)\n",
    "    weights = torch.softmax(weights, dim=-1)\n",
    "\n",
    "    # TODO get weighted average... see torch.bmm for a one line solution\n",
    "    w_V = torch.bmm(weights, V) # weights is (batch_size * num_heads, max_length, max_length) and V is (batch_size * self.num_heads, max_length, indiv_dim), so we want the matrix multiple of weights @ V\n",
    "\n",
    "    # rejoin heads\n",
    "    w_V = w_V.reshape(batch_size, self.num_heads, max_length, indiv_dim)\n",
    "    w_V = w_V.permute(0, 2, 1, 3) # (batch_size, max_length, num_heads, embed_dim / num_heads)\n",
    "    w_V = w_V.reshape(batch_size, max_length, self.embed_dim)\n",
    "\n",
    "    out = self.out_embed(w_V)\n",
    "\n",
    "    return out\n"
   ]
  },
  {
   "cell_type": "code",
   "execution_count": 14,
   "id": "ZmRNX2FZeYDZ",
   "metadata": {
    "id": "ZmRNX2FZeYDZ"
   },
   "outputs": [],
   "source": [
    "class CNNWithMSA(nn.Module):\n",
    "    def __init__(self):\n",
    "        super(CNNWithMSA, self).__init__()\n",
    "        self.cnn = BasicCNN()\n",
    "        ## TODO: initialize 1-head MSA where the input and embedding dimension 128.\n",
    "        self.self_attention = MSA(input_dim=128, embed_dim=128, num_heads=1)\n",
    "        ## Initialize final fully connected layer for the classification head using linear layer.\n",
    "        self.fc_final = nn.Linear(128, 10)\n",
    "\n",
    "    def forward(self, x):\n",
    "        ## TODO: we will pass the input x through cnn followed by the attention layer and the fully connected layer\n",
    "        ## Different from the above part, you may need to apply a trick to the variable by using unsqueeze() or squeeze().\n",
    "        x = self.cnn(x)\n",
    "        x = x.unsqueeze(1)\n",
    "        attended = self.self_attention(x)\n",
    "        attended = attended.squeeze(1)\n",
    "        x = self.fc_final(attended)\n",
    "\n",
    "\n",
    "        return x\n"
   ]
  },
  {
   "cell_type": "code",
   "execution_count": null,
   "id": "nBk6pTwGCx-9",
   "metadata": {
    "id": "nBk6pTwGCx-9",
    "outputId": "56929788-d4ad-4f22-d75f-3617b87b8ff8"
   },
   "outputs": [
    {
     "name": "stdout",
     "output_type": "stream",
     "text": [
      "Epoch 1/5, Loss: 0.1417\n",
      "Epoch 2/5, Loss: 0.0498\n",
      "Epoch 3/5, Loss: 0.0366\n",
      "Epoch 4/5, Loss: 0.0279\n",
      "Epoch 5/5, Loss: 0.0244\n",
      "Test Accuracy: 98.63%\n"
     ]
    }
   ],
   "source": [
    "# Instantiate and train the model\n",
    "model = CNNWithMSA()\n",
    "criterion = nn.CrossEntropyLoss()\n",
    "optimizer = optim.Adam(model.parameters(), lr=0.001)\n",
    "# Run training and testing\n",
    "train_model(model, train_loader, criterion, optimizer, epochs=5)\n",
    "test_model(model, test_loader)"
   ]
  },
  {
   "cell_type": "markdown",
   "id": "JXg5ZrtLba09",
   "metadata": {
    "id": "JXg5ZrtLba09"
   },
   "source": [
    "## **3.2 Code:** Implement the ViT architecture *(10 pts)*\n"
   ]
  },
  {
   "cell_type": "markdown",
   "id": "LbhoBUEsGWdO",
   "metadata": {
    "id": "LbhoBUEsGWdO"
   },
   "source": [
    "You will be implementing the ViT architecture based on the \"An image is worth 16x16 words\" paper.\n",
    "\n",
    "Although the ViT and Transformer architecture are very similar, note a few differences:\n",
    "\n",
    "1. Image patches instead of discrete tokens as input.\n",
    "2. [GELU](https://pytorch.org/docs/stable/generated/torch.nn.GELU.html) is used for the linear layers in the transformer layer (instead of ReLU)\n",
    "3. LayerNorm before the sublayer instead of after.\n",
    "4. Dropout after every linear layer except for KQV projections and also directly after adding positional embeddings to the patch embeddings.\n",
    "5. Learnable [CLS] token at the beginning of the input.\n",
    "\n",
    "A useful reference is Figure 1 in the [paper](https://arxiv.org/pdf/2010.11929.pdf)."
   ]
  },
  {
   "cell_type": "markdown",
   "id": "U0wnlC6NbdGy",
   "metadata": {
    "id": "U0wnlC6NbdGy"
   },
   "source": [
    "First, implement a single layer:"
   ]
  },
  {
   "cell_type": "code",
   "execution_count": 15,
   "id": "nBNICyUJbYY_",
   "metadata": {
    "id": "nBNICyUJbYY_"
   },
   "outputs": [],
   "source": [
    "class ViTLayer(nn.Module):\n",
    "  def __init__(self, num_heads, input_dim, embed_dim, mlp_hidden_dim, dropout=0.1):\n",
    "    '''\n",
    "    num_heads: Number of heads for multi-head self-attention\n",
    "    embed_dim: Dimension of internal key, query, and value embeddings\n",
    "    mlp_hidden_dim: Hidden dimension of the linear layer\n",
    "    dropout: Dropout rate\n",
    "    '''\n",
    "\n",
    "    super().__init__()\n",
    "\n",
    "    self.input_dim = input_dim\n",
    "    self.msa = MSA(input_dim, embed_dim, num_heads)\n",
    "\n",
    "    self.layernorm1 = nn.LayerNorm(embed_dim)\n",
    "    self.w_o_dropout = nn.Dropout(dropout)\n",
    "    self.layernorm2 = nn.LayerNorm(embed_dim)\n",
    "    self.mlp = nn.Sequential(nn.Linear(embed_dim, mlp_hidden_dim),\n",
    "                              nn.GELU(),\n",
    "                              nn.Dropout(dropout),\n",
    "                              nn.Linear(mlp_hidden_dim, embed_dim),\n",
    "                              nn.Dropout(dropout))\n",
    "\n",
    "  def forward(self, x):\n",
    "    '''\n",
    "    x: input embeddings (batch_size, max_length, input_dim)\n",
    "    return: output embeddings (batch_size, max_length, embed_dim)\n",
    "    '''\n",
    "\n",
    "    # TODO: Fill in the code for the forward pass below\n",
    "    # You shouldn't need to initialize any more modules, everything you need is already\n",
    "    # in __init__\n",
    "    # A forward function consists of:\n",
    "    # 1) LayerNorm of x\n",
    "    x1 = self.layernorm1(x)\n",
    "    # 2) Self-Attention on output of 1)\n",
    "    attn1 = self.msa(x1)\n",
    "    # 3) Dropout\n",
    "    attn1 = self.w_o_dropout(attn1)\n",
    "    # 4) Residual w/ original x\n",
    "    attn1 = attn1 + x\n",
    "    # 5) LayerNorm\n",
    "    attn1 = self.layernorm2(attn1)\n",
    "    # 6) MLP\n",
    "    mlp_out = self.mlp(attn1)\n",
    "    # 7) Residual\n",
    "    output = mlp_out + attn1\n",
    "\n",
    "    return output\n"
   ]
  },
  {
   "cell_type": "markdown",
   "id": "qiCtiMSWbgHw",
   "metadata": {
    "id": "qiCtiMSWbgHw"
   },
   "source": [
    "A portion of the full network is already implemented for you. Your task is to implement the preprocessing code, converting raw images into patch embeddings + positional embeddings + dropout, with a learnable CLS token at the beginning of the input.\n",
    "\n",
    "Note that patch embeddings are to be added to positional embeddings elementwise, so the input embedding dimensions is size embed_dim."
   ]
  },
  {
   "cell_type": "code",
   "execution_count": 18,
   "id": "Od7ix4Y1beiw",
   "metadata": {
    "id": "Od7ix4Y1beiw"
   },
   "outputs": [],
   "source": [
    "class ViT(nn.Module):\n",
    "  def __init__(self, patch_dim, image_dim, num_layers, num_heads, embed_dim, mlp_hidden_dim, num_classes, dropout):\n",
    "    '''\n",
    "    patch_dim: patch length and width to split image by\n",
    "    image_dim: image length and width\n",
    "    num_layers: number of layers in network\n",
    "    num_heads: number of heads for multi-head attention\n",
    "    embed_dim: dimension to project images patches to and dimension to use for position embeddings\n",
    "    mlp_hidden_dim: hidden dimension of linear layer\n",
    "    num_classes: number of classes to classify in data\n",
    "    dropout: dropout rate\n",
    "    '''\n",
    "\n",
    "    super().__init__()\n",
    "    self.num_layers = num_layers\n",
    "    self.patch_dim = patch_dim\n",
    "    self.image_dim = image_dim\n",
    "    self.input_dim = self.patch_dim * self.patch_dim * 3\n",
    "    self.num_heads = num_heads\n",
    "\n",
    "    self.patch_embedding = nn.Linear(self.input_dim, embed_dim)\n",
    "    self.position_embedding = nn.Parameter(torch.zeros(1, (image_dim // patch_dim) ** 2 + 1, embed_dim))\n",
    "    self.cls_token = nn.Parameter(torch.zeros(1, 1, embed_dim))\n",
    "    self.embedding_dropout = nn.Dropout(dropout)\n",
    "\n",
    "    self.encoder_layers = nn.ModuleList([])\n",
    "    for i in range(num_layers):\n",
    "      self.encoder_layers.append(ViTLayer(num_heads, embed_dim, embed_dim, mlp_hidden_dim, dropout))\n",
    "\n",
    "    self.mlp_head = nn.Linear(embed_dim, num_classes)\n",
    "    self.layernorm = nn.LayerNorm(embed_dim)\n",
    "\n",
    "  def forward(self, images):\n",
    "    '''\n",
    "    images: raw image data (batch_size, channels, rows, cols)\n",
    "    '''\n",
    "\n",
    "    # Don't hardcode dimensions (except for maybe channels = 3), use the variables in __init__.\n",
    "    # You shouldn't need to add anything else to __init__, all of the embeddings,\n",
    "    # dropout etc. are already initialized for you.\n",
    "\n",
    "    # Put the preprocessed patches in variable \"out\" with shape (batch_size, length, embed_dim).\n",
    "\n",
    "    # HINT: You can make image patches with .reshape\n",
    "    # e.g.\n",
    "    # x = torch.ones((100, 100))\n",
    "    # x_patches = x.reshape(4, 25, 4, 25)\n",
    "    # where you have 4 * 4 patches with each patch being 25 by 25\n",
    "\n",
    "    h = w = self.image_dim // self.patch_dim\n",
    "    N = images.size(0)\n",
    "    images = images.reshape(N, 3, h, self.patch_dim, w, self.patch_dim)\n",
    "    images = torch.einsum(\"nchpwq -> nhwpqc\", images)\n",
    "    patches = images.reshape(N, h * w, self.input_dim) # (batch, num_patches_per_image, patch_size_unrolled)\n",
    "\n",
    "    patch_embeddings = self.patch_embedding(patches)\n",
    "    patch_embeddings = torch.cat([torch.tile(self.cls_token, (N, 1, 1)),\n",
    "                                  patch_embeddings], dim=1)\n",
    "    out = patch_embeddings + torch.tile(self.position_embedding, (N, 1, 1)) # We add positional embeddings to our tokens (not concatenated)\n",
    "    out = self.embedding_dropout(out) # TODO: Pass through our embedding dropout layer\n",
    "\n",
    "    # add padding s.t. input length is multiple of num_heads\n",
    "    add_len = (self.num_heads - out.shape[1]) % self.num_heads\n",
    "    out = torch.cat([out, torch.zeros(N, add_len, out.shape[2], device=out.device)], dim=1)\n",
    "\n",
    "    # TODO: Pass through each one of our encoder layers\n",
    "\n",
    "    for i in range(self.num_layers):\n",
    "      out = self.encoder_layers[i](out)\n",
    "\n",
    "    # Pop off and read our classification token we added, see what the value is\n",
    "    cls_head = out[:, 0, :]\n",
    "    logits = self.mlp_head(self.layernorm(cls_head))\n",
    "    return logits\n",
    "\n",
    "def get_vit_tiny(num_classes=10, patch_dim=4, image_dim=32):\n",
    "    return ViT(patch_dim=patch_dim, image_dim=image_dim, num_layers=12, num_heads=3,\n",
    "              embed_dim=192, mlp_hidden_dim=768, num_classes=num_classes, dropout=0.1)\n",
    "\n",
    "def get_vit_small(num_classes=10, patch_dim=4, image_dim=32):\n",
    "    return ViT(patch_dim=patch_dim, image_dim=image_dim, num_layers=12, num_heads=6,\n",
    "               embed_dim=384, mlp_hidden_dim=1536, num_classes=num_classes, dropout=0.1)"
   ]
  },
  {
   "cell_type": "markdown",
   "id": "EP53yZiYDdBc",
   "metadata": {
    "id": "EP53yZiYDdBc"
   },
   "source": [
    "## **3.3 Code & Short Answer**: Train ViT *(5 pts)*"
   ]
  },
  {
   "cell_type": "markdown",
   "id": "CK_zg8MObjgI",
   "metadata": {
    "id": "CK_zg8MObjgI"
   },
   "source": [
    "Now let's train the model!\n",
    "\n",
    "- Try to get 60%+ accuracy. Make sure to include the final printed accuracy in your PDF file! Otherwise, you won’t receive full points.\n",
    "- Briefly explain what you did to obtain the accuracy"
   ]
  },
  {
   "cell_type": "code",
   "execution_count": 19,
   "id": "8LysdRf5bhsJ",
   "metadata": {
    "colab": {
     "base_uri": "https://localhost:8080/"
    },
    "id": "8LysdRf5bhsJ",
    "outputId": "8398bd49-8a09-4ea1-9198-55f367c3ffbe"
   },
   "outputs": [
    {
     "name": "stdout",
     "output_type": "stream",
     "text": [
      "[ 1] train loss: 1.905 | train accuracy: 0.270 | test_loss: 1.669 | test_accuracy: 0.359\n",
      "[ 2] train loss: 1.616 | train accuracy: 0.388 | test_loss: 1.537 | test_accuracy: 0.442\n",
      "[ 3] train loss: 1.426 | train accuracy: 0.478 | test_loss: 1.363 | test_accuracy: 0.506\n",
      "[ 4] train loss: 1.288 | train accuracy: 0.535 | test_loss: 1.335 | test_accuracy: 0.527\n",
      "[ 5] train loss: 1.189 | train accuracy: 0.573 | test_loss: 1.162 | test_accuracy: 0.577\n",
      "[ 6] train loss: 1.106 | train accuracy: 0.606 | test_loss: 1.117 | test_accuracy: 0.611\n",
      "[ 7] train loss: 1.062 | train accuracy: 0.624 | test_loss: 1.081 | test_accuracy: 0.612\n",
      "[ 8] train loss: 1.009 | train accuracy: 0.642 | test_loss: 1.065 | test_accuracy: 0.638\n",
      "[ 9] train loss: 0.966 | train accuracy: 0.658 | test_loss: 0.953 | test_accuracy: 0.657\n",
      "[10] train loss: 0.918 | train accuracy: 0.674 | test_loss: 0.966 | test_accuracy: 0.658\n",
      "Finished Training\n"
     ]
    }
   ],
   "source": [
    "from torch.utils.data import DataLoader, Dataset\n",
    "import torchvision.transforms as transforms\n",
    "import torchvision\n",
    "import math\n",
    "import torch.optim as optim\n",
    "\n",
    "cifar10_mean = torch.tensor([0.49139968, 0.48215827, 0.44653124])\n",
    "cifar10_std = torch.tensor([0.24703233, 0.24348505, 0.26158768])\n",
    "\n",
    "class Cifar10Dataset(Dataset):\n",
    "    def __init__(self, train):\n",
    "        self.transform = transforms.Compose([\n",
    "                                                transforms.Resize(40),\n",
    "                                                transforms.RandomCrop(32),\n",
    "                                                transforms.RandomHorizontalFlip(),\n",
    "                                                transforms.ToTensor(),\n",
    "                                                transforms.Normalize(cifar10_mean, cifar10_std)\n",
    "                                            ])\n",
    "        self.dataset = torchvision.datasets.CIFAR10(root='./SSL-Vision/data',\n",
    "                                                    train=train,\n",
    "                                                    download=True)\n",
    "    def __len__(self):\n",
    "        return len(self.dataset)\n",
    "\n",
    "    def __getitem__(self, idx):\n",
    "        img, label = self.dataset[idx]\n",
    "        img = self.transform(img)\n",
    "        return img, label\n",
    "\n",
    "batch_size = 256\n",
    "\n",
    "def question_3_3():\n",
    "\n",
    "    trainset = Cifar10Dataset(True)\n",
    "    trainloader = trainloader = torch.utils.data.DataLoader(trainset, batch_size=batch_size, shuffle=True, num_workers=0)\n",
    "\n",
    "\n",
    "    testset = Cifar10Dataset(False)\n",
    "    testloader = torch.utils.data.DataLoader(testset, batch_size=batch_size, shuffle=False, num_workers=0)\n",
    "\n",
    "    classes = ('plane', 'car', 'bird', 'cat',\n",
    "                'deer', 'dog', 'frog', 'horse', 'ship', 'truck')\n",
    "\n",
    "    vit = get_vit_small()\n",
    "    vit = torch.nn.DataParallel(vit)\n",
    "\n",
    "    learning_rate = 3e-4\n",
    "    num_epochs = 10\n",
    "    warmup_fraction = 0.1\n",
    "    weight_decay = 0.05\n",
    "\n",
    "    total_steps = math.ceil(len(trainset) / batch_size) * num_epochs\n",
    "    total_steps = num_epochs\n",
    "    warmup_steps = total_steps * warmup_fraction\n",
    "    criterion = nn.CrossEntropyLoss()\n",
    "    optimizer = optim.AdamW(vit.parameters(), lr=learning_rate, weight_decay=weight_decay)\n",
    "\n",
    "    train_losses = []\n",
    "    test_losses = []\n",
    "    for epoch in range(num_epochs):\n",
    "        train_loss = 0.0\n",
    "        train_acc = 0.0\n",
    "        train_total = 0\n",
    "        vit.train()\n",
    "        for inputs, labels in trainloader:\n",
    "            \"\"\"TODO:\n",
    "            1. Set inputs and labels to be on device\n",
    "            2. zero out our gradients\n",
    "            3. pass our inputs through the ViT\n",
    "            4. pass our outputs / labels into our loss / criterion\n",
    "            5. backpropagate\n",
    "            6. step our optimizeer\n",
    "            \"\"\"\n",
    "            inputs = inputs.to(device)\n",
    "            labels = labels.to(device)\n",
    "\n",
    "            optimizer.zero_grad()\n",
    "            outputs = vit(inputs)\n",
    "            loss = criterion(outputs, labels.long())\n",
    "            loss.backward()\n",
    "            optimizer.step()\n",
    "\n",
    "            train_loss += loss.item() * inputs.shape[0]\n",
    "            train_acc += torch.sum((torch.argmax(outputs, dim=1) == labels)).item()\n",
    "            train_total += inputs.size(0)\n",
    "\n",
    "        train_loss = train_loss / train_total\n",
    "        train_acc = train_acc / train_total\n",
    "        train_losses.append(train_loss)\n",
    "\n",
    "        test_loss = 0.0\n",
    "        test_acc = 0.0\n",
    "        test_total = 0\n",
    "        vit.eval()\n",
    "        with torch.no_grad():\n",
    "            for inputs, labels in testloader:\n",
    "                inputs = inputs.to(device)\n",
    "                labels = labels.to(device)\n",
    "\n",
    "                outputs = vit(inputs)\n",
    "                loss = criterion(outputs, labels.long())\n",
    "\n",
    "                test_loss += loss.item() * inputs.shape[0]\n",
    "                test_acc += torch.sum((torch.argmax(outputs, dim=1) == labels)).item()\n",
    "                test_total += inputs.shape[0]\n",
    "        test_loss = test_loss / test_total\n",
    "        test_acc = test_acc / test_total\n",
    "        test_losses.append(test_loss)\n",
    "\n",
    "        print(f'[{epoch + 1:2d}] train loss: {train_loss:.3f} | train accuracy: {train_acc:.3f} | test_loss: {test_loss:.3f} | test_accuracy: {test_acc:.3f}')\n",
    "\n",
    "    print('Finished Training')\n",
    "question_3_3()"
   ]
  },
  {
   "cell_type": "markdown",
   "id": "eSChVMgzGIpF",
   "metadata": {
    "id": "eSChVMgzGIpF"
   },
   "source": [
    "Write your answer in this block\n",
    "\n",
    "**Answer:**\n",
    "Test Accuracy after training 10 epochs: 65.8%.\n",
    "I used the ViT-Small model with 12 transformer layers, 6 attention heads, and an embedding dimension of 384.\n",
    "I trained the model for 10 epochs and used AdamW optimizer with a learning rate of 3e-4 and a weight decay of 0.05.\n",
    "Within 10 epochs, the model behaves not great as CNN. This is due to that transformers are more data-hungry than CNNs, and they require more training data and epochs to generalize well. I believe with more epochs I can achieve better accuracy.\n"
   ]
  }
 ],
 "metadata": {
  "accelerator": "GPU",
  "colab": {
   "provenance": []
  },
  "hide_input": false,
  "kernelspec": {
   "display_name": "Python 3 (ipykernel)",
   "language": "python",
   "name": "python3"
  },
  "language_info": {
   "codemirror_mode": {
    "name": "ipython",
    "version": 3
   },
   "file_extension": ".py",
   "mimetype": "text/x-python",
   "name": "python",
   "nbconvert_exporter": "python",
   "pygments_lexer": "ipython3",
   "version": "3.9.13"
  },
  "toc": {
   "base_numbering": 1,
   "nav_menu": {},
   "number_sections": true,
   "sideBar": true,
   "skip_h1_title": false,
   "title_cell": "Table of Contents",
   "title_sidebar": "Contents",
   "toc_cell": false,
   "toc_position": {
    "height": "calc(100% - 180px)",
    "left": "10px",
    "top": "150px",
    "width": "279px"
   },
   "toc_section_display": true,
   "toc_window_display": true
  }
 },
 "nbformat": 4,
 "nbformat_minor": 5
}
